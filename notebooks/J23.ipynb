{
 "cells": [
  {
   "cell_type": "markdown",
   "id": "0d13e75d-1c38-42cd-8975-84ae4321ed89",
   "metadata": {},
   "source": [
    "## Imports"
   ]
  },
  {
   "cell_type": "code",
   "execution_count": 1,
   "id": "cbca55d5-75ab-4ccb-bc25-be783ab18fd1",
   "metadata": {},
   "outputs": [],
   "source": [
    "import copy\n",
    "import sys\n",
    "from functools import cache\n",
    "from tqdm import tqdm\n",
    "\n",
    "sys.setrecursionlimit(10**4)"
   ]
  },
  {
   "cell_type": "code",
   "execution_count": 2,
   "id": "50b01151-9952-42b9-9534-b9d91a6d9ef4",
   "metadata": {},
   "outputs": [],
   "source": [
    "day = \"23\""
   ]
  },
  {
   "cell_type": "code",
   "execution_count": 3,
   "id": "ff5966ba-d055-4c6b-bed2-f46b0b308ba9",
   "metadata": {},
   "outputs": [
    {
     "name": "stdout",
     "output_type": "stream",
     "text": [
      "141 141\n"
     ]
    }
   ],
   "source": [
    "with open(f\"input_j{day}.txt\") as f:\n",
    "# with open(\"test.txt\") as f:\n",
    "    graphe = f.readlines()\n",
    "    graphe = list(map(lambda x: x.replace(\"\\n\", \"\"), graphe))\n",
    "    graphe = list(map(lambda x: [case for case in x], graphe))\n",
    "\n",
    "n, m = len(graphe), len(graphe[0])\n",
    "print(n, m)"
   ]
  },
  {
   "cell_type": "markdown",
   "id": "6fd1928e-1d24-4542-ab41-288f42559c3a",
   "metadata": {},
   "source": [
    "## Parts 1 & 2"
   ]
  },
  {
   "cell_type": "markdown",
   "id": "6074d446-482f-4d01-bf8b-ab2c853837fa",
   "metadata": {
    "jp-MarkdownHeadingCollapsed": true
   },
   "source": [
    "### Départ et fin"
   ]
  },
  {
   "cell_type": "code",
   "execution_count": 4,
   "id": "ac0b70bd-0eb1-4be8-98bb-84b7eb6b3fda",
   "metadata": {},
   "outputs": [
    {
     "data": {
      "text/plain": [
       "1"
      ]
     },
     "execution_count": 4,
     "metadata": {},
     "output_type": "execute_result"
    }
   ],
   "source": [
    "i_start, j_start = 0, 0\n",
    "while graphe[i_start][j_start] != \".\":\n",
    "    j_start += 1\n",
    "\n",
    "j_start"
   ]
  },
  {
   "cell_type": "code",
   "execution_count": 5,
   "id": "8a0cd3f9-1479-4f6b-ba5d-3e9fa618c2c0",
   "metadata": {},
   "outputs": [
    {
     "data": {
      "text/plain": [
       "139"
      ]
     },
     "execution_count": 5,
     "metadata": {},
     "output_type": "execute_result"
    }
   ],
   "source": [
    "i_end, j_end = n-1, 0\n",
    "while graphe[i_end][j_end] != \".\":\n",
    "    j_end += 1\n",
    "\n",
    "j_end"
   ]
  },
  {
   "cell_type": "markdown",
   "id": "7156f51f-0264-4b73-bfe0-ea6875ddfddc",
   "metadata": {},
   "source": [
    "### Voisins"
   ]
  },
  {
   "cell_type": "markdown",
   "id": "65f2cbdf-952e-45cf-a73e-c39a668c2e51",
   "metadata": {
    "jp-MarkdownHeadingCollapsed": true
   },
   "source": [
    "#### Part 1"
   ]
  },
  {
   "cell_type": "code",
   "execution_count": 6,
   "id": "48fdf6fa-db0a-4a88-80ec-276d44b7c60d",
   "metadata": {},
   "outputs": [],
   "source": [
    "voisins = copy.deepcopy(graphe)\n",
    "for i in range(n):\n",
    "    for j in range(m):\n",
    "        voisins[i][j] = set()\n",
    "\n",
    "voisins[i_start][j_start].add((i_start+1, j_start, 1))\n",
    "voisins[i_end][j_end].add((i_end-1, j_end, 1))\n",
    "\n",
    "for i in range(1, n-1):\n",
    "    for j in range(1, m-1):\n",
    "\n",
    "        if graphe[i][j] == \".\":\n",
    "            if graphe[i-1][j] not in [\"#\", \"v\"]:\n",
    "                voisins[i][j].add((i-1, j, 1))\n",
    "            if graphe[i+1][j] not in [\"#\", \"^\"]:\n",
    "                voisins[i][j].add((i+1, j, 1))\n",
    "            if graphe[i][j-1] not in [\"#\", \">\"]:\n",
    "                voisins[i][j].add((i, j-1, 1))\n",
    "            if graphe[i][j+1] not in [\"#\", \"<\"]:\n",
    "                voisins[i][j].add((i, j+1, 1))\n",
    "        \n",
    "        elif graphe[i][j] == \"v\":\n",
    "            i_voisin = i+1\n",
    "            # while graphe[i_voisin][j] == \".\":\n",
    "            #     i_voisin += 1\n",
    "            voisins[i][j].add((i_voisin, j, 1))\n",
    "\n",
    "        elif graphe[i][j] == \"^\":\n",
    "            i_voisin = i-1\n",
    "            # while graphe[i_voisin][j] == \".\":\n",
    "            #     i_voisin -= 1\n",
    "            voisins[i][j].add((i_voisin, j, 1))\n",
    "\n",
    "        elif graphe[i][j] == \">\":\n",
    "            j_voisin = j+1\n",
    "            # while graphe[i][j_voisin] == \".\":\n",
    "            #     j_voisin += 1\n",
    "            voisins[i][j].add((i, j_voisin, 1))\n",
    "\n",
    "        elif graphe[i][j] == \"<\":\n",
    "            j_voisin = j-1\n",
    "            # while graphe[i][j_voisin] == \".\":\n",
    "            #     j_voisin -= 1\n",
    "            voisins[i][j].add((i, j_voisin, 1))\n"
   ]
  },
  {
   "cell_type": "markdown",
   "id": "784b2016-f335-4d6b-8f21-c91f3905858f",
   "metadata": {
    "jp-MarkdownHeadingCollapsed": true
   },
   "source": [
    "#### Part 2\n",
    "\n",
    "Comment below to do part 1"
   ]
  },
  {
   "cell_type": "code",
   "execution_count": 7,
   "id": "3d5bc7c5-27c9-42c5-8779-402a66954971",
   "metadata": {},
   "outputs": [
    {
     "data": {
      "text/plain": [
       "'\\n# Let\\'s reduce the size of the \"tunnels\"\\nfor k in tqdm(range(10)):\\n    for i in range(1, n-1):\\n        for j in range(1, m-1):\\n            if len(voisins[i][j]) == 2:\\n                voisin_1 = voisins[i][j].pop()\\n                voisin_2 = voisins[i][j].pop()\\n                poids_1 = voisin_1[2]\\n                poids_2 = voisin_2[2]\\n                voisin_1 = (voisin_1[0], voisin_1[1], poids_1+poids_2)\\n                voisin_2 = (voisin_2[0], voisin_2[1], poids_1+poids_2)\\n    \\n                voisins[voisin_1[0]][voisin_1[1]].remove((i, j, poids_1))\\n                voisins[voisin_1[0]][voisin_1[1]].add(voisin_2)\\n    \\n                voisins[voisin_2[0]][voisin_2[1]].remove((i, j, poids_2))\\n                voisins[voisin_2[0]][voisin_2[1]].add(voisin_1)\\n'"
      ]
     },
     "execution_count": 7,
     "metadata": {},
     "output_type": "execute_result"
    }
   ],
   "source": [
    "\"\"\"\n",
    "voisins = copy.deepcopy(graphe)\n",
    "for i in range(n):\n",
    "    for j in range(m):\n",
    "        voisins[i][j] = set()\n",
    "\n",
    "voisins[i_start][j_start].add((i_start+1, j_start, 1))\n",
    "voisins[i_end][j_end].add((i_end-1, j_end, 1))\n",
    "\n",
    "for i in range(1, n-1):\n",
    "    for j in range(1, m-1):\n",
    "\n",
    "        if graphe[i][j] != \"#\":\n",
    "            if graphe[i-1][j] != \"#\":\n",
    "                voisins[i][j].add((i-1, j, 1))\n",
    "            if graphe[i+1][j] != \"#\":\n",
    "                voisins[i][j].add((i+1, j, 1))\n",
    "            if graphe[i][j-1] != \"#\":\n",
    "                voisins[i][j].add((i, j-1, 1))\n",
    "            if graphe[i][j+1] != \"#\":\n",
    "                voisins[i][j].add((i, j+1, 1))\n",
    "\"\"\"\n",
    "\"\"\"\n",
    "# Let's reduce the size of the \"tunnels\"\n",
    "for k in tqdm(range(10)):\n",
    "    for i in range(1, n-1):\n",
    "        for j in range(1, m-1):\n",
    "            if len(voisins[i][j]) == 2:\n",
    "                voisin_1 = voisins[i][j].pop()\n",
    "                voisin_2 = voisins[i][j].pop()\n",
    "                poids_1 = voisin_1[2]\n",
    "                poids_2 = voisin_2[2]\n",
    "                voisin_1 = (voisin_1[0], voisin_1[1], poids_1+poids_2)\n",
    "                voisin_2 = (voisin_2[0], voisin_2[1], poids_1+poids_2)\n",
    "    \n",
    "                voisins[voisin_1[0]][voisin_1[1]].remove((i, j, poids_1))\n",
    "                voisins[voisin_1[0]][voisin_1[1]].add(voisin_2)\n",
    "    \n",
    "                voisins[voisin_2[0]][voisin_2[1]].remove((i, j, poids_2))\n",
    "                voisins[voisin_2[0]][voisin_2[1]].add(voisin_1)\n",
    "\"\"\""
   ]
  },
  {
   "cell_type": "markdown",
   "id": "ddd15759-583d-4f57-9c3e-2db57fc098a6",
   "metadata": {},
   "source": [
    "### Parcours en profondeur"
   ]
  },
  {
   "cell_type": "code",
   "execution_count": 8,
   "id": "098cfb06-aa80-49f1-be7c-83b92d94f923",
   "metadata": {},
   "outputs": [],
   "source": [
    "lst_traites = []\n",
    "set_chemins = set([0])\n",
    "compteur = {\"it\":0}"
   ]
  },
  {
   "cell_type": "code",
   "execution_count": 9,
   "id": "e1911f18-d032-4dd3-9ff5-6e08af2db1ca",
   "metadata": {},
   "outputs": [],
   "source": [
    "def path(i, j, deja_vus, somme):\n",
    "\n",
    "    if i == i_end:\n",
    "        # print(deja_vus)\n",
    "        set_chemins.add(somme)\n",
    "\n",
    "    else:\n",
    "        voisins_i_j = [voisin for voisin in voisins[i][j] if (voisin[0], voisin[1]) not in deja_vus]\n",
    "        new_deja_vus = copy.deepcopy(deja_vus)\n",
    "        new_deja_vus.add((i,j))\n",
    "\n",
    "        for voisin in voisins_i_j:\n",
    "            if (voisin[0], voisin[1], deja_vus) not in lst_traites:\n",
    "                if len(voisins_i_j) > 1:\n",
    "                    lst_traites.append((voisin[0], voisin[1], new_deja_vus))\n",
    "                compteur[\"it\"] += 1\n",
    "                if compteur[\"it\"] % 10000 == 0:\n",
    "                    print(compteur[\"it\"]//10000, max(set_chemins))\n",
    "                path(voisin[0], voisin[1], new_deja_vus, somme + voisin[2])"
   ]
  },
  {
   "cell_type": "code",
   "execution_count": 10,
   "id": "e01bf89d-6fbc-406f-8bbb-cbc09b9ac786",
   "metadata": {
    "scrolled": true
   },
   "outputs": [
    {
     "name": "stdout",
     "output_type": "stream",
     "text": [
      "1 2330\n",
      "2 2330\n",
      "3 2330\n",
      "4 2330\n",
      "5 2330\n",
      "6 2330\n",
      "7 2330\n",
      "8 2330\n",
      "9 2330\n",
      "10 2330\n",
      "11 2330\n",
      "12 2330\n",
      "13 2330\n",
      "14 2330\n",
      "15 2330\n",
      "16 2330\n"
     ]
    }
   ],
   "source": [
    "path(i_start, j_start, set(), 0)"
   ]
  },
  {
   "cell_type": "code",
   "execution_count": 11,
   "id": "b5e20fca-721f-4617-b5b2-487a45cd8beb",
   "metadata": {},
   "outputs": [
    {
     "data": {
      "text/plain": [
       "2330"
      ]
     },
     "execution_count": 11,
     "metadata": {},
     "output_type": "execute_result"
    }
   ],
   "source": [
    "max(set_chemins)"
   ]
  },
  {
   "cell_type": "code",
   "execution_count": 12,
   "id": "a398c9ae-233d-42ce-af73-bc21412ca746",
   "metadata": {
    "scrolled": true
   },
   "outputs": [
    {
     "data": {
      "text/plain": [
       "{0,\n",
       " 1418,\n",
       " 1426,\n",
       " 1430,\n",
       " 1450,\n",
       " 1454,\n",
       " 1458,\n",
       " 1462,\n",
       " 1466,\n",
       " 1478,\n",
       " 1482,\n",
       " 1486,\n",
       " 1490,\n",
       " 1494,\n",
       " 1498,\n",
       " 1506,\n",
       " 1510,\n",
       " 1514,\n",
       " 1518,\n",
       " 1522,\n",
       " 1526,\n",
       " 1530,\n",
       " 1534,\n",
       " 1538,\n",
       " 1542,\n",
       " 1546,\n",
       " 1550,\n",
       " 1554,\n",
       " 1558,\n",
       " 1562,\n",
       " 1566,\n",
       " 1570,\n",
       " 1574,\n",
       " 1578,\n",
       " 1582,\n",
       " 1586,\n",
       " 1590,\n",
       " 1594,\n",
       " 1598,\n",
       " 1602,\n",
       " 1606,\n",
       " 1610,\n",
       " 1614,\n",
       " 1618,\n",
       " 1622,\n",
       " 1626,\n",
       " 1630,\n",
       " 1634,\n",
       " 1638,\n",
       " 1642,\n",
       " 1646,\n",
       " 1650,\n",
       " 1654,\n",
       " 1658,\n",
       " 1662,\n",
       " 1666,\n",
       " 1670,\n",
       " 1674,\n",
       " 1678,\n",
       " 1682,\n",
       " 1686,\n",
       " 1690,\n",
       " 1694,\n",
       " 1698,\n",
       " 1702,\n",
       " 1706,\n",
       " 1710,\n",
       " 1714,\n",
       " 1718,\n",
       " 1722,\n",
       " 1726,\n",
       " 1734,\n",
       " 1738,\n",
       " 1742,\n",
       " 1746,\n",
       " 1750,\n",
       " 1754,\n",
       " 1762,\n",
       " 1766,\n",
       " 1770,\n",
       " 1774,\n",
       " 1778,\n",
       " 1782,\n",
       " 1786,\n",
       " 1794,\n",
       " 1798,\n",
       " 1802,\n",
       " 1806,\n",
       " 1810,\n",
       " 1814,\n",
       " 1818,\n",
       " 1822,\n",
       " 1826,\n",
       " 1830,\n",
       " 1834,\n",
       " 1842,\n",
       " 1846,\n",
       " 1850,\n",
       " 1858,\n",
       " 1862,\n",
       " 1866,\n",
       " 1870,\n",
       " 1878,\n",
       " 1886,\n",
       " 1890,\n",
       " 1902,\n",
       " 1906,\n",
       " 1914,\n",
       " 1922,\n",
       " 1934,\n",
       " 1950,\n",
       " 1978,\n",
       " 1994,\n",
       " 2006,\n",
       " 2010,\n",
       " 2038,\n",
       " 2090,\n",
       " 2118,\n",
       " 2130,\n",
       " 2210,\n",
       " 2274,\n",
       " 2330}"
      ]
     },
     "execution_count": 12,
     "metadata": {},
     "output_type": "execute_result"
    }
   ],
   "source": [
    "set_chemins"
   ]
  },
  {
   "cell_type": "code",
   "execution_count": 13,
   "id": "13b206f5-e919-468c-9ae2-ed05ba2eb4eb",
   "metadata": {},
   "outputs": [],
   "source": [
    "# 2330 for part 1\n",
    "# 6518 for part 2"
   ]
  },
  {
   "cell_type": "code",
   "execution_count": null,
   "id": "d1e52054-5647-421a-8120-771f7ac584b8",
   "metadata": {},
   "outputs": [],
   "source": []
  }
 ],
 "metadata": {
  "kernelspec": {
   "display_name": "Python 3 (ipykernel)",
   "language": "python",
   "name": "python3"
  },
  "language_info": {
   "codemirror_mode": {
    "name": "ipython",
    "version": 3
   },
   "file_extension": ".py",
   "mimetype": "text/x-python",
   "name": "python",
   "nbconvert_exporter": "python",
   "pygments_lexer": "ipython3",
   "version": "3.10.13"
  }
 },
 "nbformat": 4,
 "nbformat_minor": 5
}
