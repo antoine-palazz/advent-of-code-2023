{
 "cells": [
  {
   "cell_type": "markdown",
   "id": "0d13e75d-1c38-42cd-8975-84ae4321ed89",
   "metadata": {
    "jp-MarkdownHeadingCollapsed": true
   },
   "source": [
    "## Imports"
   ]
  },
  {
   "cell_type": "code",
   "execution_count": 1,
   "id": "1d73d90d-8266-4454-9414-c5ae0c2fa65d",
   "metadata": {},
   "outputs": [],
   "source": [
    "import copy"
   ]
  },
  {
   "cell_type": "code",
   "execution_count": 2,
   "id": "50b01151-9952-42b9-9534-b9d91a6d9ef4",
   "metadata": {},
   "outputs": [],
   "source": [
    "day = \"10\""
   ]
  },
  {
   "cell_type": "code",
   "execution_count": 3,
   "id": "ff5966ba-d055-4c6b-bed2-f46b0b308ba9",
   "metadata": {},
   "outputs": [],
   "source": [
    "with open(f\"input_j{day}.txt\") as f:\n",
    "    pipes = f.readlines()\n",
    "    pipes = list(map(lambda x: x.replace(\"\\n\", \"\"), pipes))\n",
    "    pipes = list(map(lambda x: [case for case in x], pipes))"
   ]
  },
  {
   "cell_type": "code",
   "execution_count": 4,
   "id": "65284497-364f-4c4c-96f6-03e4606ec520",
   "metadata": {},
   "outputs": [
    {
     "name": "stdout",
     "output_type": "stream",
     "text": [
      "140 140\n"
     ]
    }
   ],
   "source": [
    "n = len(pipes)\n",
    "m = len(pipes[0])\n",
    "print(n, m)"
   ]
  },
  {
   "cell_type": "markdown",
   "id": "6fd1928e-1d24-4542-ab41-288f42559c3a",
   "metadata": {},
   "source": [
    "## Part 1"
   ]
  },
  {
   "cell_type": "markdown",
   "id": "7e0fe311-22da-4ec7-a5b3-31bd76a3c3b7",
   "metadata": {
    "jp-MarkdownHeadingCollapsed": true
   },
   "source": [
    "### Trouver départ"
   ]
  },
  {
   "cell_type": "code",
   "execution_count": 5,
   "id": "1b1bcdaf-c664-43c9-a960-b6ee907371b4",
   "metadata": {},
   "outputs": [],
   "source": [
    "def find_start(pipes):\n",
    "    for i in range(n):\n",
    "        for j in range(n):\n",
    "            if pipes[i][j] == \"S\":\n",
    "                return (i, j)"
   ]
  },
  {
   "cell_type": "code",
   "execution_count": 6,
   "id": "0be59f81-7061-4201-b86a-b996cbbfad51",
   "metadata": {},
   "outputs": [
    {
     "data": {
      "text/plain": [
       "(25, 108)"
      ]
     },
     "execution_count": 6,
     "metadata": {},
     "output_type": "execute_result"
    }
   ],
   "source": [
    "i_start, j_start = find_start(pipes)\n",
    "i_start, j_start"
   ]
  },
  {
   "cell_type": "markdown",
   "id": "fdc70531-fa9d-4018-89e8-4872febd15b0",
   "metadata": {
    "jp-MarkdownHeadingCollapsed": true
   },
   "source": [
    "### Liste d'adjacences"
   ]
  },
  {
   "cell_type": "code",
   "execution_count": 7,
   "id": "89380620-89db-40ab-beff-c0efb4bfedd9",
   "metadata": {},
   "outputs": [],
   "source": [
    "voisins = copy.deepcopy(pipes)\n",
    "for i in range(n):\n",
    "    for j in range(n):\n",
    "        voisins[i][j] = set()\n",
    "\n",
    "for i in range(n):\n",
    "    for j in range(n):\n",
    "        if pipes[i][j] == \"|\" and i>0 and i<n-1:\n",
    "            if pipes[i-1][j] == \"S\":\n",
    "                voisins[i-1][j].add((i, j))\n",
    "            voisins[i][j].add((i-1, j))\n",
    "            voisins[i][j].add((i+1, j))\n",
    "            if pipes[i+1][j] == \"S\":\n",
    "                voisins[i+1][j].add((i, j))\n",
    "        if pipes[i][j] == \"-\" and j>0 and j<n-1:\n",
    "            if pipes[i][j-1] == \"S\":\n",
    "                voisins[i][j-1].add((i, j))\n",
    "            voisins[i][j].add((i, j-1))\n",
    "            voisins[i][j].add((i, j+1))\n",
    "            if pipes[i][j+1] == \"S\":\n",
    "                voisins[i][j+1].add((i, j))\n",
    "        if pipes[i][j] == \"7\" and j>0 and i<n-1:\n",
    "            if pipes[i][j-1] == \"S\":\n",
    "                voisins[i][j-1].add((i, j))\n",
    "            voisins[i][j].add((i, j-1))\n",
    "            voisins[i][j].add((i+1, j))\n",
    "            if pipes[i+1][j] == \"S\":\n",
    "                voisins[i+1][j].add((i, j))\n",
    "        if pipes[i][j] == \"J\" and i>0 and j>0:\n",
    "            if pipes[i][j-1] == \"S\":\n",
    "                voisins[i][j-1].add((i, j))\n",
    "            voisins[i][j].add((i, j-1))\n",
    "            voisins[i][j].add((i-1, j))\n",
    "            if pipes[i-1][j] == \"S\":\n",
    "                voisins[i-1][j].add((i, j))\n",
    "        if pipes[i][j] == \"L\" and j<n-1 and i>0:\n",
    "            if pipes[i-1][j] == \"S\":\n",
    "                voisins[i-1][j].add((i, j))\n",
    "            voisins[i][j].add((i-1, j))\n",
    "            voisins[i][j].add((i, j+1))\n",
    "            if pipes[i][j+1] == \"S\":\n",
    "                voisins[i][j+1].add((i, j))\n",
    "        if pipes[i][j] == \"F\" and i<n-1 and j<n-1:\n",
    "            if pipes[i+1][j] == \"S\":\n",
    "                voisins[i+1][j].add((i, j))\n",
    "            voisins[i][j].add((i+1, j))\n",
    "            voisins[i][j].add((i, j+1))\n",
    "            if pipes[i][j+1] == \"S\":\n",
    "                voisins[i][j+1].add((i, j))\n",
    "\n",
    "for i in range(n):\n",
    "    for j in range(n):\n",
    "        if pipes[i][j] == \".\":\n",
    "            voisins[i][j] = []"
   ]
  },
  {
   "cell_type": "markdown",
   "id": "75562762-921d-4c0a-a1a2-612ca2fe51de",
   "metadata": {
    "jp-MarkdownHeadingCollapsed": true
   },
   "source": [
    "### Distances et fonctions"
   ]
  },
  {
   "cell_type": "code",
   "execution_count": 8,
   "id": "612761e7-b84d-4df3-a638-293459fc9851",
   "metadata": {},
   "outputs": [],
   "source": [
    "distances = copy.deepcopy(pipes)\n",
    "for i in range(n):\n",
    "    for j in range(n):\n",
    "        distances[i][j] = float('inf')\n",
    "distances[i_start][j_start] = 0"
   ]
  },
  {
   "cell_type": "code",
   "execution_count": 9,
   "id": "a6327bf1-0904-4101-b641-95411b1c65e6",
   "metadata": {},
   "outputs": [],
   "source": [
    "def find_min(Q):\n",
    "    mini = float('inf')\n",
    "    for node in Q:\n",
    "        if distances[node[0]][node[1]] <= mini:\n",
    "            mini = distances[node[0]][node[1]]\n",
    "            sommet = node\n",
    "    return sommet"
   ]
  },
  {
   "cell_type": "code",
   "execution_count": 10,
   "id": "44ed773d-0a55-4081-bd14-8dcd5eeef989",
   "metadata": {},
   "outputs": [],
   "source": [
    "def update_distances(node_1, node_2):\n",
    "    if distances[node_2[0]][node_2[1]] > distances[node_1[0]][node_1[1]] + 1:\n",
    "        distances[node_2[0]][node_2[1]] = distances[node_1[0]][node_1[1]] + 1"
   ]
  },
  {
   "cell_type": "code",
   "execution_count": 11,
   "id": "0b3e680b-62e9-4542-9e3b-09807f32ea8c",
   "metadata": {},
   "outputs": [],
   "source": [
    "def dijkstra(i_start, j_start, voisins):\n",
    "    Q = [(i,j) for i in range(n) for j in range(n)]\n",
    "    while len(Q) > 0:\n",
    "        if len(Q) % 2000 == 0:\n",
    "            print(len(Q))\n",
    "        node_1 = find_min(Q)\n",
    "        Q.remove(node_1)\n",
    "        for node_2 in voisins[node_1[0]][node_1[1]]:\n",
    "            update_distances(node_1, node_2)"
   ]
  },
  {
   "cell_type": "markdown",
   "id": "b90df479-cab5-42d3-a9e4-939f2702f361",
   "metadata": {},
   "source": [
    "### Application"
   ]
  },
  {
   "cell_type": "code",
   "execution_count": 12,
   "id": "5087051f-6ada-459c-934d-227dfc992245",
   "metadata": {},
   "outputs": [
    {
     "name": "stdout",
     "output_type": "stream",
     "text": [
      "18000\n",
      "16000\n",
      "14000\n",
      "12000\n",
      "10000\n",
      "8000\n",
      "6000\n",
      "4000\n",
      "2000\n"
     ]
    }
   ],
   "source": [
    "dijkstra(i_start, j_start, voisins)"
   ]
  },
  {
   "cell_type": "code",
   "execution_count": 13,
   "id": "ef8a4c05-5df5-42ae-9db8-4d44d512576a",
   "metadata": {},
   "outputs": [
    {
     "data": {
      "text/plain": [
       "6701"
      ]
     },
     "execution_count": 13,
     "metadata": {},
     "output_type": "execute_result"
    }
   ],
   "source": [
    "max_distance = -1\n",
    "while max_distance == -1:\n",
    "\n",
    "    for i in range(n):\n",
    "        for j in range(n):\n",
    "            if distances[i][j] != float('inf') and distances[i][j] > max_distance:\n",
    "                max_distance = distances[i][j]\n",
    "\n",
    "max_distance"
   ]
  },
  {
   "cell_type": "markdown",
   "id": "675fd004-b2e8-4226-b8aa-4cff2c33285f",
   "metadata": {},
   "source": [
    "## Part 2"
   ]
  },
  {
   "cell_type": "code",
   "execution_count": 14,
   "id": "6eac0a96-ddda-4110-8588-e8f7ba8a885d",
   "metadata": {},
   "outputs": [],
   "source": [
    "all_distances = [dist for x in distances for dist in x]"
   ]
  },
  {
   "cell_type": "code",
   "execution_count": 15,
   "id": "87685e3e-8537-4574-a43c-d9fa0a8e0efe",
   "metadata": {},
   "outputs": [
    {
     "data": {
      "text/plain": [
       "13402"
      ]
     },
     "execution_count": 15,
     "metadata": {},
     "output_type": "execute_result"
    }
   ],
   "source": [
    "n**2 - all_distances.count(float(\"inf\"))"
   ]
  },
  {
   "cell_type": "code",
   "execution_count": 16,
   "id": "e953712e-77bb-4cd4-b973-ef7a3632ad2b",
   "metadata": {},
   "outputs": [
    {
     "data": {
      "text/plain": [
       "13402"
      ]
     },
     "execution_count": 16,
     "metadata": {},
     "output_type": "execute_result"
    }
   ],
   "source": [
    "max_distance * 2"
   ]
  },
  {
   "cell_type": "code",
   "execution_count": 17,
   "id": "d5884794-d944-4112-85ff-c06c14ef3e34",
   "metadata": {},
   "outputs": [
    {
     "data": {
      "text/plain": [
       "13402"
      ]
     },
     "execution_count": 17,
     "metadata": {},
     "output_type": "execute_result"
    }
   ],
   "source": [
    "cycle_points = [(i, j) for i in range(n) for j in range(n) if distances[i][j] != float(\"inf\")]\n",
    "len(cycle_points)"
   ]
  },
  {
   "cell_type": "code",
   "execution_count": 18,
   "id": "c547c15f-86e9-4a4c-a052-84b8f1e4c38d",
   "metadata": {},
   "outputs": [
    {
     "data": {
      "text/plain": [
       "303"
      ]
     },
     "execution_count": 18,
     "metadata": {},
     "output_type": "execute_result"
    }
   ],
   "source": [
    "points_interieurs = []\n",
    "\n",
    "for i in range(n):\n",
    "    nb_borders_crossed = 0\n",
    "    last_vertical = ''\n",
    "\n",
    "    for j in range(n):\n",
    "        if (i, j) in cycle_points:\n",
    "\n",
    "            if pipes[i][j] in ['|', 'S']:  # On my input, S is a vertical pipe\n",
    "                nb_borders_crossed += 1\n",
    "            elif pipes[i][j] == '7' and last_vertical == 'L':\n",
    "                nb_borders_crossed += 1\n",
    "            elif pipes[i][j] == 'J' and last_vertical == 'F':\n",
    "                nb_borders_crossed += 1\n",
    "\n",
    "            if pipes[i][j] != '-':\n",
    "                last_vertical = pipes[i][j]\n",
    "\n",
    "        elif nb_borders_crossed % 2 == 1:\n",
    "                points_interieurs.append((i, j))\n",
    "\n",
    "len(points_interieurs)"
   ]
  },
  {
   "cell_type": "code",
   "execution_count": null,
   "id": "2af5e0c1-d02f-440d-8b04-dc7125d867c8",
   "metadata": {},
   "outputs": [],
   "source": []
  }
 ],
 "metadata": {
  "kernelspec": {
   "display_name": "Python 3 (ipykernel)",
   "language": "python",
   "name": "python3"
  },
  "language_info": {
   "codemirror_mode": {
    "name": "ipython",
    "version": 3
   },
   "file_extension": ".py",
   "mimetype": "text/x-python",
   "name": "python",
   "nbconvert_exporter": "python",
   "pygments_lexer": "ipython3",
   "version": "3.10.13"
  }
 },
 "nbformat": 4,
 "nbformat_minor": 5
}
