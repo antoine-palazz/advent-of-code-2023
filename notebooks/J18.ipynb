{
 "cells": [
  {
   "cell_type": "markdown",
   "id": "0d13e75d-1c38-42cd-8975-84ae4321ed89",
   "metadata": {
    "jp-MarkdownHeadingCollapsed": true
   },
   "source": [
    "## Imports"
   ]
  },
  {
   "cell_type": "code",
   "execution_count": 1,
   "id": "d2c3de17-d588-452b-9c4f-b2e7a7554132",
   "metadata": {},
   "outputs": [],
   "source": [
    "from tqdm import tqdm"
   ]
  },
  {
   "cell_type": "code",
   "execution_count": 2,
   "id": "50b01151-9952-42b9-9534-b9d91a6d9ef4",
   "metadata": {},
   "outputs": [],
   "source": [
    "day = \"18\""
   ]
  },
  {
   "cell_type": "code",
   "execution_count": 3,
   "id": "ff5966ba-d055-4c6b-bed2-f46b0b308ba9",
   "metadata": {},
   "outputs": [
    {
     "data": {
      "text/plain": [
       "630"
      ]
     },
     "execution_count": 3,
     "metadata": {},
     "output_type": "execute_result"
    }
   ],
   "source": [
    "with open(f\"input_j{day}.txt\") as f:\n",
    "# with open(\"test.txt\") as f:\n",
    "    creux = f.readlines()\n",
    "    creux = list(map(lambda x: x.replace(\"\\n\", \"\").split(), creux))\n",
    "\n",
    "n = len(creux)\n",
    "for i in range(n):\n",
    "    creux[i][1] = int(creux[i][1])\n",
    "    creux[i][2] = creux[i][2][2:-1]\n",
    "\n",
    "n"
   ]
  },
  {
   "cell_type": "markdown",
   "id": "6fd1928e-1d24-4542-ab41-288f42559c3a",
   "metadata": {
    "jp-MarkdownHeadingCollapsed": true
   },
   "source": [
    "## Part 1"
   ]
  },
  {
   "cell_type": "code",
   "execution_count": 4,
   "id": "612761e7-b84d-4df3-a638-293459fc9851",
   "metadata": {},
   "outputs": [
    {
     "name": "stdout",
     "output_type": "stream",
     "text": [
      "4446\n"
     ]
    },
    {
     "data": {
      "text/plain": [
       "[0, 0]"
      ]
     },
     "execution_count": 4,
     "metadata": {},
     "output_type": "execute_result"
    }
   ],
   "source": [
    "contours = []\n",
    "last_position = [0, 0]\n",
    "\n",
    "for i in range(n):\n",
    "    if creux[i][0] == 'R':\n",
    "        contours.extend([(last_position[0], last_position[1] + k, 'R') for k in range(1, creux[i][1] + 1)])\n",
    "        last_position[1] += creux[i][1]\n",
    "    if creux[i][0] == 'L':\n",
    "        contours.extend([(last_position[0], last_position[1] - k, 'L') for k in range(1, creux[i][1] + 1)])\n",
    "        last_position[1] -= creux[i][1]\n",
    "    if creux[i][0] == 'U':\n",
    "        contours.extend([(last_position[0] - k, last_position[1], 'U') for k in range(1, creux[i][1] + 1)])\n",
    "        last_position[0] -= creux[i][1]\n",
    "    if creux[i][0] == 'D':\n",
    "        contours.extend([(last_position[0] + k, last_position[1], 'D') for k in range(1, creux[i][1] + 1)])\n",
    "        last_position[0] += creux[i][1]\n",
    "\n",
    "edge_size = len(contours)\n",
    "print(edge_size)\n",
    "\n",
    "last_position"
   ]
  },
  {
   "cell_type": "code",
   "execution_count": 5,
   "id": "38291a41-0629-491d-9b40-4fe60970fe0a",
   "metadata": {},
   "outputs": [
    {
     "name": "stdout",
     "output_type": "stream",
     "text": [
      "-211 122 -109 383\n",
      "334 493\n"
     ]
    }
   ],
   "source": [
    "x_min = min([contours[i][0] for i in range(edge_size)])\n",
    "x_max = max([contours[i][0] for i in range(edge_size)])\n",
    "y_min = min([contours[i][1] for i in range(edge_size)])\n",
    "y_max = max([contours[i][1] for i in range(edge_size)])\n",
    "\n",
    "print(x_min, x_max, y_min, y_max)\n",
    "\n",
    "grid = [[\"O\" for y in range(y_min, y_max+1)] for i in range(x_min, x_max+1)]\n",
    "contours = [(point[0] - x_min, point[1] - y_min, point[2]) for point in contours]\n",
    "\n",
    "print(len(grid), len(grid[0]))"
   ]
  },
  {
   "cell_type": "markdown",
   "id": "88c99c33-fcbd-43a5-a7c5-6599509cebfb",
   "metadata": {},
   "source": [
    "On réutilise le code J10 pour retrouver les points intérieurs"
   ]
  },
  {
   "cell_type": "code",
   "execution_count": 6,
   "id": "9cece484-e640-42ec-b258-a1f8e61dfe88",
   "metadata": {},
   "outputs": [
    {
     "data": {
      "text/plain": [
       "'7'"
      ]
     },
     "execution_count": 6,
     "metadata": {},
     "output_type": "execute_result"
    }
   ],
   "source": [
    "# Reconstitution de la grille\n",
    "\n",
    "for i in range(edge_size):\n",
    "    next_dir = contours[(i+1)%edge_size][2]\n",
    "\n",
    "    if contours[i][2] in ['L', 'R']:\n",
    "        if next_dir in ['L', 'R']:\n",
    "            grid[contours[i][0]][contours[i][1]] = \"-\"\n",
    "        if next_dir == \"U\":\n",
    "            if contours[i][2] == \"L\":\n",
    "                grid[contours[i][0]][contours[i][1]] = \"L\"\n",
    "            if contours[i][2] == \"R\":\n",
    "                grid[contours[i][0]][contours[i][1]] = \"J\"\n",
    "        if next_dir == \"D\":\n",
    "            if contours[i][2] == \"L\":\n",
    "                grid[contours[i][0]][contours[i][1]] = \"F\"\n",
    "            if contours[i][2] == \"R\":\n",
    "                grid[contours[i][0]][contours[i][1]] = \"7\"\n",
    "\n",
    "    if contours[i][2] in ['U', 'D']:\n",
    "        if next_dir in ['U', 'D']:\n",
    "            grid[contours[i][0]][contours[i][1]] = \"|\"\n",
    "        if next_dir == \"L\":\n",
    "            if contours[i][2] == \"U\":\n",
    "                grid[contours[i][0]][contours[i][1]] = \"7\"\n",
    "            if contours[i][2] == \"D\":\n",
    "                grid[contours[i][0]][contours[i][1]] = \"J\"\n",
    "        if next_dir == \"R\":\n",
    "            if contours[i][2] == \"U\":\n",
    "                grid[contours[i][0]][contours[i][1]] = \"F\"\n",
    "            if contours[i][2] == \"D\":\n",
    "                grid[contours[i][0]][contours[i][1]] = \"L\"\n",
    "\n",
    "grid[contours[-1][0]][contours[-1][1]]"
   ]
  },
  {
   "cell_type": "code",
   "execution_count": 7,
   "id": "0df57804-a0ac-4faa-b8d1-7468fa94852d",
   "metadata": {},
   "outputs": [],
   "source": [
    "points_contours = [(point[0], point[1]) for point in contours]\n",
    "points_interieurs = []\n",
    "\n",
    "for i in range(len(grid)):\n",
    "    nb_borders_crossed = 0\n",
    "    last_vertical = ''\n",
    "\n",
    "    for j in range(len(grid[0])):\n",
    "        if (i, j) in points_contours:\n",
    "\n",
    "            if grid[i][j] == '|':\n",
    "                nb_borders_crossed += 1\n",
    "            elif grid[i][j] == '7' and last_vertical == 'L':\n",
    "                nb_borders_crossed += 1\n",
    "            elif grid[i][j] == 'J' and last_vertical == 'F':\n",
    "                nb_borders_crossed += 1\n",
    "\n",
    "            if grid[i][j] != '-':\n",
    "                last_vertical = grid[i][j]\n",
    "\n",
    "        elif nb_borders_crossed % 2 == 1:\n",
    "                points_interieurs.append((i, j))"
   ]
  },
  {
   "cell_type": "code",
   "execution_count": 8,
   "id": "f41afddf-1ace-4af7-bdec-3de2de7b6b04",
   "metadata": {},
   "outputs": [
    {
     "data": {
      "text/plain": [
       "67891"
      ]
     },
     "execution_count": 8,
     "metadata": {},
     "output_type": "execute_result"
    }
   ],
   "source": [
    "len(points_interieurs) + edge_size"
   ]
  },
  {
   "cell_type": "markdown",
   "id": "85632e0f-2c73-44dc-a3ac-75cea106dbc2",
   "metadata": {},
   "source": [
    "## Part 2"
   ]
  },
  {
   "cell_type": "code",
   "execution_count": 9,
   "id": "2f983fed-27a6-47e1-bc91-f63f23fd9709",
   "metadata": {},
   "outputs": [],
   "source": [
    "directions = {0: \"R\", 1: \"D\", 2: \"L\", 3: \"U\"}"
   ]
  },
  {
   "cell_type": "code",
   "execution_count": 10,
   "id": "77d45acb-6a62-47e5-90f7-d2bc33599874",
   "metadata": {
    "scrolled": true
   },
   "outputs": [],
   "source": [
    "for i in range(n):\n",
    "    creux[i].extend([directions[int(creux[i][2][5])], int(creux[i][2][:5], 16)])"
   ]
  },
  {
   "cell_type": "code",
   "execution_count": 11,
   "id": "e6ec5906-dee8-437a-a34b-61a05aeab177",
   "metadata": {},
   "outputs": [
    {
     "data": {
      "text/plain": [
       "['L', 7, '080f92', 'L', 33017]"
      ]
     },
     "execution_count": 11,
     "metadata": {},
     "output_type": "execute_result"
    }
   ],
   "source": [
    "creux[0]"
   ]
  },
  {
   "cell_type": "code",
   "execution_count": 12,
   "id": "a2d45d3b-c710-497d-9257-3215566f5784",
   "metadata": {},
   "outputs": [
    {
     "name": "stderr",
     "output_type": "stream",
     "text": [
      "100%|██████████| 630/630 [00:24<00:00, 25.22it/s]"
     ]
    },
    {
     "name": "stdout",
     "output_type": "stream",
     "text": [
      "166160156\n"
     ]
    },
    {
     "name": "stderr",
     "output_type": "stream",
     "text": [
      "\n"
     ]
    },
    {
     "data": {
      "text/plain": [
       "[0, 0]"
      ]
     },
     "execution_count": 12,
     "metadata": {},
     "output_type": "execute_result"
    }
   ],
   "source": [
    "contours = []\n",
    "last_position = [0, 0]\n",
    "\n",
    "for i in tqdm(range(n)):\n",
    "    if creux[i][3] == 'R':\n",
    "        contours.extend([(last_position[0], last_position[1] + k, 'R') for k in range(1, creux[i][4] + 1)])\n",
    "        last_position[1] += creux[i][4]\n",
    "    if creux[i][3] == 'L':\n",
    "        contours.extend([(last_position[0], last_position[1] - k, 'L') for k in range(1, creux[i][4] + 1)])\n",
    "        last_position[1] -= creux[i][4]\n",
    "    if creux[i][3] == 'U':\n",
    "        contours.extend([(last_position[0] - k, last_position[1], 'U') for k in range(1, creux[i][4] + 1)])\n",
    "        last_position[0] -= creux[i][4]\n",
    "    if creux[i][3] == 'D':\n",
    "        contours.extend([(last_position[0] + k, last_position[1], 'D') for k in range(1, creux[i][4] + 1)])\n",
    "        last_position[0] += creux[i][4]\n",
    "\n",
    "edge_size = len(contours)\n",
    "print(edge_size)\n",
    "\n",
    "last_position"
   ]
  },
  {
   "cell_type": "markdown",
   "id": "06381b45-34a1-4fe5-bacc-0db7f3b0eed8",
   "metadata": {
    "jp-MarkdownHeadingCollapsed": true
   },
   "source": [
    "### Infructueux"
   ]
  },
  {
   "cell_type": "code",
   "execution_count": 13,
   "id": "f03feec4-a4c3-4c3e-b2f4-24a1ec0a7351",
   "metadata": {},
   "outputs": [
    {
     "data": {
      "text/plain": [
       "'\\nx_min = min([contours[i][0] for i in range(edge_size)])\\nx_max = max([contours[i][0] for i in range(edge_size)])\\ny_min = min([contours[i][1] for i in range(edge_size)])\\ny_max = max([contours[i][1] for i in range(edge_size)])\\n\\nprint(x_min, x_max, y_min, y_max)\\n\\ngrid = [[\"O\" for y in range(y_min, y_max+1)] for i in range(x_min, x_max+1)]\\ncontours = [(point[0] - x_min, point[1] - y_min, point[2]) for point in contours]\\n\\nprint(len(grid), len(grid[0]))\\n'"
      ]
     },
     "execution_count": 13,
     "metadata": {},
     "output_type": "execute_result"
    }
   ],
   "source": [
    "# Trop long\n",
    "\n",
    "\"\"\"\n",
    "x_min = min([contours[i][0] for i in range(edge_size)])\n",
    "x_max = max([contours[i][0] for i in range(edge_size)])\n",
    "y_min = min([contours[i][1] for i in range(edge_size)])\n",
    "y_max = max([contours[i][1] for i in range(edge_size)])\n",
    "\n",
    "print(x_min, x_max, y_min, y_max)\n",
    "\n",
    "grid = [[\"O\" for y in range(y_min, y_max+1)] for i in range(x_min, x_max+1)]\n",
    "contours = [(point[0] - x_min, point[1] - y_min, point[2]) for point in contours]\n",
    "\n",
    "print(len(grid), len(grid[0]))\n",
    "\"\"\""
   ]
  },
  {
   "cell_type": "code",
   "execution_count": 14,
   "id": "d15f915d-abb4-418a-9945-dc112f811251",
   "metadata": {},
   "outputs": [
    {
     "data": {
      "text/plain": [
       "'\\n# Reconstitution de la grille\\n\\nfor i in range(edge_size):\\n    next_dir = contours[(i+1)%edge_size][2]\\n\\n    if contours[i][2] in [\\'L\\', \\'R\\']:\\n        if next_dir in [\\'L\\', \\'R\\']:\\n            grid[contours[i][0]][contours[i][1]] = \"-\"\\n        if next_dir == \"U\":\\n            if contours[i][2] == \"L\":\\n                grid[contours[i][0]][contours[i][1]] = \"L\"\\n            if contours[i][2] == \"R\":\\n                grid[contours[i][0]][contours[i][1]] = \"J\"\\n        if next_dir == \"D\":\\n            if contours[i][2] == \"L\":\\n                grid[contours[i][0]][contours[i][1]] = \"F\"\\n            if contours[i][2] == \"R\":\\n                grid[contours[i][0]][contours[i][1]] = \"7\"\\n\\n    if contours[i][2] in [\\'U\\', \\'D\\']:\\n        if next_dir in [\\'U\\', \\'D\\']:\\n            grid[contours[i][0]][contours[i][1]] = \"|\"\\n        if next_dir == \"L\":\\n            if contours[i][2] == \"U\":\\n                grid[contours[i][0]][contours[i][1]] = \"7\"\\n            if contours[i][2] == \"D\":\\n                grid[contours[i][0]][contours[i][1]] = \"J\"\\n        if next_dir == \"R\":\\n            if contours[i][2] == \"U\":\\n                grid[contours[i][0]][contours[i][1]] = \"F\"\\n            if contours[i][2] == \"D\":\\n                grid[contours[i][0]][contours[i][1]] = \"L\"\\n\\ngrid[contours[-1][0]][contours[-1][1]]\\n'"
      ]
     },
     "execution_count": 14,
     "metadata": {},
     "output_type": "execute_result"
    }
   ],
   "source": [
    "# Trop long\n",
    "\n",
    "\"\"\"\n",
    "# Reconstitution de la grille\n",
    "\n",
    "for i in range(edge_size):\n",
    "    next_dir = contours[(i+1)%edge_size][2]\n",
    "\n",
    "    if contours[i][2] in ['L', 'R']:\n",
    "        if next_dir in ['L', 'R']:\n",
    "            grid[contours[i][0]][contours[i][1]] = \"-\"\n",
    "        if next_dir == \"U\":\n",
    "            if contours[i][2] == \"L\":\n",
    "                grid[contours[i][0]][contours[i][1]] = \"L\"\n",
    "            if contours[i][2] == \"R\":\n",
    "                grid[contours[i][0]][contours[i][1]] = \"J\"\n",
    "        if next_dir == \"D\":\n",
    "            if contours[i][2] == \"L\":\n",
    "                grid[contours[i][0]][contours[i][1]] = \"F\"\n",
    "            if contours[i][2] == \"R\":\n",
    "                grid[contours[i][0]][contours[i][1]] = \"7\"\n",
    "\n",
    "    if contours[i][2] in ['U', 'D']:\n",
    "        if next_dir in ['U', 'D']:\n",
    "            grid[contours[i][0]][contours[i][1]] = \"|\"\n",
    "        if next_dir == \"L\":\n",
    "            if contours[i][2] == \"U\":\n",
    "                grid[contours[i][0]][contours[i][1]] = \"7\"\n",
    "            if contours[i][2] == \"D\":\n",
    "                grid[contours[i][0]][contours[i][1]] = \"J\"\n",
    "        if next_dir == \"R\":\n",
    "            if contours[i][2] == \"U\":\n",
    "                grid[contours[i][0]][contours[i][1]] = \"F\"\n",
    "            if contours[i][2] == \"D\":\n",
    "                grid[contours[i][0]][contours[i][1]] = \"L\"\n",
    "\n",
    "grid[contours[-1][0]][contours[-1][1]]\n",
    "\"\"\""
   ]
  },
  {
   "cell_type": "code",
   "execution_count": 15,
   "id": "7b038409-8a6d-437e-97d6-6ec128225269",
   "metadata": {},
   "outputs": [
    {
     "data": {
      "text/plain": [
       "\"\\npoints_contours = [(point[0], point[1]) for point in contours]\\npoints_interieurs = []\\n\\nfor i in tqdm(range(len(grid))):\\n    nb_borders_crossed = 0\\n    last_vertical = ''\\n\\n    for j in range(len(grid[0])):\\n        if (i, j) in points_contours:\\n\\n            if grid[i][j] == '|':\\n                nb_borders_crossed += 1\\n            elif grid[i][j] == '7' and last_vertical == 'L':\\n                nb_borders_crossed += 1\\n            elif grid[i][j] == 'J' and last_vertical == 'F':\\n                nb_borders_crossed += 1\\n\\n            if grid[i][j] != '-':\\n                last_vertical = grid[i][j]\\n\\n        elif nb_borders_crossed % 2 == 1:\\n                points_interieurs.append((i, j))\\n\""
      ]
     },
     "execution_count": 15,
     "metadata": {},
     "output_type": "execute_result"
    }
   ],
   "source": [
    "# Trop long\n",
    "\n",
    "\"\"\"\n",
    "points_contours = [(point[0], point[1]) for point in contours]\n",
    "points_interieurs = []\n",
    "\n",
    "for i in tqdm(range(len(grid))):\n",
    "    nb_borders_crossed = 0\n",
    "    last_vertical = ''\n",
    "\n",
    "    for j in range(len(grid[0])):\n",
    "        if (i, j) in points_contours:\n",
    "\n",
    "            if grid[i][j] == '|':\n",
    "                nb_borders_crossed += 1\n",
    "            elif grid[i][j] == '7' and last_vertical == 'L':\n",
    "                nb_borders_crossed += 1\n",
    "            elif grid[i][j] == 'J' and last_vertical == 'F':\n",
    "                nb_borders_crossed += 1\n",
    "\n",
    "            if grid[i][j] != '-':\n",
    "                last_vertical = grid[i][j]\n",
    "\n",
    "        elif nb_borders_crossed % 2 == 1:\n",
    "                points_interieurs.append((i, j))\n",
    "\"\"\""
   ]
  },
  {
   "cell_type": "code",
   "execution_count": 16,
   "id": "e95e1baa-da79-427b-b8ed-50ea010945df",
   "metadata": {},
   "outputs": [],
   "source": [
    "# Trop long\n",
    "# len(points_interieurs) + edge_size"
   ]
  },
  {
   "cell_type": "markdown",
   "id": "8dc36a8f-3b70-4299-92e9-bf941187cd3b",
   "metadata": {},
   "source": [
    "### Shoelace formula"
   ]
  },
  {
   "cell_type": "code",
   "execution_count": 17,
   "id": "5610fe4d-c326-40cc-ab79-bd525f4ca603",
   "metadata": {},
   "outputs": [
    {
     "name": "stderr",
     "output_type": "stream",
     "text": [
      "100%|██████████| 166160156/166160156 [00:45<00:00, 3628692.22it/s]"
     ]
    },
    {
     "name": "stdout",
     "output_type": "stream",
     "text": [
      "630\n"
     ]
    },
    {
     "name": "stderr",
     "output_type": "stream",
     "text": [
      "\n"
     ]
    }
   ],
   "source": [
    "# Alternative trouvée sur Reddit J10 : https://en.wikipedia.org/wiki/Shoelace_formula\n",
    "\n",
    "angles = []\n",
    "\n",
    "for i in tqdm(range(edge_size)):\n",
    "    if contours[i][2] != contours[(i+1)%edge_size][2]:\n",
    "        angles.append(contours[i])\n",
    "\n",
    "print(len(angles))"
   ]
  },
  {
   "cell_type": "code",
   "execution_count": 18,
   "id": "e21034b9-1dc9-4dfe-a16d-e3aa5bd440d0",
   "metadata": {},
   "outputs": [
    {
     "data": {
      "text/plain": [
       "[(0, -33017, 'L'), (-406618, -33017, 'U'), (-406618, -583016, 'L')]"
      ]
     },
     "execution_count": 18,
     "metadata": {},
     "output_type": "execute_result"
    }
   ],
   "source": [
    "angles[:3]"
   ]
  },
  {
   "cell_type": "code",
   "execution_count": 19,
   "id": "61b078b9-46d1-4a29-b8e1-2392a846471b",
   "metadata": {},
   "outputs": [],
   "source": [
    "def shoelace_formula(angles):  # J'avoue avoir dû chercher la formule sur Internet pour pouvoir la recoder\n",
    "    somme = 0\n",
    "    n = len(angles)\n",
    "    for i in range(n):\n",
    "        x_1, y_1, _ = angles[i]\n",
    "        x_2, y_2, _ = angles[(i+1)%n]\n",
    "        somme += x_1 * y_2 - x_2 * y_1\n",
    "    return abs(somme) >> 1"
   ]
  },
  {
   "cell_type": "code",
   "execution_count": 20,
   "id": "7f2835e1-2247-4b11-8d5b-9b048123e25f",
   "metadata": {},
   "outputs": [
    {
     "data": {
      "text/plain": [
       "94116351948493"
      ]
     },
     "execution_count": 20,
     "metadata": {},
     "output_type": "execute_result"
    }
   ],
   "source": [
    "shoelace_formula(angles) + (edge_size >> 1) + 1"
   ]
  }
 ],
 "metadata": {
  "kernelspec": {
   "display_name": "Python 3 (ipykernel)",
   "language": "python",
   "name": "python3"
  },
  "language_info": {
   "codemirror_mode": {
    "name": "ipython",
    "version": 3
   },
   "file_extension": ".py",
   "mimetype": "text/x-python",
   "name": "python",
   "nbconvert_exporter": "python",
   "pygments_lexer": "ipython3",
   "version": "3.10.13"
  }
 },
 "nbformat": 4,
 "nbformat_minor": 5
}
