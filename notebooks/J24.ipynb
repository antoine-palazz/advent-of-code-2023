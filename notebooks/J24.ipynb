{
 "cells": [
  {
   "cell_type": "markdown",
   "id": "0d13e75d-1c38-42cd-8975-84ae4321ed89",
   "metadata": {},
   "source": [
    "## Imports"
   ]
  },
  {
   "cell_type": "code",
   "execution_count": 36,
   "id": "0dda617d-1da1-4eec-9a3b-a7af0e1536d2",
   "metadata": {},
   "outputs": [],
   "source": [
    "!pip install -q z3\n",
    "!pip install -q z3-solver"
   ]
  },
  {
   "cell_type": "code",
   "execution_count": 37,
   "id": "7e43872b-b15b-4120-9aa7-c0f0d35b21e3",
   "metadata": {},
   "outputs": [],
   "source": [
    "from tqdm import tqdm\n",
    "from z3 import Int, Solver"
   ]
  },
  {
   "cell_type": "code",
   "execution_count": 38,
   "id": "50b01151-9952-42b9-9534-b9d91a6d9ef4",
   "metadata": {},
   "outputs": [],
   "source": [
    "day = \"24\""
   ]
  },
  {
   "cell_type": "code",
   "execution_count": 39,
   "id": "ff5966ba-d055-4c6b-bed2-f46b0b308ba9",
   "metadata": {},
   "outputs": [
    {
     "data": {
      "text/plain": [
       "300"
      ]
     },
     "execution_count": 39,
     "metadata": {},
     "output_type": "execute_result"
    }
   ],
   "source": [
    "with open(f\"input_j{day}.txt\") as f:\n",
    "# with open(\"test.txt\") as f:\n",
    "    stones = f.readlines()\n",
    "    stones = list(map(lambda x: x.replace(\"\\n\", \"\"), stones))\n",
    "\n",
    "n = len(stones)\n",
    "n"
   ]
  },
  {
   "cell_type": "code",
   "execution_count": 40,
   "id": "1a6a4aa8-371d-4a09-bcb8-2c9892f8a88a",
   "metadata": {},
   "outputs": [],
   "source": [
    "for i in range(n):\n",
    "    position = stones[i].split(\" @ \")[0].split(\", \")\n",
    "    vitesse = stones[i].split(\" @ \")[1].split(\", \")\n",
    "    stones[i] = {\n",
    "        \"x\": int(position[0]),\n",
    "        \"y\": int(position[1]),\n",
    "        \"z\": int(position[2]),\n",
    "        \"vx\": int(vitesse[0]),\n",
    "        \"vy\": int(vitesse[1]),\n",
    "        \"vz\": int(vitesse[2])\n",
    "    }"
   ]
  },
  {
   "cell_type": "code",
   "execution_count": 41,
   "id": "3030617c-41f5-4be5-9ff0-7420dd700acf",
   "metadata": {},
   "outputs": [
    {
     "data": {
      "text/plain": [
       "{'x': 309254625334097,\n",
       " 'y': 251732589486275,\n",
       " 'z': 442061964691135,\n",
       " 'vx': -42,\n",
       " 'vy': -22,\n",
       " 'vz': -45}"
      ]
     },
     "execution_count": 41,
     "metadata": {},
     "output_type": "execute_result"
    }
   ],
   "source": [
    "stones[0]"
   ]
  },
  {
   "cell_type": "markdown",
   "id": "6fd1928e-1d24-4542-ab41-288f42559c3a",
   "metadata": {},
   "source": [
    "## Part 1"
   ]
  },
  {
   "cell_type": "code",
   "execution_count": 42,
   "id": "612761e7-b84d-4df3-a638-293459fc9851",
   "metadata": {},
   "outputs": [],
   "source": [
    "def intersection_2d(stone_1, stone_2):\n",
    "\n",
    "    x1, y1, vx1, vy1 = stone_1['x'], stone_1['y'], stone_1['vx'], stone_1['vy']\n",
    "    x2, y2, vx2, vy2 = stone_2['x'], stone_2['y'], stone_2['vx'], stone_2['vy']\n",
    "\n",
    "    if (x1 == x2) and (y1 == y2):\n",
    "        return (x1, y1)  # Points superposés\n",
    "\n",
    "    if vx1 * vy2 == vy1 * vx2:\n",
    "\n",
    "        if ((x2 - x1) * vy1 == (y2 - y1) * vx1) and (vx1 * vx2 <= 0) and (vy1 * vy2 <= 0):\n",
    "            # Trajectoires parallèles, mais colinéaires et se dirigeant l'une vers l'autre\n",
    "            t_intersection = (x2 - x1) / (vx1 - vx2)\n",
    "            if t_intersection < 0:\n",
    "                return (float(\"inf\"), float(\"inf\"))\n",
    "            x_intersection = x1 + vx1 * t_intersection\n",
    "            y_intersection = y1 + vy1 * t_intersection\n",
    "            return (x_intersection, y_intersection)\n",
    "\n",
    "        return (float(\"inf\"), float(\"inf\"))  # Trajectoires parallèles et pas d'intersection\n",
    "\n",
    "    t_intersection_1 = ((x1 - x2) * vy2 - (y1 - y2) * vx2) / (vy1 * vx2 - vx1 * vy2)\n",
    "    t_intersection_2 = ((x1 - x2) * vy1 - (y1 - y2) * vx1) / (vx2 * vy1 - vy2 * vx1)\n",
    "    if t_intersection_1 < 0 or t_intersection_2 < 0:\n",
    "        return (float(\"inf\"), float(\"inf\"))\n",
    "    # print(t_intersection_1, t_intersection_2)\n",
    "    x_intersection = x1 + vx1 * t_intersection_1\n",
    "    y_intersection = y1 + vy1 * t_intersection_1\n",
    "\n",
    "    return (x_intersection, y_intersection)  # Trajectoires sécantes\n"
   ]
  },
  {
   "cell_type": "code",
   "execution_count": 43,
   "id": "d3f5dc30-1c42-4e87-a31e-00e003dc096a",
   "metadata": {},
   "outputs": [],
   "source": [
    "def are_stones_colliding_within_area(stone_1, stone_2,\n",
    "                                     x_min=200000000000000,\n",
    "                                     x_max=400000000000000,\n",
    "                                     y_min=200000000000000,\n",
    "                                     y_max=400000000000000):\n",
    "    x_intersection, y_intersection = intersection_2d(stone_1, stone_2)\n",
    "    return (\n",
    "        (\n",
    "            (x_intersection >= x_min) and (x_intersection <= x_max)\n",
    "        ) and (\n",
    "            (y_intersection >= y_min) and (y_intersection <= y_max)\n",
    "        )\n",
    "    )\n"
   ]
  },
  {
   "cell_type": "code",
   "execution_count": 44,
   "id": "d092dc22-6cbe-4103-935a-1f41f8665e24",
   "metadata": {},
   "outputs": [
    {
     "name": "stderr",
     "output_type": "stream",
     "text": [
      "100%|██████████| 300/300 [00:00<00:00, 3480.48it/s]\n"
     ]
    }
   ],
   "source": [
    "compteur = 0\n",
    "for i in tqdm(range(n)):\n",
    "    for j in range(i+1, n):\n",
    "        # print(i, j, intersection_2d(stones[i], stones[j]))\n",
    "        if are_stones_colliding_within_area(stones[i], stones[j]):\n",
    "            compteur += 1\n"
   ]
  },
  {
   "cell_type": "code",
   "execution_count": 45,
   "id": "7de251d1-1355-4dc0-9afb-d7ae21a2dab0",
   "metadata": {},
   "outputs": [
    {
     "data": {
      "text/plain": [
       "31921"
      ]
     },
     "execution_count": 45,
     "metadata": {},
     "output_type": "execute_result"
    }
   ],
   "source": [
    "compteur"
   ]
  },
  {
   "cell_type": "markdown",
   "id": "8623ca03-6028-4e97-8b88-bf9c364248d1",
   "metadata": {},
   "source": [
    "### Part 2"
   ]
  },
  {
   "cell_type": "code",
   "execution_count": 46,
   "id": "b246f104-ac8b-45db-980f-5f324be8fcc0",
   "metadata": {},
   "outputs": [],
   "source": [
    "stone_ex = {'x': 24,\n",
    " 'y': 13,\n",
    " 'z': 10,\n",
    " 'vx': -3,\n",
    " 'vy': 1,\n",
    " 'vz': 2}"
   ]
  },
  {
   "cell_type": "code",
   "execution_count": 47,
   "id": "52587245-c52b-4f94-ab65-6a7830605189",
   "metadata": {},
   "outputs": [],
   "source": [
    "def intersection_3d(stone_1, stone_2):\n",
    "\n",
    "    x1, y1, z1, vx1, vy1, vz1 = stone_1['x'], stone_1['y'], stone_1['z'], stone_1['vx'], stone_1['vy'], stone_1['vz']\n",
    "    x2, y2, z2, vx2, vy2, vz2 = stone_2['x'], stone_2['y'], stone_2['z'], stone_2['vx'], stone_2['vy'], stone_2['vz']\n",
    "\n",
    "    if (x1 == x2) and (y1 == y2) and (z1 == z2):\n",
    "        return (x1, y1, z1)  # Points superposés\n",
    "\n",
    "    det_xy = vy1 * vx2 - vx1 * vy2\n",
    "    det_xz = vz1 * vx2 - vx1 * vz2\n",
    "    det_yz = vy1 * vz2 - vz1 * vy2\n",
    "\n",
    "    if det_xy == 0 and det_xz == 0 and det_yz == 0:\n",
    "        if (\n",
    "            (x2 - x1) * vy1 == (y2 - y1) * vx1\n",
    "        ) and (\n",
    "            (x2 - x1) * vz1 == (z2 - z1) * vx1\n",
    "        ) and (\n",
    "            (y2 - y1) * vz1 == (z2 - z1) * vy1\n",
    "        ) and (\n",
    "            (vx1 * vx2 <= 0) and (vy1 * vy2 <= 0) and (vz1 * vz2 <= 0)\n",
    "        ):\n",
    "            # Trajectoires parallèles, colinéaires et se dirigeant l'une vers l'autre\n",
    "            t_intersection = (x2 - x1) / (vx1 - vx2)\n",
    "            if t_intersection < 0:\n",
    "                return (float(\"inf\"), float(\"inf\"), float(\"inf\"))\n",
    "            x_intersection = x1 + vx1 * t_intersection\n",
    "            y_intersection = y1 + vy1 * t_intersection\n",
    "            z_intersection = z1 + vz1 * t_intersection\n",
    "            return (x_intersection, y_intersection, z_intersection)\n",
    "\n",
    "        return (float(\"inf\"), float(\"inf\"), float(\"inf\"))  # Trajectoires parallèles et pas d'intersection\n",
    "\n",
    "    # Calcul des temps d'intersection\n",
    "    t_intersection_1 = ((x1 - x2) * vy2 - (y1 - y2) * vx2) / det_xy if det_xy != 0 else 0\n",
    "    t_intersection_2 = ((x1 - x2) * vz2 - (z1 - z2) * vx2) / det_xz if det_xz != 0 else 0\n",
    "    t_intersection_3 = ((z1 - z2) * vy2 - (y1 - y2) * vz2) / det_yz if det_yz != 0 else 0\n",
    "    # print(t_intersection_1, t_intersection_2, t_intersection_3)\n",
    "    # Vérifier si les temps d'intersection sont positifs\n",
    "    if t_intersection_1 < 0 or t_intersection_2 < 0 or t_intersection_3 < 0:\n",
    "        return (float(\"inf\"), float(\"inf\"), float(\"inf\"))\n",
    "\n",
    "    x_intersection = int(x1 + vx1 * t_intersection_1)\n",
    "    y_intersection = int(y1 + vy1 * t_intersection_1)\n",
    "    z_intersection = int(z1 + vz1 * t_intersection_1)\n",
    "\n",
    "    return (x_intersection, y_intersection, z_intersection)  # Trajectoires sécantes\n"
   ]
  },
  {
   "cell_type": "code",
   "execution_count": 48,
   "id": "0dae5d60-1f51-4e8c-8366-57a1d1c07d0c",
   "metadata": {},
   "outputs": [],
   "source": [
    "# for stone in stones:\n",
    "#     print(intersection_3d(stone, stone_ex))"
   ]
  },
  {
   "cell_type": "markdown",
   "id": "6b4b8b17-5acf-49b4-8245-cd69ae9fa260",
   "metadata": {},
   "source": [
    "Brut force searching of solutions did not work (wayyyyy too long).\n",
    "\n",
    "I had to go on Reddit to see that people were using a package called Z3 to do the numerical solving of the system, that I thought was too complicated by hand. I was not able to find a more proper solution, so I will juste use the documentation of the package and go through with it: https://ericpony.github.io/z3py-tutorial/guide-examples.htm."
   ]
  },
  {
   "cell_type": "code",
   "execution_count": 49,
   "id": "758ccc52-da1f-4c0f-bd83-ad609cb7951b",
   "metadata": {},
   "outputs": [
    {
     "data": {
      "text/html": [
       "<b>sat</b>"
      ],
      "text/plain": [
       "sat"
      ]
     },
     "execution_count": 49,
     "metadata": {},
     "output_type": "execute_result"
    }
   ],
   "source": [
    "x, y, z, vx, vy, vz = Int('x'), Int('y'), Int('z'), Int('vx'), Int('vy'), Int('vz')\n",
    "times = [Int(f\"t_{i}\") for i in range(n)]\n",
    "\n",
    "solver = Solver()\n",
    "for i in range(n):\n",
    "  solver.add(x + times[i]*vx - stones[i]['x'] - times[i]*stones[i]['vx'] == 0)\n",
    "  solver.add(y + times[i]*vy - stones[i]['y'] - times[i]*stones[i]['vy'] == 0)\n",
    "  solver.add(z + times[i]*vz - stones[i]['z'] - times[i]*stones[i]['vz'] == 0)\n",
    "\n",
    "solver.check()"
   ]
  },
  {
   "cell_type": "code",
   "execution_count": 50,
   "id": "bcff503d-ed1a-4cc7-8ffc-76bd1b5dc3ce",
   "metadata": {},
   "outputs": [
    {
     "data": {
      "text/html": [
       "761691907059631"
      ],
      "text/plain": [
       "761691907059631"
      ]
     },
     "execution_count": 50,
     "metadata": {},
     "output_type": "execute_result"
    }
   ],
   "source": [
    "modele = solver.model()\n",
    "modele.eval(x+y+z)"
   ]
  },
  {
   "cell_type": "code",
   "execution_count": null,
   "id": "cb5c2751-d584-4a17-b6d2-a13a26db5526",
   "metadata": {},
   "outputs": [],
   "source": []
  }
 ],
 "metadata": {
  "kernelspec": {
   "display_name": "Python 3 (ipykernel)",
   "language": "python",
   "name": "python3"
  },
  "language_info": {
   "codemirror_mode": {
    "name": "ipython",
    "version": 3
   },
   "file_extension": ".py",
   "mimetype": "text/x-python",
   "name": "python",
   "nbconvert_exporter": "python",
   "pygments_lexer": "ipython3",
   "version": "3.10.13"
  }
 },
 "nbformat": 4,
 "nbformat_minor": 5
}
