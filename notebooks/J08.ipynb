{
 "cells": [
  {
   "cell_type": "markdown",
   "id": "0d13e75d-1c38-42cd-8975-84ae4321ed89",
   "metadata": {},
   "source": [
    "## Imports"
   ]
  },
  {
   "cell_type": "code",
   "execution_count": 1,
   "id": "50b01151-9952-42b9-9534-b9d91a6d9ef4",
   "metadata": {},
   "outputs": [],
   "source": [
    "day = \"08\""
   ]
  },
  {
   "cell_type": "code",
   "execution_count": 2,
   "id": "ff5966ba-d055-4c6b-bed2-f46b0b308ba9",
   "metadata": {},
   "outputs": [],
   "source": [
    "with open(f\"input_j{day}.txt\") as f:\n",
    "    network = f.readlines()\n",
    "    network = list(map(lambda x: x.replace(\"\\n\", \"\"), network))"
   ]
  },
  {
   "cell_type": "code",
   "execution_count": 3,
   "id": "d3d68f30-a5cc-4214-9253-f0558827dbb9",
   "metadata": {},
   "outputs": [],
   "source": [
    "instructions = [x for x in network[0]]\n",
    "nb_instructions = len(instructions)"
   ]
  },
  {
   "cell_type": "code",
   "execution_count": 4,
   "id": "24fb0b73-a0fb-43b0-a16e-2fc91e92d3b2",
   "metadata": {},
   "outputs": [],
   "source": [
    "directions = {}\n",
    "for row in  network[2:]:\n",
    "    directions[row[:3]] = {\"L\": row[7:10], \"R\": row[12:15]}"
   ]
  },
  {
   "cell_type": "markdown",
   "id": "6fd1928e-1d24-4542-ab41-288f42559c3a",
   "metadata": {},
   "source": [
    "## Part 1"
   ]
  },
  {
   "cell_type": "code",
   "execution_count": 5,
   "id": "612761e7-b84d-4df3-a638-293459fc9851",
   "metadata": {},
   "outputs": [
    {
     "data": {
      "text/plain": [
       "16409"
      ]
     },
     "execution_count": 5,
     "metadata": {},
     "output_type": "execute_result"
    }
   ],
   "source": [
    "compteur = 0\n",
    "spot = \"AAA\"\n",
    "nb_instruction = 0\n",
    "\n",
    "while spot != \"ZZZ\":\n",
    "    spot = directions[spot][instructions[nb_instruction]]\n",
    "    nb_instruction = (nb_instruction + 1) % nb_instructions\n",
    "    compteur += 1\n",
    "\n",
    "compteur"
   ]
  },
  {
   "cell_type": "markdown",
   "id": "eed08d47-8735-4e46-b298-299d5efd16f2",
   "metadata": {},
   "source": [
    "## Part 2"
   ]
  },
  {
   "cell_type": "markdown",
   "id": "9df64250-716f-467c-9e11-86b59d73c285",
   "metadata": {},
   "source": [
    "### Brut force"
   ]
  },
  {
   "cell_type": "code",
   "execution_count": 6,
   "id": "43abed11-2964-4547-bfd0-0bf199c5eccc",
   "metadata": {},
   "outputs": [
    {
     "name": "stdout",
     "output_type": "stream",
     "text": [
      "10000000\n"
     ]
    },
    {
     "data": {
      "text/plain": [
       "10000000"
      ]
     },
     "execution_count": 6,
     "metadata": {},
     "output_type": "execute_result"
    }
   ],
   "source": [
    "compteur = 0\n",
    "spots = [x for x in directions.keys() if x[2] == \"A\"]\n",
    "nb_spots = len(spots)\n",
    "nb_instruction = 0\n",
    "is_finished = False\n",
    "\n",
    "while not is_finished:  # Beaucoup trop long pour finir en un temps raisonnable\n",
    "    is_finished = True\n",
    "    for i in range(nb_spots):\n",
    "        spots[i] = directions[spots[i]][instructions[nb_instruction]]\n",
    "        if spots[i][2] != \"Z\":\n",
    "            is_finished = False\n",
    "    nb_instruction = (nb_instruction + 1) % nb_instructions\n",
    "    compteur += 1\n",
    "    if compteur % 10000000 == 0:\n",
    "        print(compteur)\n",
    "        break # Pour éviter la boucle infinie\n",
    "\n",
    "compteur"
   ]
  },
  {
   "cell_type": "markdown",
   "id": "29372977-1970-43fd-9554-575819bfbb1f",
   "metadata": {},
   "source": [
    "### Autres essais"
   ]
  },
  {
   "cell_type": "code",
   "execution_count": 7,
   "id": "5de308a3-0842-4143-9c89-f32059321078",
   "metadata": {},
   "outputs": [
    {
     "data": {
      "text/plain": [
       "['QXA', 'PDA', 'TDA', 'QQA', 'PPA', 'AAA']"
      ]
     },
     "execution_count": 7,
     "metadata": {},
     "output_type": "execute_result"
    }
   ],
   "source": [
    "spots = [x for x in directions.keys() if x[2] == \"A\"]\n",
    "spots"
   ]
  },
  {
   "cell_type": "code",
   "execution_count": 8,
   "id": "078ee206-199e-4e35-a937-7f06398f419b",
   "metadata": {},
   "outputs": [
    {
     "data": {
      "text/plain": [
       "['HLZ', 'PXZ', 'VJZ', 'NBZ', 'XBZ', 'ZZZ']"
      ]
     },
     "execution_count": 8,
     "metadata": {},
     "output_type": "execute_result"
    }
   ],
   "source": [
    "spots_finaux = [x for x in directions.keys() if x[2] == \"Z\"]\n",
    "spots_finaux"
   ]
  },
  {
   "cell_type": "code",
   "execution_count": 9,
   "id": "da655155-f6a3-4795-a2ec-914d5f36889f",
   "metadata": {},
   "outputs": [
    {
     "name": "stdout",
     "output_type": "stream",
     "text": [
      "12645 1\n",
      "14261 1\n",
      "15873 1\n",
      "18027 1\n",
      "19642 1\n",
      "16411 1\n"
     ]
    }
   ],
   "source": [
    "liste_sets_etats = []\n",
    "liste_sets_etats_finaux = []\n",
    "\n",
    "for spot in spots:\n",
    "    \n",
    "    set_etats = set()\n",
    "    set_etats_finaux = set()\n",
    "    nb_instruction = 0\n",
    "    compteur = 0\n",
    "\n",
    "    while (spot, nb_instruction) not in set_etats:\n",
    "        set_etats.add((spot, nb_instruction))\n",
    "        if spot[2] == \"Z\":\n",
    "            set_etats_finaux.add((spot, nb_instruction, compteur))\n",
    "        spot = directions[spot][instructions[nb_instruction]]\n",
    "        nb_instruction = (nb_instruction + 1) % nb_instructions\n",
    "        compteur += 1\n",
    "\n",
    "    liste_sets_etats.append(set_etats)\n",
    "    liste_sets_etats_finaux.append(set_etats_finaux)\n",
    "    print(len(set_etats), len(set_etats_finaux))"
   ]
  },
  {
   "cell_type": "code",
   "execution_count": 10,
   "id": "05cc35a1-6dea-4a3f-9541-a20025b1b3d1",
   "metadata": {},
   "outputs": [
    {
     "data": {
      "text/plain": [
       "[{('HLZ', 0, 12643)},\n",
       " {('XBZ', 0, 14257)},\n",
       " {('VJZ', 0, 15871)},\n",
       " {('PXZ', 0, 18023)},\n",
       " {('NBZ', 0, 19637)},\n",
       " {('ZZZ', 0, 16409)}]"
      ]
     },
     "execution_count": 10,
     "metadata": {},
     "output_type": "execute_result"
    }
   ],
   "source": [
    "liste_sets_etats_finaux"
   ]
  },
  {
   "cell_type": "code",
   "execution_count": 12,
   "id": "c98e6881-8ff4-4a55-8312-80392d5a9025",
   "metadata": {},
   "outputs": [
    {
     "data": {
      "text/plain": [
       "11795205644011"
      ]
     },
     "execution_count": 12,
     "metadata": {},
     "output_type": "execute_result"
    }
   ],
   "source": [
    "from math import lcm\n",
    "\n",
    "n = lcm(12643, 14257, 15871, 18023, 19637, 16409)\n",
    "n"
   ]
  }
 ],
 "metadata": {
  "kernelspec": {
   "display_name": "Python 3 (ipykernel)",
   "language": "python",
   "name": "python3"
  },
  "language_info": {
   "codemirror_mode": {
    "name": "ipython",
    "version": 3
   },
   "file_extension": ".py",
   "mimetype": "text/x-python",
   "name": "python",
   "nbconvert_exporter": "python",
   "pygments_lexer": "ipython3",
   "version": "3.10.13"
  }
 },
 "nbformat": 4,
 "nbformat_minor": 5
}
