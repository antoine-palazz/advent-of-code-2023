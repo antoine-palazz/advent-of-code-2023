{
 "cells": [
  {
   "cell_type": "markdown",
   "id": "0d13e75d-1c38-42cd-8975-84ae4321ed89",
   "metadata": {},
   "source": [
    "## Imports"
   ]
  },
  {
   "cell_type": "code",
   "execution_count": 1,
   "id": "1607ab71-770f-4d34-b7b0-412c912b2f99",
   "metadata": {},
   "outputs": [],
   "source": [
    "from tqdm import tqdm"
   ]
  },
  {
   "cell_type": "code",
   "execution_count": 2,
   "id": "50b01151-9952-42b9-9534-b9d91a6d9ef4",
   "metadata": {},
   "outputs": [],
   "source": [
    "day = \"09\""
   ]
  },
  {
   "cell_type": "code",
   "execution_count": 3,
   "id": "ff5966ba-d055-4c6b-bed2-f46b0b308ba9",
   "metadata": {},
   "outputs": [],
   "source": [
    "with open(f\"input_j{day}.txt\") as f:\n",
    "    sequences = f.readlines()\n",
    "    sequences = list(map(lambda x: [x.replace(\"\\n\", \"\").split()], sequences))\n",
    "\n",
    "n = len(sequences)"
   ]
  },
  {
   "cell_type": "code",
   "execution_count": 4,
   "id": "edd5a0df-3e16-42be-b354-9533927445ce",
   "metadata": {},
   "outputs": [],
   "source": [
    "for i in range(n):\n",
    "    sequences[i][0] = list(map(lambda x: int(x), sequences[i][0]))"
   ]
  },
  {
   "cell_type": "markdown",
   "id": "6fd1928e-1d24-4542-ab41-288f42559c3a",
   "metadata": {},
   "source": [
    "## Part 1"
   ]
  },
  {
   "cell_type": "code",
   "execution_count": 5,
   "id": "3dc938f2-3aff-4f63-8afd-8bf477e23b93",
   "metadata": {},
   "outputs": [
    {
     "name": "stderr",
     "output_type": "stream",
     "text": [
      "100%|██████████| 200/200 [00:00<00:00, 10774.93it/s]\n"
     ]
    },
    {
     "data": {
      "text/plain": [
       "1955513104"
      ]
     },
     "execution_count": 5,
     "metadata": {},
     "output_type": "execute_result"
    }
   ],
   "source": [
    "answers = []\n",
    "\n",
    "for i in tqdm(range(n)):\n",
    "\n",
    "    while set(sequences[i][-1]) != {0}:\n",
    "        new_liste = []\n",
    "        for k in range(len(sequences[i][-1]) - 1):\n",
    "            new_liste.append(sequences[i][-1][k+1] - sequences[i][-1][k])\n",
    "        sequences[i].append(new_liste)\n",
    "\n",
    "    answers.append(sum([sequences[i][k][-1] for k in range(len(sequences[i]))]))\n",
    "\n",
    "sum(answers)"
   ]
  },
  {
   "cell_type": "markdown",
   "id": "9365a41b-3a89-46e7-82cb-133b8674bcf4",
   "metadata": {},
   "source": [
    "## Part 2"
   ]
  },
  {
   "cell_type": "code",
   "execution_count": 6,
   "id": "d8912dfe-49e8-4f09-b46e-1831fae1de7c",
   "metadata": {},
   "outputs": [],
   "source": [
    "new_sequences = sequences.copy()"
   ]
  },
  {
   "cell_type": "code",
   "execution_count": 7,
   "id": "4b75a7bb-d723-4b0e-8c51-c0b53949851f",
   "metadata": {},
   "outputs": [
    {
     "name": "stderr",
     "output_type": "stream",
     "text": [
      "100%|██████████| 200/200 [00:00<00:00, 95379.28it/s]\n"
     ]
    },
    {
     "data": {
      "text/plain": [
       "1131"
      ]
     },
     "execution_count": 7,
     "metadata": {},
     "output_type": "execute_result"
    }
   ],
   "source": [
    "new_answers = []\n",
    "\n",
    "for i in tqdm(range(n)):\n",
    "    for k in range(len(new_sequences[i])-2, -1, -1):\n",
    "        new_sequences[i][k] = [new_sequences[i][k][0] - new_sequences[i][k+1][0]] + new_sequences[i][k]\n",
    "\n",
    "    new_answers.append(sequences[i][0][0])\n",
    "\n",
    "sum(new_answers)"
   ]
  },
  {
   "cell_type": "code",
   "execution_count": null,
   "id": "852c756a-b399-44d2-94fd-34813c2659cb",
   "metadata": {},
   "outputs": [],
   "source": []
  }
 ],
 "metadata": {
  "kernelspec": {
   "display_name": "Python 3 (ipykernel)",
   "language": "python",
   "name": "python3"
  },
  "language_info": {
   "codemirror_mode": {
    "name": "ipython",
    "version": 3
   },
   "file_extension": ".py",
   "mimetype": "text/x-python",
   "name": "python",
   "nbconvert_exporter": "python",
   "pygments_lexer": "ipython3",
   "version": "3.10.13"
  }
 },
 "nbformat": 4,
 "nbformat_minor": 5
}
