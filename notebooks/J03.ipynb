{
 "cells": [
  {
   "cell_type": "markdown",
   "id": "0c5e1073-a5d7-4680-acb4-b1b4933a21ba",
   "metadata": {},
   "source": [
    "## Imports"
   ]
  },
  {
   "cell_type": "code",
   "execution_count": 1,
   "id": "192d5168-9285-4264-be2d-78f64a520aa0",
   "metadata": {},
   "outputs": [],
   "source": [
    "import pandas as pd"
   ]
  },
  {
   "cell_type": "code",
   "execution_count": 2,
   "id": "751cb9b8-e29f-4f12-81fa-24bedfd62f84",
   "metadata": {},
   "outputs": [],
   "source": [
    "day = \"03\""
   ]
  },
  {
   "cell_type": "code",
   "execution_count": 3,
   "id": "f90c90c8-18ed-41a1-9c88-4dadb4ab3d22",
   "metadata": {},
   "outputs": [
    {
     "name": "stdout",
     "output_type": "stream",
     "text": [
      "140 140\n"
     ]
    }
   ],
   "source": [
    "df_rows = pd.read_csv(f\"input_j{day}.txt\", header=None, sep=\" \")\n",
    "rows = list(df_rows[0])\n",
    "\n",
    "n = len(rows)\n",
    "m = len(rows[0])\n",
    "print(n,m)"
   ]
  },
  {
   "cell_type": "markdown",
   "id": "6fd1928e-1d24-4542-ab41-288f42559c3a",
   "metadata": {},
   "source": [
    "## Part 1"
   ]
  },
  {
   "cell_type": "code",
   "execution_count": 4,
   "id": "78783eca-9b00-4552-b34e-6a4ac0981037",
   "metadata": {},
   "outputs": [],
   "source": [
    "compteur = 0\n",
    "\n",
    "for i in range(n):\n",
    "    current_number = ''\n",
    "    is_part = False\n",
    "    for j in range(n):\n",
    "        if rows[i][j].isnumeric():\n",
    "            current_number += rows[i][j]\n",
    "            if not is_part:\n",
    "\n",
    "                if i > 0 and (not rows[i-1][j].isnumeric()) and (rows[i-1][j] != \".\"):\n",
    "                    is_part = True\n",
    "                if i < n-1 and (not rows[i+1][j].isnumeric()) and (rows[i+1][j] != \".\"):\n",
    "                    is_part = True\n",
    "                if j > 0 and (not rows[i][j-1].isnumeric()) and (rows[i][j-1] != \".\"):\n",
    "                    is_part = True\n",
    "                if j < n-1 and (not rows[i][j+1].isnumeric()) and (rows[i][j+1] != \".\"):\n",
    "                    is_part = True\n",
    "\n",
    "                if i > 0 and j > 0 and (not rows[i-1][j-1].isnumeric()) and (rows[i-1][j-1] != \".\"):\n",
    "                    is_part = True\n",
    "                if i < n-1 and j > 0 and (not rows[i+1][j-1].isnumeric()) and (rows[i+1][j-1] != \".\"):\n",
    "                    is_part = True\n",
    "                if i > 0 and j < n-1 and (not rows[i-1][j+1].isnumeric()) and (rows[i-1][j+1] != \".\"):\n",
    "                    is_part = True\n",
    "                if j < n-1 and i < n-1 and (not rows[i+1][j+1].isnumeric()) and (rows[i+1][j+1] != \".\"):\n",
    "                    is_part = True\n",
    "\n",
    "        else:\n",
    "            current_number = \"\"\n",
    "            is_part = False\n",
    "        if current_number != \"\" and (j == n-1 or not rows[i][j+1].isnumeric()):\n",
    "            if is_part:\n",
    "                compteur += int(current_number)"
   ]
  },
  {
   "cell_type": "code",
   "execution_count": 5,
   "id": "07204104-ff6e-4a28-80cc-74bc8beb3688",
   "metadata": {},
   "outputs": [
    {
     "data": {
      "text/plain": [
       "536202"
      ]
     },
     "execution_count": 5,
     "metadata": {},
     "output_type": "execute_result"
    }
   ],
   "source": [
    "compteur"
   ]
  },
  {
   "cell_type": "markdown",
   "id": "d8767cdb-40d7-49b7-874a-f158cf442678",
   "metadata": {},
   "source": [
    "## Part 2"
   ]
  },
  {
   "cell_type": "code",
   "execution_count": 6,
   "id": "758024ec-0437-4b4c-b7a2-91b3e17fe789",
   "metadata": {},
   "outputs": [],
   "source": [
    "dct_gears = {}\n",
    "\n",
    "for i in range(n):\n",
    "    current_number = ''\n",
    "    gears = []\n",
    "    for j in range(n):\n",
    "        if rows[i][j].isnumeric():\n",
    "            current_number += rows[i][j]\n",
    "\n",
    "            if i > 0 and (not rows[i-1][j].isnumeric()) and (rows[i-1][j] == \"*\"):\n",
    "                gears.append((i-1,j))\n",
    "            if i < n-1 and (not rows[i+1][j].isnumeric()) and (rows[i+1][j] == \"*\"):\n",
    "                gears.append((i+1,j))\n",
    "            if j > 0 and (not rows[i][j-1].isnumeric()) and (rows[i][j-1] == \"*\"):\n",
    "                gears.append((i,j-1))\n",
    "            if j < n-1 and (not rows[i][j+1].isnumeric()) and (rows[i][j+1] == \"*\"):\n",
    "                gears.append((i,j+1))\n",
    "\n",
    "            if i > 0 and j > 0 and (not rows[i-1][j-1].isnumeric()) and (rows[i-1][j-1] == \"*\"):\n",
    "                gears.append((i-1,j-1))\n",
    "            if i < n-1 and j > 0 and (not rows[i+1][j-1].isnumeric()) and (rows[i+1][j-1] == \"*\"):\n",
    "                gears.append((i+1,j-1))\n",
    "            if i > 0 and j < n-1 and (not rows[i-1][j+1].isnumeric()) and (rows[i-1][j+1] == \"*\"):\n",
    "                gears.append((i-1,j+1))\n",
    "            if j < n-1 and i < n-1 and (not rows[i+1][j+1].isnumeric()) and (rows[i+1][j+1] == \"*\"):\n",
    "                gears.append((i+1,j+1))\n",
    "\n",
    "        else:\n",
    "            current_number = \"\"\n",
    "            gears = []\n",
    "        if current_number != \"\" and (j == n-1 or not rows[i][j+1].isnumeric()):\n",
    "            gears = list(set(gears))\n",
    "            for gear in gears:\n",
    "                if gear not in dct_gears.keys():\n",
    "                    dct_gears[gear] = [int(current_number)]\n",
    "                else:\n",
    "                    dct_gears[gear].append(int(current_number))\n",
    "\n",
    "compteur = 0\n",
    "for gear in dct_gears.keys():\n",
    "    if len(dct_gears[gear]) == 2:\n",
    "        compteur += dct_gears[gear][0]*dct_gears[gear][1]"
   ]
  },
  {
   "cell_type": "code",
   "execution_count": 7,
   "id": "3d226e70-0c4c-418e-80f0-e16a1027f264",
   "metadata": {},
   "outputs": [
    {
     "data": {
      "text/plain": [
       "78272573"
      ]
     },
     "execution_count": 7,
     "metadata": {},
     "output_type": "execute_result"
    }
   ],
   "source": [
    "compteur"
   ]
  },
  {
   "cell_type": "code",
   "execution_count": null,
   "id": "ea5be3f1-e864-4a10-9c26-5f518cca0378",
   "metadata": {},
   "outputs": [],
   "source": []
  }
 ],
 "metadata": {
  "kernelspec": {
   "display_name": "Python 3 (ipykernel)",
   "language": "python",
   "name": "python3"
  },
  "language_info": {
   "codemirror_mode": {
    "name": "ipython",
    "version": 3
   },
   "file_extension": ".py",
   "mimetype": "text/x-python",
   "name": "python",
   "nbconvert_exporter": "python",
   "pygments_lexer": "ipython3",
   "version": "3.10.13"
  }
 },
 "nbformat": 4,
 "nbformat_minor": 5
}
