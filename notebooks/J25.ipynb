{
 "cells": [
  {
   "cell_type": "markdown",
   "id": "0d13e75d-1c38-42cd-8975-84ae4321ed89",
   "metadata": {},
   "source": [
    "## Imports"
   ]
  },
  {
   "cell_type": "code",
   "execution_count": 52,
   "id": "d87fb624-b6fe-4313-a261-773fff6cd77f",
   "metadata": {},
   "outputs": [],
   "source": [
    "import networkx as nx\n",
    "\n",
    "from tqdm import tqdm"
   ]
  },
  {
   "cell_type": "code",
   "execution_count": 53,
   "id": "50b01151-9952-42b9-9534-b9d91a6d9ef4",
   "metadata": {},
   "outputs": [],
   "source": [
    "day = \"25\"  # Last day!"
   ]
  },
  {
   "cell_type": "code",
   "execution_count": 54,
   "id": "ff5966ba-d055-4c6b-bed2-f46b0b308ba9",
   "metadata": {},
   "outputs": [],
   "source": [
    "with open(f\"input_j{day}.txt\") as f:\n",
    "#with open(\"test.txt\") as f:\n",
    "    components = f.readlines()\n",
    "    components = list(map(lambda x: x.replace(\"\\n\", \"\"), components))"
   ]
  },
  {
   "cell_type": "markdown",
   "id": "6fd1928e-1d24-4542-ab41-288f42559c3a",
   "metadata": {},
   "source": [
    "## Part 1"
   ]
  },
  {
   "cell_type": "code",
   "execution_count": 55,
   "id": "9648941b-058b-4014-bd82-3475fa993886",
   "metadata": {},
   "outputs": [],
   "source": [
    "adjacences = {}\n",
    "\n",
    "for i in range(len(components)):\n",
    "    module_1 = components[i].split(\": \")[0]\n",
    "    modules_2 = components[i].split(\": \")[1].split()\n",
    "\n",
    "    for module_2 in modules_2:\n",
    "\n",
    "        if module_1 in adjacences.keys():\n",
    "            adjacences[module_1].append(module_2)\n",
    "        else:\n",
    "            adjacences[module_1] = [module_2]\n",
    "\n",
    "        if module_2 in adjacences.keys():\n",
    "            adjacences[module_2].append(module_1)\n",
    "        else:\n",
    "            adjacences[module_2] = [module_1]"
   ]
  },
  {
   "cell_type": "code",
   "execution_count": 56,
   "id": "612761e7-b84d-4df3-a638-293459fc9851",
   "metadata": {},
   "outputs": [],
   "source": [
    "graphe = nx.from_dict_of_lists(adjacences)\n",
    "\n",
    "for u,v,d in graphe.edges(data=True):\n",
    "    d['capacity']=1"
   ]
  },
  {
   "cell_type": "code",
   "execution_count": 57,
   "id": "1bba0daa-2adb-497e-b12e-0050112c48a4",
   "metadata": {
    "scrolled": true
   },
   "outputs": [
    {
     "data": {
      "text/plain": [
       "'\\nanswers = set()\\n\\nfor node_1 in tqdm(graphe.nodes):\\n    for node_2 in graphe.nodes:\\n        if node_1 != node_2:\\n            cut = nx.minimum_cut(graphe, node_1, node_2)\\n            if cut[0] == 3:\\n                answers.add(len(cut[1][0])*len(cut[1][1]))\\n\\nanswers\\n'"
      ]
     },
     "execution_count": 57,
     "metadata": {},
     "output_type": "execute_result"
    }
   ],
   "source": [
    "# Too long\n",
    "\n",
    "\"\"\"\n",
    "answers = set()\n",
    "\n",
    "for node_1 in tqdm(graphe.nodes):\n",
    "    for node_2 in graphe.nodes:\n",
    "        if node_1 != node_2:\n",
    "            cut = nx.minimum_cut(graphe, node_1, node_2)\n",
    "            if cut[0] == 3:\n",
    "                answers.add(len(cut[1][0])*len(cut[1][1]))\n",
    "\n",
    "answers\n",
    "\"\"\""
   ]
  },
  {
   "cell_type": "code",
   "execution_count": 58,
   "id": "4eb2cbab-a028-4382-a2fb-79fde3665a9e",
   "metadata": {},
   "outputs": [
    {
     "data": {
      "text/plain": [
       "{('fbd', 'lzd'), ('fxn', 'ptq'), ('kcn', 'szl')}"
      ]
     },
     "execution_count": 58,
     "metadata": {},
     "output_type": "execute_result"
    }
   ],
   "source": [
    "cuts = nx.minimum_edge_cut(graphe)\n",
    "cuts"
   ]
  },
  {
   "cell_type": "code",
   "execution_count": 61,
   "id": "3a1fcd10-4ee9-433f-a08b-fe075748e6fc",
   "metadata": {},
   "outputs": [
    {
     "data": {
      "text/plain": [
       "571753"
      ]
     },
     "execution_count": 61,
     "metadata": {},
     "output_type": "execute_result"
    }
   ],
   "source": [
    "node = cuts.pop()\n",
    "connected_components = nx.minimum_cut(graphe, node[0], node[1])\n",
    "len(connected_components[1][0])*len(connected_components[1][1])"
   ]
  },
  {
   "cell_type": "code",
   "execution_count": null,
   "id": "46e3fb97-549a-4b07-86bd-77f6fe880f20",
   "metadata": {},
   "outputs": [],
   "source": []
  }
 ],
 "metadata": {
  "kernelspec": {
   "display_name": "Python 3 (ipykernel)",
   "language": "python",
   "name": "python3"
  },
  "language_info": {
   "codemirror_mode": {
    "name": "ipython",
    "version": 3
   },
   "file_extension": ".py",
   "mimetype": "text/x-python",
   "name": "python",
   "nbconvert_exporter": "python",
   "pygments_lexer": "ipython3",
   "version": "3.10.13"
  }
 },
 "nbformat": 4,
 "nbformat_minor": 5
}
