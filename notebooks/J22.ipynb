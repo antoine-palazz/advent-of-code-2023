{
 "cells": [
  {
   "cell_type": "markdown",
   "id": "0d13e75d-1c38-42cd-8975-84ae4321ed89",
   "metadata": {
    "jp-MarkdownHeadingCollapsed": true
   },
   "source": [
    "## Imports"
   ]
  },
  {
   "cell_type": "code",
   "execution_count": 1,
   "id": "54025f9a-02e3-4aa7-82f8-040fd6b7c4b4",
   "metadata": {},
   "outputs": [],
   "source": [
    "import copy\n",
    "from tqdm import tqdm"
   ]
  },
  {
   "cell_type": "code",
   "execution_count": 2,
   "id": "50b01151-9952-42b9-9534-b9d91a6d9ef4",
   "metadata": {},
   "outputs": [],
   "source": [
    "day = \"22\""
   ]
  },
  {
   "cell_type": "code",
   "execution_count": 3,
   "id": "ff5966ba-d055-4c6b-bed2-f46b0b308ba9",
   "metadata": {},
   "outputs": [
    {
     "name": "stdout",
     "output_type": "stream",
     "text": [
      "1479\n"
     ]
    }
   ],
   "source": [
    "with open(f\"input_j{day}.txt\") as f:\n",
    "# with open(\"test.txt\") as f:\n",
    "    bricks = f.readlines()\n",
    "    bricks = list(map(lambda x: x.replace(\"\\n\", \"\"), bricks))\n",
    "\n",
    "n = len(bricks)\n",
    "for i in range(n):\n",
    "\n",
    "    bricks[i] = list(map(\n",
    "        lambda end: [int(x) for x in end.split(\",\")],\n",
    "        bricks[i].split(\"~\")\n",
    "    ))\n",
    "\n",
    "    if bricks[i][0][2] > bricks[i][1][2]:\n",
    "        bricks[i][0].reverse()\n",
    "\n",
    "    bricks[i] = [bricks[i][0][2]] + bricks[i]\n",
    "\n",
    "bricks.sort()\n",
    "for i in range(n):\n",
    "    bricks[i] = bricks[i][1:]\n",
    "\n",
    "print(n)"
   ]
  },
  {
   "cell_type": "code",
   "execution_count": 4,
   "id": "8bbc8f4a-e3e4-47e1-adb8-9369f04a723a",
   "metadata": {},
   "outputs": [
    {
     "data": {
      "text/plain": [
       "[[[0, 0, 1], [0, 0, 1]], [[1, 7, 1], [1, 9, 1]], [[2, 2, 1], [5, 2, 1]]]"
      ]
     },
     "execution_count": 4,
     "metadata": {},
     "output_type": "execute_result"
    }
   ],
   "source": [
    "bricks[:3]"
   ]
  },
  {
   "cell_type": "markdown",
   "id": "6fd1928e-1d24-4542-ab41-288f42559c3a",
   "metadata": {},
   "source": [
    "## Application"
   ]
  },
  {
   "cell_type": "code",
   "execution_count": 5,
   "id": "cf8f6d61-ec52-4a77-a833-b6ea625addcb",
   "metadata": {},
   "outputs": [
    {
     "data": {
      "text/plain": [
       "9"
      ]
     },
     "execution_count": 5,
     "metadata": {},
     "output_type": "execute_result"
    }
   ],
   "source": [
    "liste_x = [end[0] for row in bricks for end in row]\n",
    "x_max = max(liste_x)\n",
    "x_max"
   ]
  },
  {
   "cell_type": "code",
   "execution_count": 6,
   "id": "33cb2d44-4755-4e89-8a29-fe4a609a80d5",
   "metadata": {},
   "outputs": [
    {
     "data": {
      "text/plain": [
       "9"
      ]
     },
     "execution_count": 6,
     "metadata": {},
     "output_type": "execute_result"
    }
   ],
   "source": [
    "liste_y = [end[1] for row in bricks for end in row]\n",
    "y_max = max(liste_y)\n",
    "y_max"
   ]
  },
  {
   "cell_type": "code",
   "execution_count": 7,
   "id": "c185d9b5-2bd6-4cf8-88f9-6cbf10bc096f",
   "metadata": {},
   "outputs": [
    {
     "data": {
      "text/plain": [
       "357"
      ]
     },
     "execution_count": 7,
     "metadata": {},
     "output_type": "execute_result"
    }
   ],
   "source": [
    "liste_z = [end[2] for row in bricks for end in row]\n",
    "z_max = max(liste_z)\n",
    "z_max"
   ]
  },
  {
   "cell_type": "code",
   "execution_count": 8,
   "id": "612761e7-b84d-4df3-a638-293459fc9851",
   "metadata": {
    "scrolled": true
   },
   "outputs": [],
   "source": [
    "fallen_bricks = [[[-1 for z in range(z_max+1)] for y in range(y_max+1)] for x in range(x_max+1)]"
   ]
  },
  {
   "cell_type": "code",
   "execution_count": 9,
   "id": "f6f0c6a6-4e37-4bb5-a5c8-8574f561358f",
   "metadata": {},
   "outputs": [],
   "source": [
    "def create_brick(ends):\n",
    "    if ends[0][0] != ends[1][0]:\n",
    "        return [\n",
    "            [x, ends[0][1], ends[0][2]] for x in range(\n",
    "                min(ends[0][0], ends[1][0]),\n",
    "                max(ends[0][0], ends[1][0])+1\n",
    "            )\n",
    "        ]\n",
    "    if ends[0][1] != ends[1][1]:\n",
    "        return [\n",
    "            [ends[0][0], y, ends[0][2]] for y in range(\n",
    "                min(ends[0][1], ends[1][1]),\n",
    "                max(ends[0][1], ends[1][1])+1\n",
    "            )\n",
    "        ]\n",
    "    if ends[0][2] != ends[1][2]:\n",
    "        return [\n",
    "            [ends[0][0], ends[0][1], z] for z in range(\n",
    "                min(ends[0][2], ends[1][2]),\n",
    "                max(ends[0][2], ends[1][2])+1\n",
    "            )\n",
    "        ]\n",
    "    return [ends[0]]"
   ]
  },
  {
   "cell_type": "code",
   "execution_count": 10,
   "id": "ae6f2d0a-c75f-4186-a0c2-07b3e234e5f7",
   "metadata": {},
   "outputs": [
    {
     "name": "stderr",
     "output_type": "stream",
     "text": [
      "100%|██████████| 1479/1479 [00:45<00:00, 32.57it/s]\n"
     ]
    }
   ],
   "source": [
    "for i in tqdm(range(n)):\n",
    "    brick = create_brick(bricks[i])\n",
    "    # print(brick)\n",
    "    z_min = 1\n",
    "    spots = [\n",
    "        [\n",
    "            end[0], end[1], z + end[2] - bricks[i][0][2]\n",
    "        ] for end in brick for z in range(z_min, z_max) if z + end[2] - bricks[i][0][2] <= z_max\n",
    "    ]\n",
    "    while not all([fallen_bricks[spot[0]][spot[1]][spot[2]] == -1 for spot in spots]):\n",
    "        z_min += 1\n",
    "        spots = [\n",
    "            [\n",
    "                end[0], end[1], z + end[2] - bricks[i][0][2]\n",
    "                ] for end in brick for z in range(z_min, z_max) if z + end[2] - bricks[i][0][2] <= z_max\n",
    "            ]\n",
    "    spots = [[end[0], end[1], z_min + end[2]- bricks[i][0][2]] for end in brick]\n",
    "    for spot in spots:\n",
    "        if len(spots) == 0:\n",
    "            print(i)\n",
    "        fallen_bricks[spot[0]][spot[1]][spot[2]] = i"
   ]
  },
  {
   "cell_type": "code",
   "execution_count": 11,
   "id": "5a47aac0-efec-4604-ad22-966c2cbbdd1b",
   "metadata": {
    "scrolled": true
   },
   "outputs": [],
   "source": [
    "# fallen_bricks"
   ]
  },
  {
   "cell_type": "code",
   "execution_count": null,
   "id": "fcbe1d4c-9f04-4664-8023-9f1fbb60cb3d",
   "metadata": {
    "scrolled": true
   },
   "outputs": [],
   "source": [
    "compteur = 0\n",
    "compteur_casses = 0\n",
    "\n",
    "for i in tqdm(range(n)):\n",
    "\n",
    "    test_fallen_bricks = copy.deepcopy(fallen_bricks)\n",
    "    brick = create_brick(bricks[i])\n",
    "    above_bricks = set()\n",
    "    for x in set([end[0] for end in brick]):\n",
    "        for y in set([end[1] for end in brick]):\n",
    "            for z in range(z_max+1):\n",
    "                if fallen_bricks[x][y][z] == i:\n",
    "                    test_fallen_bricks[x][y][z] = -1\n",
    "                    for z_above in range(z+1, z_max+1):\n",
    "                        if fallen_bricks[x][y][z_above] not in [-1, i]:\n",
    "                            above_bricks.add(fallen_bricks[x][y][z_above])\n",
    "\n",
    "    booleen = True\n",
    "    # for j in above_bricks:\n",
    "    for j in range(min(above_bricks), n):\n",
    "        brick = create_brick(bricks[j])\n",
    "        # print(j, brick)\n",
    "        z_min = 1\n",
    "        z_max_j = min([z for z in range(z_max+1) if test_fallen_bricks[brick[0][0]][brick[0][1]][z] == j])\n",
    "        spots = [\n",
    "            [\n",
    "                end[0], end[1], z + end[2] - bricks[j][0][2]\n",
    "                ] for end in brick for z in range(z_min, z_max_j+1) if z + end[2] - bricks[j][0][2] <= z_max\n",
    "            ]\n",
    "        while not all([test_fallen_bricks[spot[0]][spot[1]][spot[2]] in [-1, j] for spot in spots]):\n",
    "            z_min += 1\n",
    "            spots = [\n",
    "                [\n",
    "                    end[0], end[1], z + end[2] - bricks[j][0][2]\n",
    "                    ] for end in brick for z in range(z_min, z_max_j+1) if z + end[2] - bricks[j][0][2] <= z_max\n",
    "                ]\n",
    "\n",
    "        if z_min < z_max_j:\n",
    "\n",
    "            booleen = False\n",
    "            compteur_casses += 1\n",
    "\n",
    "            spots_to_add = [[end[0], end[1], z_min + end[2]- bricks[j][0][2]] for end in brick]\n",
    "            spots_to_remove = [[end[0], end[1], z_max_j + end[2]- bricks[j][0][2]] for end in brick]\n",
    "            for spot in spots_to_remove:\n",
    "                test_fallen_bricks[spot[0]][spot[1]][spot[2]] = -1\n",
    "            for spot in spots_to_add:\n",
    "                test_fallen_bricks[spot[0]][spot[1]][spot[2]] = j\n",
    "\n",
    "    if booleen:\n",
    "        # print(i)\n",
    "        compteur += 1\n"
   ]
  },
  {
   "cell_type": "code",
   "execution_count": null,
   "id": "831a3b81-3520-41a4-85a2-c2504d4eaa78",
   "metadata": {},
   "outputs": [],
   "source": [
    "compteur  # Part 1"
   ]
  },
  {
   "cell_type": "code",
   "execution_count": null,
   "id": "52defdef-405c-4513-877f-81970babb8a0",
   "metadata": {},
   "outputs": [],
   "source": [
    "compteur_casses  # Part 2"
   ]
  },
  {
   "cell_type": "code",
   "execution_count": null,
   "id": "3d1d1eb4-0a5a-4fe9-b42b-cebd880cd0f1",
   "metadata": {},
   "outputs": [],
   "source": []
  }
 ],
 "metadata": {
  "kernelspec": {
   "display_name": "Python 3 (ipykernel)",
   "language": "python",
   "name": "python3"
  },
  "language_info": {
   "codemirror_mode": {
    "name": "ipython",
    "version": 3
   },
   "file_extension": ".py",
   "mimetype": "text/x-python",
   "name": "python",
   "nbconvert_exporter": "python",
   "pygments_lexer": "ipython3",
   "version": "3.10.13"
  }
 },
 "nbformat": 4,
 "nbformat_minor": 5
}
