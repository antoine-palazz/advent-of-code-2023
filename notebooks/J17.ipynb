{
 "cells": [
  {
   "cell_type": "markdown",
   "id": "0d13e75d-1c38-42cd-8975-84ae4321ed89",
   "metadata": {
    "jp-MarkdownHeadingCollapsed": true
   },
   "source": [
    "## Imports"
   ]
  },
  {
   "cell_type": "code",
   "execution_count": 1,
   "id": "8c3733b1-078f-42b7-87b7-a312369e3d84",
   "metadata": {},
   "outputs": [],
   "source": [
    "import sys\n",
    "sys.setrecursionlimit(10**4)\n",
    "\n",
    "from functools import cache"
   ]
  },
  {
   "cell_type": "code",
   "execution_count": 2,
   "id": "50b01151-9952-42b9-9534-b9d91a6d9ef4",
   "metadata": {},
   "outputs": [],
   "source": [
    "day = \"17\""
   ]
  },
  {
   "cell_type": "code",
   "execution_count": 3,
   "id": "ff5966ba-d055-4c6b-bed2-f46b0b308ba9",
   "metadata": {},
   "outputs": [
    {
     "name": "stdout",
     "output_type": "stream",
     "text": [
      "141 141\n"
     ]
    }
   ],
   "source": [
    "with open(f\"input_j{day}.txt\") as f:\n",
    "# with open(\"test.txt\") as f:\n",
    "    grid = f.readlines()\n",
    "    grid = list(map(lambda x: x.replace(\"\\n\", \"\"), grid))\n",
    "    grid = list(map(lambda x: [int(case) for case in x], grid))\n",
    "\n",
    "n, m = len(grid), len(grid[0])\n",
    "print(n, m)"
   ]
  },
  {
   "cell_type": "code",
   "execution_count": 4,
   "id": "1404c96f-0143-41cd-96fb-89e1ec2772dc",
   "metadata": {},
   "outputs": [],
   "source": [
    "nb_same_dir_max = 3\n",
    "directions = {'r': 0, 'l': 1, 'u': 2, 'd': 3}"
   ]
  },
  {
   "cell_type": "markdown",
   "id": "6fd1928e-1d24-4542-ab41-288f42559c3a",
   "metadata": {},
   "source": [
    "## Part 1"
   ]
  },
  {
   "cell_type": "code",
   "execution_count": 5,
   "id": "5ef236e8-2780-4d10-96f6-3db76d3dc106",
   "metadata": {},
   "outputs": [],
   "source": [
    "distances_optimales = [\n",
    "    [\n",
    "        [\n",
    "            [\n",
    "                float(\"inf\") for _ in range(nb_same_dir_max+1)\n",
    "            ] for _ in directions.keys()\n",
    "        ] for _ in range(m)\n",
    "    ] for _ in range(n)\n",
    "]\n",
    "\n",
    "for dir in directions.keys():\n",
    "    for nb_same_dir in range(1, nb_same_dir_max):\n",
    "        distances_optimales[n-1][m-1][directions[dir]][nb_same_dir] = grid[n-1][m-1]"
   ]
  },
  {
   "cell_type": "markdown",
   "id": "337139ba-da58-43c4-9a31-51f56b48c66a",
   "metadata": {
    "jp-MarkdownHeadingCollapsed": true
   },
   "source": [
    "### Basic functions"
   ]
  },
  {
   "cell_type": "code",
   "execution_count": 6,
   "id": "e1ba717b-8584-4df2-9e12-19caaa56bcaf",
   "metadata": {},
   "outputs": [],
   "source": [
    "def possible_directions(dir, nb_same_dir):\n",
    "    directions = []\n",
    "    if nb_same_dir < nb_same_dir_max:\n",
    "        directions.append((dir, nb_same_dir+1))\n",
    "    if dir == 'r':\n",
    "        directions.extend([('u', 1), ('d', 1)])\n",
    "    if dir == 'l':\n",
    "        directions.extend([('u', 1), ('d', 1)])\n",
    "    if dir == 'u':\n",
    "        directions.extend([('l', 1), ('r', 1)])\n",
    "    if dir == 'd':\n",
    "        directions.extend([('l', 1), ('r', 1)])\n",
    "    return directions"
   ]
  },
  {
   "cell_type": "code",
   "execution_count": 7,
   "id": "982f77d2-46a3-4e96-b8cc-4d2b3e04478f",
   "metadata": {},
   "outputs": [],
   "source": [
    "def next_case(x, y, dir, nb_same_dir):\n",
    "    if dir == 'd' and x < n-1:\n",
    "        return x+1, y, dir, nb_same_dir\n",
    "    if dir == 'u' and x > 0:\n",
    "        return x-1, y, dir, nb_same_dir\n",
    "    if dir == 'r' and y < m-1:\n",
    "        return x, y+1, dir, nb_same_dir\n",
    "    if dir == 'l' and y > 0:\n",
    "        return x, y-1, dir, nb_same_dir\n",
    "    return False"
   ]
  },
  {
   "cell_type": "markdown",
   "id": "6e5b7496-43c3-40d4-936a-cd3e6664a86e",
   "metadata": {
    "jp-MarkdownHeadingCollapsed": true
   },
   "source": [
    "### Essai infructueux"
   ]
  },
  {
   "cell_type": "code",
   "execution_count": 8,
   "id": "612761e7-b84d-4df3-a638-293459fc9851",
   "metadata": {
    "scrolled": true
   },
   "outputs": [],
   "source": [
    "# Trop long\n",
    "\n",
    "# @cache\n",
    "def chemin_optimal_from(x, y, dir, nb_same_dir, deja_vus):\n",
    "\n",
    "    if distances_optimales[x][y][directions[dir]][nb_same_dir] != float(\"inf\"):\n",
    "        return distances_optimales[x][y][directions[dir]][nb_same_dir]\n",
    "\n",
    "    new_deja_vus = deja_vus.copy()\n",
    "    new_deja_vus.add((x, y, dir, nb_same_dir))\n",
    "\n",
    "    possible_dirs = possible_directions(dir, nb_same_dir)\n",
    "    next_cases = [\n",
    "        next_case(x, y, new_dir[0], new_dir[1]) for new_dir in possible_dirs if next_case(x, y, new_dir[0], new_dir[1])\n",
    "    ]\n",
    "    next_cases = [case for case in next_cases if case not in new_deja_vus]\n",
    "    if (next_cases == []):\n",
    "    # if (next_cases == []) or (len(new_deja_vus) > 5*n):\n",
    "        return float('inf')\n",
    "\n",
    "    distance_optimale = grid[x][y] + min(\n",
    "        chemin_optimal_from(\n",
    "            new_x, new_y, new_dir, new_nb_same_dir, new_deja_vus\n",
    "        ) for new_x, new_y, new_dir, new_nb_same_dir in next_cases\n",
    "    )\n",
    "    distances_optimales[x][y][directions[dir]][nb_same_dir] = distance_optimale\n",
    "\n",
    "    return distance_optimale"
   ]
  },
  {
   "cell_type": "code",
   "execution_count": 9,
   "id": "6890f69f-220c-451e-a72e-6cc8c05c0235",
   "metadata": {},
   "outputs": [],
   "source": [
    "# a = chemin_optimal_from(0, 0, 'r', 1, set())\n",
    "# b = chemin_optimal_from(0, 0, 'd', 1, set())\n",
    "# min(a, b) - grid[0][0]"
   ]
  },
  {
   "cell_type": "markdown",
   "id": "f7b235cf-04aa-4c6d-a430-f645d578c269",
   "metadata": {
    "jp-MarkdownHeadingCollapsed": true
   },
   "source": [
    "### Dijsktra"
   ]
  },
  {
   "cell_type": "markdown",
   "id": "8cdac360-470f-4b43-a986-87dbbb1e236c",
   "metadata": {},
   "source": [
    "On passe à Dijkstra, recodé à la main J10"
   ]
  },
  {
   "cell_type": "code",
   "execution_count": 10,
   "id": "478b57d7-9e87-4111-9921-b448fb1126a8",
   "metadata": {},
   "outputs": [],
   "source": [
    "def find_min(Q):\n",
    "    mini = float('inf')\n",
    "    for node in Q:\n",
    "        if distances_optimales[node[0]][node[1]][directions[node[2]]][node[3]] <= mini:\n",
    "            mini = distances_optimales[node[0]][node[1]][directions[node[2]]][node[3]]\n",
    "            sommet = node\n",
    "    return sommet"
   ]
  },
  {
   "cell_type": "code",
   "execution_count": 11,
   "id": "fa3e143d-7a6e-4539-981e-c5fa73e9b183",
   "metadata": {},
   "outputs": [],
   "source": [
    "def update_distances(node_1, node_2):\n",
    "    if (\n",
    "        distances_optimales[node_2[0]][node_2[1]][directions[node_2[2]]][node_2[3]]\n",
    "    ) > (\n",
    "        distances_optimales[node_1[0]][node_1[1]][directions[node_1[2]]][node_1[3]] + grid[node_2[0]][node_2[1]]\n",
    "    ):\n",
    "        distances_optimales[node_2[0]][node_2[1]][directions[node_2[2]]][node_2[3]] = (\n",
    "            distances_optimales[node_1[0]][node_1[1]][directions[node_1[2]]][node_1[3]] + grid[node_2[0]][node_2[1]]\n",
    "        )"
   ]
  },
  {
   "cell_type": "code",
   "execution_count": 12,
   "id": "de880096-410f-48c6-8743-4fc012211472",
   "metadata": {},
   "outputs": [],
   "source": [
    "def dijkstra(function_possible_dirs, part=1):\n",
    "    # Q = [\n",
    "    #     (x, y, dir, nb_same_dir+1) for x in range(n) for y in range(n) for dir in directions.keys() for nb_same_dir in range(nb_same_dir_max)\n",
    "    # ]\n",
    "    if part == 1:\n",
    "        Q = set([(n-1, m-1, dir, 1) for dir in directions.keys()])\n",
    "    if part == 2:\n",
    "        Q = set([(n-1, m-1, dir, 0) for dir in directions.keys()])\n",
    "    not_Q = set()\n",
    "    compteur = 0\n",
    "\n",
    "    while len(Q) > 0:\n",
    "        compteur += 1\n",
    "        if compteur % 20000 == 0:\n",
    "            print(compteur // 20000)\n",
    "        node_1 = find_min(Q)\n",
    "        Q.remove(node_1)\n",
    "        not_Q.add(node_1)\n",
    "        possible_dirs = function_possible_dirs(node_1[2], node_1[3])\n",
    "        voisins = [\n",
    "            next_case(node_1[0], node_1[1], new_dir[0], new_dir[1]) for new_dir in possible_dirs if next_case(node_1[0], node_1[1], new_dir[0], new_dir[1])\n",
    "    ]\n",
    "        for node_2 in voisins:\n",
    "            update_distances(node_1, node_2)\n",
    "            if node_2 not in not_Q:\n",
    "                Q.add(node_2)\n",
    "\n"
   ]
  },
  {
   "cell_type": "markdown",
   "id": "818a8610-7ebf-4c4d-b97a-d1dad708df3b",
   "metadata": {},
   "source": [
    "### Application"
   ]
  },
  {
   "cell_type": "code",
   "execution_count": 13,
   "id": "b9d8591f-2491-4267-a12c-64b95a46aece",
   "metadata": {
    "scrolled": true
   },
   "outputs": [
    {
     "name": "stdout",
     "output_type": "stream",
     "text": [
      "1\n",
      "2\n",
      "3\n",
      "4\n",
      "5\n",
      "6\n",
      "7\n",
      "8\n",
      "9\n",
      "10\n",
      "11\n"
     ]
    }
   ],
   "source": [
    "dijkstra(possible_directions)"
   ]
  },
  {
   "cell_type": "code",
   "execution_count": 14,
   "id": "436cbb58-d0b1-4f40-8f9e-9b2e63242cea",
   "metadata": {},
   "outputs": [
    {
     "data": {
      "text/plain": [
       "916"
      ]
     },
     "execution_count": 14,
     "metadata": {},
     "output_type": "execute_result"
    }
   ],
   "source": [
    "a = min(distances_optimales[0][0][directions['l']][:])\n",
    "b = min(distances_optimales[0][0][directions['u']][:])\n",
    "min(a, b) - grid[0][0]"
   ]
  },
  {
   "cell_type": "markdown",
   "id": "bd4b8d3a-459c-4d39-87e8-b15d507b11f7",
   "metadata": {},
   "source": [
    "## Part 2"
   ]
  },
  {
   "cell_type": "markdown",
   "id": "42d223e3-96f2-41c9-a54b-50df297cbbc7",
   "metadata": {
    "jp-MarkdownHeadingCollapsed": true
   },
   "source": [
    "### Changements"
   ]
  },
  {
   "cell_type": "code",
   "execution_count": 15,
   "id": "d75ec320-492a-46d1-a845-3ac4b5dcdf91",
   "metadata": {},
   "outputs": [],
   "source": [
    "nb_same_dir_min = 4\n",
    "nb_same_dir_max = 10"
   ]
  },
  {
   "cell_type": "code",
   "execution_count": 16,
   "id": "c500babd-6213-4558-bcf1-582297dd664c",
   "metadata": {},
   "outputs": [],
   "source": [
    "def new_possible_directions(dir, nb_same_dir):\n",
    "    directions = []\n",
    "    if nb_same_dir < nb_same_dir_max:\n",
    "        directions.append((dir, nb_same_dir+1))\n",
    "    if nb_same_dir >= nb_same_dir_min and dir == 'r':\n",
    "        directions.extend([('u', 1), ('d', 1)])\n",
    "    if nb_same_dir >= nb_same_dir_min and dir == 'l':\n",
    "        directions.extend([('u', 1), ('d', 1)])\n",
    "    if nb_same_dir >= nb_same_dir_min and dir == 'u':\n",
    "        directions.extend([('l', 1), ('r', 1)])\n",
    "    if nb_same_dir >= nb_same_dir_min and dir == 'd':\n",
    "        directions.extend([('l', 1), ('r', 1)])\n",
    "    return directions"
   ]
  },
  {
   "cell_type": "markdown",
   "id": "b730ab6c-b240-47e6-87ae-b657904c354d",
   "metadata": {},
   "source": [
    "### Application"
   ]
  },
  {
   "cell_type": "code",
   "execution_count": 17,
   "id": "94057ed1-558a-4c59-b5b2-d6e1754e840f",
   "metadata": {},
   "outputs": [],
   "source": [
    "distances_optimales = [\n",
    "    [\n",
    "        [\n",
    "            [\n",
    "                float(\"inf\") for _ in range(nb_same_dir_max+1)\n",
    "            ] for _ in directions.keys()\n",
    "        ] for _ in range(m)\n",
    "    ] for _ in range(n)\n",
    "]\n",
    "\n",
    "for dir in directions.keys():\n",
    "    distances_optimales[n-1][m-1][directions[dir]][0] = grid[n-1][m-1]"
   ]
  },
  {
   "cell_type": "code",
   "execution_count": 18,
   "id": "dd739de1-519e-4e5c-be2d-ecb0314009a2",
   "metadata": {},
   "outputs": [
    {
     "name": "stdout",
     "output_type": "stream",
     "text": [
      "1\n",
      "2\n",
      "3\n",
      "4\n",
      "5\n",
      "6\n",
      "7\n",
      "8\n",
      "9\n",
      "10\n",
      "11\n",
      "12\n",
      "13\n",
      "14\n",
      "15\n",
      "16\n",
      "17\n",
      "18\n",
      "19\n",
      "20\n",
      "21\n",
      "22\n",
      "23\n",
      "24\n",
      "25\n",
      "26\n",
      "27\n",
      "28\n",
      "29\n",
      "30\n",
      "31\n",
      "32\n",
      "33\n",
      "34\n",
      "35\n",
      "36\n",
      "37\n",
      "38\n"
     ]
    }
   ],
   "source": [
    "dijkstra(new_possible_directions, part=2)"
   ]
  },
  {
   "cell_type": "code",
   "execution_count": 19,
   "id": "a31607e4-42bf-4840-8a1e-f259ba5cd183",
   "metadata": {},
   "outputs": [
    {
     "data": {
      "text/plain": [
       "1067"
      ]
     },
     "execution_count": 19,
     "metadata": {},
     "output_type": "execute_result"
    }
   ],
   "source": [
    "a = min(distances_optimales[0][0][directions['l']][nb_same_dir_min:])\n",
    "b = min(distances_optimales[0][0][directions['u']][nb_same_dir_min:])\n",
    "min(a, b) - grid[0][0]"
   ]
  },
  {
   "cell_type": "code",
   "execution_count": null,
   "id": "343c9760-36bb-4e27-ad97-a354ed0df821",
   "metadata": {},
   "outputs": [],
   "source": []
  }
 ],
 "metadata": {
  "kernelspec": {
   "display_name": "Python 3 (ipykernel)",
   "language": "python",
   "name": "python3"
  },
  "language_info": {
   "codemirror_mode": {
    "name": "ipython",
    "version": 3
   },
   "file_extension": ".py",
   "mimetype": "text/x-python",
   "name": "python",
   "nbconvert_exporter": "python",
   "pygments_lexer": "ipython3",
   "version": "3.10.13"
  }
 },
 "nbformat": 4,
 "nbformat_minor": 5
}
