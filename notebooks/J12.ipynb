{
 "cells": [
  {
   "cell_type": "markdown",
   "id": "0d13e75d-1c38-42cd-8975-84ae4321ed89",
   "metadata": {
    "jp-MarkdownHeadingCollapsed": true
   },
   "source": [
    "## Imports"
   ]
  },
  {
   "cell_type": "code",
   "execution_count": 1,
   "id": "b910bcbe-855d-4be4-997e-41cd7ff11dc8",
   "metadata": {},
   "outputs": [],
   "source": [
    "from functools import cache\n",
    "from multiprocessing import Pool, cpu_count\n",
    "from tqdm import tqdm"
   ]
  },
  {
   "cell_type": "code",
   "execution_count": 2,
   "id": "50b01151-9952-42b9-9534-b9d91a6d9ef4",
   "metadata": {},
   "outputs": [],
   "source": [
    "day = \"12\""
   ]
  },
  {
   "cell_type": "code",
   "execution_count": 3,
   "id": "ff5966ba-d055-4c6b-bed2-f46b0b308ba9",
   "metadata": {},
   "outputs": [],
   "source": [
    "with open(f\"input_j{day}.txt\") as f:\n",
    "    rows = f.readlines()\n",
    "    rows = list(map(lambda x: x.replace(\"\\n\", \"\"), rows))\n",
    "    rows = list(map(lambda x: x.split(), rows))\n",
    "\n",
    "n = len(rows)"
   ]
  },
  {
   "cell_type": "code",
   "execution_count": 4,
   "id": "3d24bfef-e93e-444c-b51d-afeea45c3079",
   "metadata": {},
   "outputs": [],
   "source": [
    "arrangements = [row[0] for row in rows]\n",
    "conditions = [list(map(lambda x: int(x), row[1].split(\",\"))) for row in rows]"
   ]
  },
  {
   "cell_type": "markdown",
   "id": "6fd1928e-1d24-4542-ab41-288f42559c3a",
   "metadata": {
    "jp-MarkdownHeadingCollapsed": true
   },
   "source": [
    "## Part 1"
   ]
  },
  {
   "cell_type": "code",
   "execution_count": 5,
   "id": "612761e7-b84d-4df3-a638-293459fc9851",
   "metadata": {},
   "outputs": [],
   "source": [
    "def count_all_configs(arrangement, condition):  # Brut force naïf\n",
    "    new_configs = {arrangement}\n",
    "\n",
    "    for i in range(len(arrangement)):\n",
    "        blocked_new_configs = new_configs.copy()\n",
    "        for new_config in blocked_new_configs:\n",
    "            new_configs.add(new_config.replace(\"?\", \".\", 1))\n",
    "            new_configs.add(new_config.replace(\"?\", \"#\", 1))\n",
    "\n",
    "    configs = [[len(x) for x in config.split(\".\") if x != \"\"] for config in new_configs if \"?\" not in config]\n",
    "    return sum(list(map(lambda x: x == condition, configs)))"
   ]
  },
  {
   "cell_type": "code",
   "execution_count": 6,
   "id": "c4ed3160-6e2c-493f-89d3-3b93564b3d6f",
   "metadata": {},
   "outputs": [
    {
     "name": "stderr",
     "output_type": "stream",
     "text": [
      "100%|██████████| 1000/1000 [00:39<00:00, 25.48it/s]\n"
     ]
    },
    {
     "data": {
      "text/plain": [
       "8022"
      ]
     },
     "execution_count": 6,
     "metadata": {},
     "output_type": "execute_result"
    }
   ],
   "source": [
    "compteur = 0\n",
    "for i in tqdm(range(n)):\n",
    "    compteur += count_all_configs(arrangements[i], conditions[i])\n",
    "\n",
    "compteur"
   ]
  },
  {
   "cell_type": "markdown",
   "id": "eb52b167-4f51-452e-bb68-9ed0a32118a3",
   "metadata": {},
   "source": [
    "## Part 2"
   ]
  },
  {
   "cell_type": "code",
   "execution_count": 7,
   "id": "683f90e8-ed2e-4f84-a48e-07a7973ca789",
   "metadata": {},
   "outputs": [],
   "source": [
    "new_arrangements = [\"?\".join([row[0] for i in range(5)]) for row in rows]\n",
    "new_conditions = [5*list(map(lambda x: int(x), row[1].split(\",\"))) for row in rows]"
   ]
  },
  {
   "cell_type": "code",
   "execution_count": 8,
   "id": "924655a1-5bcc-4b35-8f83-80fab3397eea",
   "metadata": {},
   "outputs": [],
   "source": [
    "def new_count_all_configs(arrangement, condition):  # Version itérative moins naïve\n",
    "\n",
    "    n = len(arrangement)  # Nb de symboles\n",
    "    m = len(condition)  # Nb de groupes à atteindre\n",
    "\n",
    "    # On crée une matrice 3D qui dans la case (i, j, k) donnera le nombre de configurations permettant, en partant de la droite de l'arrangement,\n",
    "    # d'arriver au symbole i en ayant déjà validé m-j groupes et avec un compteur du groupe actuel à k #\n",
    "    matrice = [[[0 for symbole in range(n+1)] for chiffre in range(m+1)] for symbole in range(n+1)]\n",
    "\n",
    "    matrice[n][m][0] = 1  # Aucun symbole ni groupe parcouru avec un compteur à 0 # : une config possible\n",
    "    matrice[n][m-1][condition[m-1]] = 1  # Aucun symbole parcouru avec le dernier groupe atteint suite à un compteur correspondant : une config\n",
    "\n",
    "    for symbole in range(n-1, -1, -1):  # Pour chaque symbole de droite à gauche\n",
    "        for groupe, max_count in enumerate(condition):  # Pour chaque groupe à atteindre (ie non atteint)\n",
    "            for count in range(max_count+1):  # Compteur de # déjà atteints quand on est sur le symbole\n",
    "                for character in ['.', '#']:\n",
    "                    if arrangement[symbole] in [character, '?']:\n",
    "                        if character == '.' and count == 0:  # Si on tombe sur un . et que le compteur de # est nul\n",
    "                            matrice[symbole][groupe][count] += matrice[symbole+1][groupe][0]  # On ajoute autant de configs qu'il y en avait avant de bouger du symbole de droite\n",
    "                        elif character == '.' and condition[groupe] == count:  # Si on tombe sur un . et que le compteur de # est égal au pré-requis du groupe\n",
    "                            matrice[symbole][groupe][count] += matrice[symbole+1][groupe+1][0] # On ajoute autant de configs qu'il y en avait avant de bouger du symbole de droite\n",
    "                                                                                               # Mais où l'on avait validé un groupe de moins\n",
    "                        elif character == '#':  # Si on rajoute un # au compteur\n",
    "                            matrice[symbole][groupe][count] += matrice[symbole+1][groupe][count+1] # On ajoute autant de configs qu'il y en avait avant de bouger du symbole de droite\n",
    "                                                                                                   # Mais avec un compteur de # incrémenté de 1\n",
    "\n",
    "        if arrangement[symbole] != \"#\":  # Si notre symbole n'est pas un #\n",
    "            matrice[symbole][m][0] += matrice[symbole+1][m][0]  # Enfin, on ajoute autant de configs qu'il y en avait avant de bouger du symbole de droite\n",
    "                                                                # Mais où l'on n'a toujours pas atteint un seul groupe\n",
    "\n",
    "    return matrice[0][0][0]  # Nb de configs une fois le bout atteint, tous les groupes validés et aucun # dans le compteur"
   ]
  },
  {
   "cell_type": "code",
   "execution_count": 9,
   "id": "c4afffc8-3fdc-4ef8-99de-b3db66d1ea9b",
   "metadata": {},
   "outputs": [
    {
     "name": "stderr",
     "output_type": "stream",
     "text": [
      "100%|██████████| 1000/1000 [00:04<00:00, 216.92it/s]\n"
     ]
    },
    {
     "data": {
      "text/plain": [
       "4968620679637"
      ]
     },
     "execution_count": 9,
     "metadata": {},
     "output_type": "execute_result"
    }
   ],
   "source": [
    "compteur = 0\n",
    "for i in tqdm(range(n)):\n",
    "    compteur += new_count_all_configs(new_arrangements[i], new_conditions[i])\n",
    "\n",
    "compteur"
   ]
  },
  {
   "cell_type": "code",
   "execution_count": null,
   "id": "34ea29e1-723f-47b9-a85b-c46480551dc6",
   "metadata": {},
   "outputs": [],
   "source": []
  }
 ],
 "metadata": {
  "kernelspec": {
   "display_name": "Python 3 (ipykernel)",
   "language": "python",
   "name": "python3"
  },
  "language_info": {
   "codemirror_mode": {
    "name": "ipython",
    "version": 3
   },
   "file_extension": ".py",
   "mimetype": "text/x-python",
   "name": "python",
   "nbconvert_exporter": "python",
   "pygments_lexer": "ipython3",
   "version": "3.10.13"
  }
 },
 "nbformat": 4,
 "nbformat_minor": 5
}
