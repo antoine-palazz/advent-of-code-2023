{
 "cells": [
  {
   "cell_type": "markdown",
   "id": "0d13e75d-1c38-42cd-8975-84ae4321ed89",
   "metadata": {},
   "source": [
    "## Imports"
   ]
  },
  {
   "cell_type": "code",
   "execution_count": 1,
   "id": "a8d149a7-0a04-4a61-8ab5-eb6bd59a93ad",
   "metadata": {},
   "outputs": [],
   "source": [
    "import numpy as np\n",
    "import pandas as pd\n",
    "from tqdm import tqdm"
   ]
  },
  {
   "cell_type": "code",
   "execution_count": 2,
   "id": "50b01151-9952-42b9-9534-b9d91a6d9ef4",
   "metadata": {},
   "outputs": [],
   "source": [
    "day = \"15\""
   ]
  },
  {
   "cell_type": "code",
   "execution_count": 3,
   "id": "ff5966ba-d055-4c6b-bed2-f46b0b308ba9",
   "metadata": {},
   "outputs": [],
   "source": [
    "with open(f\"input_j{day}.txt\") as f:\n",
    "    liste_steps = f.readlines()\n",
    "    liste_steps = list(map(lambda x: x.replace(\"\\n\", \"\"), liste_steps))\n",
    "    liste_steps = liste_steps[0].split(\",\")"
   ]
  },
  {
   "cell_type": "code",
   "execution_count": 4,
   "id": "f40a5b49-2ac8-484c-aa7c-37f421ca4c34",
   "metadata": {},
   "outputs": [
    {
     "data": {
      "text/plain": [
       "4000"
      ]
     },
     "execution_count": 4,
     "metadata": {},
     "output_type": "execute_result"
    }
   ],
   "source": [
    "len(liste_steps)"
   ]
  },
  {
   "cell_type": "markdown",
   "id": "6fd1928e-1d24-4542-ab41-288f42559c3a",
   "metadata": {},
   "source": [
    "## Part 1"
   ]
  },
  {
   "cell_type": "code",
   "execution_count": 5,
   "id": "612761e7-b84d-4df3-a638-293459fc9851",
   "metadata": {},
   "outputs": [],
   "source": [
    "def hash_letter(current_hash, letter):\n",
    "    new_hash = current_hash + ord(letter)\n",
    "    new_hash *= 17\n",
    "    new_hash %= 256\n",
    "    return new_hash"
   ]
  },
  {
   "cell_type": "code",
   "execution_count": 6,
   "id": "a0d8508c-1252-4fda-9fbf-b1880db54145",
   "metadata": {},
   "outputs": [],
   "source": [
    "def hash_step(step):\n",
    "    hash = 0\n",
    "    for letter in step:\n",
    "        hash = hash_letter(hash, letter)\n",
    "    return hash"
   ]
  },
  {
   "cell_type": "code",
   "execution_count": 7,
   "id": "6b52f42a-5b21-46e1-9b20-8c600518949f",
   "metadata": {},
   "outputs": [
    {
     "name": "stderr",
     "output_type": "stream",
     "text": [
      "100%|██████████| 4000/4000 [00:00<00:00, 931084.74it/s]\n"
     ]
    }
   ],
   "source": [
    "somme = sum(list(map(hash_step, tqdm(liste_steps))))"
   ]
  },
  {
   "cell_type": "code",
   "execution_count": 8,
   "id": "6d1bd4c3-74c3-428d-bb1e-03348c2545d0",
   "metadata": {},
   "outputs": [
    {
     "data": {
      "text/plain": [
       "505427"
      ]
     },
     "execution_count": 8,
     "metadata": {},
     "output_type": "execute_result"
    }
   ],
   "source": [
    "somme"
   ]
  },
  {
   "cell_type": "markdown",
   "id": "df57f881-e3c0-40bb-a95e-a62ea269f5e3",
   "metadata": {},
   "source": [
    "## Part 2"
   ]
  },
  {
   "cell_type": "code",
   "execution_count": 9,
   "id": "e9f0d84f-5084-4473-90c8-a98493c5a60d",
   "metadata": {},
   "outputs": [],
   "source": [
    "boxes = dict([(i,dict()) for i in range(256)])"
   ]
  },
  {
   "cell_type": "code",
   "execution_count": 10,
   "id": "2d5787fa-e1f4-4147-bd50-5472dfc0a63d",
   "metadata": {},
   "outputs": [],
   "source": [
    "def update_boxes(step):\n",
    "\n",
    "    if \"-\" in step:\n",
    "        code = step.split(\"-\")[0]\n",
    "        key = hash_step(code)\n",
    "        if code in boxes[key]:\n",
    "            del boxes[key][code]\n",
    "\n",
    "    if \"=\" in step:\n",
    "        code = step.split(\"=\")[0]\n",
    "        key = hash_step(code)\n",
    "        boxes[key][code] = int(step.split(\"=\")[1])"
   ]
  },
  {
   "cell_type": "code",
   "execution_count": 11,
   "id": "ed6a4d12-ad73-4047-a3da-01a2a4b8f273",
   "metadata": {},
   "outputs": [],
   "source": [
    "result = list(map(update_boxes, liste_steps))"
   ]
  },
  {
   "cell_type": "code",
   "execution_count": 12,
   "id": "a877131f-44bb-4cfb-acb8-f79869208140",
   "metadata": {
    "scrolled": true
   },
   "outputs": [],
   "source": [
    "somme = 0\n",
    "for box_number in boxes.keys():\n",
    "    content_box = list(boxes[box_number].values())\n",
    "    for k in range(len(content_box)):\n",
    "        somme += (box_number + 1) * (k + 1) * content_box[k]"
   ]
  },
  {
   "cell_type": "code",
   "execution_count": 13,
   "id": "da46a654-21f5-4d0b-969a-2ccef7f70700",
   "metadata": {},
   "outputs": [
    {
     "data": {
      "text/plain": [
       "243747"
      ]
     },
     "execution_count": 13,
     "metadata": {},
     "output_type": "execute_result"
    }
   ],
   "source": [
    "somme"
   ]
  },
  {
   "cell_type": "code",
   "execution_count": null,
   "id": "eddefb7e-2b47-4d80-94b0-bbff7d4a7d9c",
   "metadata": {},
   "outputs": [],
   "source": []
  }
 ],
 "metadata": {
  "kernelspec": {
   "display_name": "Python 3 (ipykernel)",
   "language": "python",
   "name": "python3"
  },
  "language_info": {
   "codemirror_mode": {
    "name": "ipython",
    "version": 3
   },
   "file_extension": ".py",
   "mimetype": "text/x-python",
   "name": "python",
   "nbconvert_exporter": "python",
   "pygments_lexer": "ipython3",
   "version": "3.10.13"
  }
 },
 "nbformat": 4,
 "nbformat_minor": 5
}
