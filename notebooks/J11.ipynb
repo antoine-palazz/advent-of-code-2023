{
 "cells": [
  {
   "cell_type": "markdown",
   "id": "0d13e75d-1c38-42cd-8975-84ae4321ed89",
   "metadata": {
    "jp-MarkdownHeadingCollapsed": true
   },
   "source": [
    "## Imports"
   ]
  },
  {
   "cell_type": "code",
   "execution_count": 1,
   "id": "35721cee-b08b-4940-a28e-e31a8f0e4ba8",
   "metadata": {},
   "outputs": [],
   "source": [
    "import numpy as np\n",
    "from tqdm import tqdm"
   ]
  },
  {
   "cell_type": "code",
   "execution_count": 2,
   "id": "50b01151-9952-42b9-9534-b9d91a6d9ef4",
   "metadata": {},
   "outputs": [],
   "source": [
    "day = \"11\""
   ]
  },
  {
   "cell_type": "code",
   "execution_count": 3,
   "id": "ff5966ba-d055-4c6b-bed2-f46b0b308ba9",
   "metadata": {},
   "outputs": [
    {
     "name": "stdout",
     "output_type": "stream",
     "text": [
      "140 140\n"
     ]
    }
   ],
   "source": [
    "with open(f\"input_j{day}.txt\") as f:\n",
    "    carte = f.readlines()\n",
    "    carte = list(map(lambda x: x.replace(\"\\n\", \"\"), carte))\n",
    "    carte = list(map(lambda x: [case for case in x], carte))\n",
    "\n",
    "n, m = len(carte), len(carte[0])\n",
    "print(n, m)"
   ]
  },
  {
   "cell_type": "markdown",
   "id": "6fd1928e-1d24-4542-ab41-288f42559c3a",
   "metadata": {},
   "source": [
    "## Part 1"
   ]
  },
  {
   "cell_type": "markdown",
   "id": "6491a42a-f967-4a2a-9129-a6a730f6d9a0",
   "metadata": {
    "jp-MarkdownHeadingCollapsed": true
   },
   "source": [
    "### Expand"
   ]
  },
  {
   "cell_type": "code",
   "execution_count": 4,
   "id": "612761e7-b84d-4df3-a638-293459fc9851",
   "metadata": {},
   "outputs": [],
   "source": [
    "def expand_rows(carte, coeff = 2):\n",
    "    n = len(carte)\n",
    "    i = 0\n",
    "    while i < len(carte):\n",
    "        if carte[i].count(\"#\") == 0:\n",
    "            carte = carte[:i] + (coeff-1)*[carte[i]] + carte[i:]\n",
    "            i += coeff-1\n",
    "        i += 1\n",
    "    print(len(carte)-n)\n",
    "    return carte"
   ]
  },
  {
   "cell_type": "code",
   "execution_count": 5,
   "id": "67a83d7f-fb71-44bd-8a1f-6d3527eb8aaf",
   "metadata": {},
   "outputs": [],
   "source": [
    "def expand_cols(carte, coeff = 2):\n",
    "    carte = np.transpose(carte).tolist()\n",
    "    carte = expand_rows(carte, coeff)\n",
    "    carte = np.transpose(carte).tolist()\n",
    "    return carte"
   ]
  },
  {
   "cell_type": "code",
   "execution_count": 6,
   "id": "4491b73a-cb7c-46f6-931a-f0fa90bd40e0",
   "metadata": {},
   "outputs": [],
   "source": [
    "def expand(carte, coeff = 2):\n",
    "    new_carte = expand_rows(carte, coeff)\n",
    "    new_carte = expand_cols(new_carte, coeff)\n",
    "    return new_carte"
   ]
  },
  {
   "cell_type": "code",
   "execution_count": 7,
   "id": "53caa928-7437-40b8-809f-16142f0f7fca",
   "metadata": {},
   "outputs": [
    {
     "name": "stdout",
     "output_type": "stream",
     "text": [
      "6\n",
      "7\n"
     ]
    }
   ],
   "source": [
    "new_carte = expand(carte)"
   ]
  },
  {
   "cell_type": "markdown",
   "id": "5742ca2a-22ec-4938-ac02-b9857c362780",
   "metadata": {
    "jp-MarkdownHeadingCollapsed": true
   },
   "source": [
    "### Distances"
   ]
  },
  {
   "cell_type": "code",
   "execution_count": 8,
   "id": "bc4f9512-7064-4282-98de-8b52b63ce47f",
   "metadata": {},
   "outputs": [],
   "source": [
    "def create_distances(carte, coeff = 2):\n",
    "\n",
    "    universes = []\n",
    "    i = 0\n",
    "    while i < len(carte):\n",
    "        if carte[i].count(\"#\") == 0:\n",
    "            i += coeff\n",
    "        for j in range(len(carte[0])):\n",
    "            if carte[i][j] == \"#\":\n",
    "                universes.append((i,j))\n",
    "        i += 1\n",
    "\n",
    "    nb_universes = len(universes)\n",
    "    print(nb_universes)\n",
    "    distances = [[0 for i in range(nb_universes)] for j in range(nb_universes)]\n",
    "\n",
    "    for i in range(nb_universes):\n",
    "        for j in range(nb_universes):\n",
    "            distances[i][j] = abs(universes[i][0] - universes[j][0]) + abs(universes[i][1] - universes[j][1])\n",
    "            if coeff > 100:\n",
    "                k = distances[i][j] // coeff\n",
    "                distances[i][j] = distances[i][j] - k*coeff + 1000*k*coeff\n",
    "\n",
    "    return distances"
   ]
  },
  {
   "cell_type": "code",
   "execution_count": 9,
   "id": "f022889b-f576-4aa7-84ba-17cdc7a1fe21",
   "metadata": {
    "scrolled": true
   },
   "outputs": [
    {
     "name": "stdout",
     "output_type": "stream",
     "text": [
      "443\n"
     ]
    }
   ],
   "source": [
    "distances = create_distances(new_carte)"
   ]
  },
  {
   "cell_type": "code",
   "execution_count": 10,
   "id": "8a6d4229-9944-48c2-8894-998f611c5e7e",
   "metadata": {},
   "outputs": [
    {
     "data": {
      "text/plain": [
       "9965032"
      ]
     },
     "execution_count": 10,
     "metadata": {},
     "output_type": "execute_result"
    }
   ],
   "source": [
    "sum([x for row in distances for x in row])//2"
   ]
  },
  {
   "cell_type": "markdown",
   "id": "94751e19-cec9-4bd8-bae5-ecac046151fd",
   "metadata": {},
   "source": [
    "### Part 2"
   ]
  },
  {
   "cell_type": "code",
   "execution_count": 11,
   "id": "68752b94-618b-44b1-8327-4f795bda2be5",
   "metadata": {},
   "outputs": [],
   "source": [
    "coeff = 1000000 // 1000"
   ]
  },
  {
   "cell_type": "code",
   "execution_count": 12,
   "id": "bce2bedd-51c1-4a1e-9d01-ef7dfd097606",
   "metadata": {},
   "outputs": [
    {
     "name": "stdout",
     "output_type": "stream",
     "text": [
      "5994\n",
      "6993\n"
     ]
    }
   ],
   "source": [
    "big_carte = expand(carte, coeff)"
   ]
  },
  {
   "cell_type": "code",
   "execution_count": 13,
   "id": "9afaf4ce-ecbd-4459-978e-d33ccac368a7",
   "metadata": {},
   "outputs": [
    {
     "name": "stdout",
     "output_type": "stream",
     "text": [
      "443\n"
     ]
    }
   ],
   "source": [
    "big_distances = create_distances(big_carte, coeff)"
   ]
  },
  {
   "cell_type": "code",
   "execution_count": 14,
   "id": "f9870912-15d7-4a64-a6df-39155ce62661",
   "metadata": {},
   "outputs": [
    {
     "data": {
      "text/plain": [
       "550358864332"
      ]
     },
     "execution_count": 14,
     "metadata": {},
     "output_type": "execute_result"
    }
   ],
   "source": [
    "sum([x for row in big_distances for x in row])//2"
   ]
  },
  {
   "cell_type": "code",
   "execution_count": null,
   "id": "0b089df0-24a3-40c7-8b7f-05fbee7ec1d0",
   "metadata": {},
   "outputs": [],
   "source": []
  }
 ],
 "metadata": {
  "kernelspec": {
   "display_name": "Python 3 (ipykernel)",
   "language": "python",
   "name": "python3"
  },
  "language_info": {
   "codemirror_mode": {
    "name": "ipython",
    "version": 3
   },
   "file_extension": ".py",
   "mimetype": "text/x-python",
   "name": "python",
   "nbconvert_exporter": "python",
   "pygments_lexer": "ipython3",
   "version": "3.10.13"
  }
 },
 "nbformat": 4,
 "nbformat_minor": 5
}
