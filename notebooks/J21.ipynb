{
 "cells": [
  {
   "cell_type": "markdown",
   "id": "0d13e75d-1c38-42cd-8975-84ae4321ed89",
   "metadata": {},
   "source": [
    "## Imports"
   ]
  },
  {
   "cell_type": "code",
   "execution_count": 1,
   "id": "8c91378d-7f29-4afd-8842-205c1df666c0",
   "metadata": {},
   "outputs": [],
   "source": [
    "import copy\n",
    "from functools import cache\n",
    "import numpy as np"
   ]
  },
  {
   "cell_type": "code",
   "execution_count": 2,
   "id": "50b01151-9952-42b9-9534-b9d91a6d9ef4",
   "metadata": {},
   "outputs": [],
   "source": [
    "day = \"21\""
   ]
  },
  {
   "cell_type": "code",
   "execution_count": 3,
   "id": "ff5966ba-d055-4c6b-bed2-f46b0b308ba9",
   "metadata": {},
   "outputs": [
    {
     "name": "stdout",
     "output_type": "stream",
     "text": [
      "131 131\n"
     ]
    }
   ],
   "source": [
    "with open(f\"input_j{day}.txt\") as f:\n",
    "# with open(\"test.txt\") as f:\n",
    "    garden = f.readlines()\n",
    "    garden = list(map(lambda x: x.replace(\"\\n\", \"\"), garden))\n",
    "    garden = list(map(lambda x: [case for case in x], garden))\n",
    "\n",
    "n, m = len(garden), len(garden[0])\n",
    "print(n, m)"
   ]
  },
  {
   "cell_type": "markdown",
   "id": "6fd1928e-1d24-4542-ab41-288f42559c3a",
   "metadata": {},
   "source": [
    "## Part 1"
   ]
  },
  {
   "cell_type": "markdown",
   "id": "416d7f42-59da-48df-8658-e66e7b8e6035",
   "metadata": {
    "jp-MarkdownHeadingCollapsed": true
   },
   "source": [
    "### Départ"
   ]
  },
  {
   "cell_type": "code",
   "execution_count": 4,
   "id": "f4883210-f47d-4eb5-bded-10a7f0b07ea0",
   "metadata": {},
   "outputs": [],
   "source": [
    "def find_start():\n",
    "    for i in range(n):\n",
    "        for j in range(m):\n",
    "            if garden[i][j] == \"S\":\n",
    "                return (i, j)"
   ]
  },
  {
   "cell_type": "code",
   "execution_count": 5,
   "id": "be1c9256-d1b7-4b45-b5cc-129e2d87de2f",
   "metadata": {},
   "outputs": [
    {
     "data": {
      "text/plain": [
       "(65, 65)"
      ]
     },
     "execution_count": 5,
     "metadata": {},
     "output_type": "execute_result"
    }
   ],
   "source": [
    "i_start, j_start = find_start()\n",
    "i_start, j_start"
   ]
  },
  {
   "cell_type": "markdown",
   "id": "9077ca1b-1991-4eed-8610-3a8c50043452",
   "metadata": {
    "jp-MarkdownHeadingCollapsed": true
   },
   "source": [
    "### Voisins & distances"
   ]
  },
  {
   "cell_type": "code",
   "execution_count": 6,
   "id": "d9e78b55-4b9c-46d7-b8dd-1187f19d4a2b",
   "metadata": {},
   "outputs": [],
   "source": [
    "voisins_1 = copy.deepcopy(garden)\n",
    "for i in range(n):\n",
    "    for j in range(m):\n",
    "        voisins_1[i][j] = set()\n",
    "\n",
    "for i in range(n):\n",
    "    for j in range(m):\n",
    "        if i>0 and garden[i-1][j] in [\"S\", \".\"]:\n",
    "            voisins_1[i][j].add((i-1, j))\n",
    "        if i<n-1 and garden[i+1][j] in [\"S\", \".\"]:\n",
    "            voisins_1[i][j].add((i+1, j))\n",
    "        if j>0 and garden[i][j-1] in [\"S\", \".\"]:\n",
    "            voisins_1[i][j].add((i, j-1))\n",
    "        if j<m-1 and garden[i][j+1] in [\"S\", \".\"]:\n",
    "            voisins_1[i][j].add((i, j+1))"
   ]
  },
  {
   "cell_type": "code",
   "execution_count": 7,
   "id": "dc6a8f4b-4be8-4ffd-b45a-64644b74b202",
   "metadata": {},
   "outputs": [],
   "source": [
    "distances_1 = copy.deepcopy(garden)\n",
    "for i in range(n):\n",
    "    for j in range(m):\n",
    "        distances_1[i][j] = float('inf')\n",
    "distances_1[i_start][j_start] = 0"
   ]
  },
  {
   "cell_type": "markdown",
   "id": "f6897db7-24e4-4175-a9f2-6aedc7f6afe1",
   "metadata": {
    "jp-MarkdownHeadingCollapsed": true
   },
   "source": [
    "### Dijkstra"
   ]
  },
  {
   "cell_type": "code",
   "execution_count": 8,
   "id": "612761e7-b84d-4df3-a638-293459fc9851",
   "metadata": {},
   "outputs": [],
   "source": [
    "def find_min(Q, distances):\n",
    "    mini = float('inf')\n",
    "    for node in Q:\n",
    "        if distances[node[0]][node[1]] <= mini:\n",
    "            mini = distances[node[0]][node[1]]\n",
    "            sommet = node\n",
    "    return sommet"
   ]
  },
  {
   "cell_type": "code",
   "execution_count": 9,
   "id": "312acb9d-127e-40c0-abb5-b7ccb3cc3ad3",
   "metadata": {},
   "outputs": [],
   "source": [
    "def update_distances(node_1, node_2, distances):\n",
    "    if distances[node_2[0]][node_2[1]] > distances[node_1[0]][node_1[1]] + 1:\n",
    "        distances[node_2[0]][node_2[1]] = distances[node_1[0]][node_1[1]] + 1\n",
    "    return distances"
   ]
  },
  {
   "cell_type": "code",
   "execution_count": 10,
   "id": "862eef42-d284-40ef-930a-ad9d7c8ccabb",
   "metadata": {},
   "outputs": [],
   "source": [
    "def dijkstra(i_start, j_start, voisins=voisins_1, distances=distances_1, nb_pas_allowed = 64):\n",
    "    Q = set([(i_start, j_start)])\n",
    "    not_Q = set()\n",
    "    while len(Q) > 0:\n",
    "        # if len(Q) % 2000 == 0:\n",
    "            # print(len(Q))\n",
    "        node_1 = find_min(Q, distances)\n",
    "        if distances[node_1[0]][node_1[1]] > nb_pas_allowed:\n",
    "           break\n",
    "        Q.remove(node_1)\n",
    "        not_Q.add(node_1)\n",
    "        for node_2 in voisins[node_1[0]][node_1[1]]:\n",
    "            distances = update_distances(node_1, node_2, distances)\n",
    "            if node_2 not in not_Q:\n",
    "                Q.add(node_2)\n",
    "        # print(Q)\n",
    "    return distances"
   ]
  },
  {
   "cell_type": "markdown",
   "id": "00929fef-b62a-4276-abe0-ed6f4a96830f",
   "metadata": {},
   "source": [
    "### Application"
   ]
  },
  {
   "cell_type": "code",
   "execution_count": 11,
   "id": "225951ba-7409-4f71-a855-21249901b931",
   "metadata": {},
   "outputs": [],
   "source": [
    "nb_pas_allowed_1 = 64\n",
    "# nb_pas_allowed_1 = 6\n",
    "parite_1 = nb_pas_allowed_1 % 2"
   ]
  },
  {
   "cell_type": "code",
   "execution_count": 12,
   "id": "c107915d-77b9-4e68-b4ec-2226e6b69821",
   "metadata": {},
   "outputs": [],
   "source": [
    "distances_1 = dijkstra(i_start, j_start, voisins_1, distances_1, nb_pas_allowed_1)"
   ]
  },
  {
   "cell_type": "code",
   "execution_count": 13,
   "id": "f4ccd469-8343-4a8e-8af1-91fc61cc6c88",
   "metadata": {},
   "outputs": [
    {
     "data": {
      "text/plain": [
       "3632"
      ]
     },
     "execution_count": 13,
     "metadata": {},
     "output_type": "execute_result"
    }
   ],
   "source": [
    "compteur_1 = 0\n",
    "for i in range(n):\n",
    "    for j in range(m):\n",
    "        if distances_1[i][j] <= nb_pas_allowed_1 and distances_1[i][j] % 2 == parite_1:\n",
    "            compteur_1 += 1\n",
    "\n",
    "compteur_1"
   ]
  },
  {
   "cell_type": "markdown",
   "id": "731a9f54-06c5-4ddc-ab88-70e02934700d",
   "metadata": {},
   "source": [
    "## Part 2"
   ]
  },
  {
   "cell_type": "code",
   "execution_count": 14,
   "id": "e86ba879-965f-4da5-a4da-eada452f72c4",
   "metadata": {},
   "outputs": [
    {
     "data": {
      "text/plain": [
       "65"
      ]
     },
     "execution_count": 14,
     "metadata": {},
     "output_type": "execute_result"
    }
   ],
   "source": [
    "nb_pas_allowed_2 = 26501365\n",
    "# nb_pas_allowed_2 = 6\n",
    "nb_pas_allowed_2 % n  # This is the starting position"
   ]
  },
  {
   "cell_type": "code",
   "execution_count": 15,
   "id": "79a6356d-7b91-49a7-a0b0-a9b24333f4f5",
   "metadata": {},
   "outputs": [],
   "source": [
    "def interpolation(x, nb_pas_allowed):\n",
    "\n",
    "    parite = nb_pas_allowed % 2\n",
    "\n",
    "    new_garden = copy.deepcopy(garden)\n",
    "    \n",
    "    for i in range(2*x):\n",
    "        new_garden.extend(garden)\n",
    "    new_garden = np.transpose(new_garden).tolist()\n",
    "    copy_new_garden = copy.deepcopy(new_garden)\n",
    "    for j in range(2*x):\n",
    "        new_garden.extend(copy_new_garden)\n",
    "    new_garden = np.transpose(new_garden).tolist()\n",
    "    n_i = len(new_garden)\n",
    "    m_i = len(new_garden[0])\n",
    "    print(n_i, m_i)\n",
    "\n",
    "    voisins = copy.deepcopy(new_garden)\n",
    "    for i in range(n_i):\n",
    "        for j in range(m_i):\n",
    "            voisins[i][j] = set()\n",
    "    for i in range(n_i):\n",
    "        for j in range(m_i):\n",
    "            if i>0 and new_garden[i-1][j] in [\"S\", \".\"]:\n",
    "                voisins[i][j].add((i-1, j))\n",
    "            if i<n_i-1 and new_garden[i+1][j] in [\"S\", \".\"]:\n",
    "                voisins[i][j].add((i+1, j))\n",
    "            if j>0 and new_garden[i][j-1] in [\"S\", \".\"]:\n",
    "                voisins[i][j].add((i, j-1))\n",
    "            if j<m_i-1 and new_garden[i][j+1] in [\"S\", \".\"]:\n",
    "                voisins[i][j].add((i, j+1))\n",
    "\n",
    "    new_i_start, new_j_start = i_start + x * n, j_start + x * m\n",
    "    distances = copy.deepcopy(new_garden)\n",
    "    for i in range(n_i):\n",
    "        for j in range(m_i):\n",
    "            distances[i][j] = float('inf')\n",
    "    distances[new_i_start][new_j_start] = 0\n",
    "\n",
    "    # print(i_start, j_start, len(voisins), len(distances), nb_pas_allowed)\n",
    "    distances = dijkstra(new_i_start, new_j_start, voisins, distances, nb_pas_allowed)\n",
    "    #for row in new_garden:\n",
    "    #    print(row)\n",
    "    #for row in voisins:\n",
    "    #    print(row)\n",
    "\n",
    "    compteur = 0\n",
    "    for i in range(n_i):\n",
    "        for j in range(m_i):\n",
    "            if distances[i][j] <= nb_pas_allowed and distances[i][j] % 2 == parite:\n",
    "                compteur += 1\n",
    "\n",
    "    return compteur"
   ]
  },
  {
   "cell_type": "code",
   "execution_count": 16,
   "id": "7666abe3-f7e4-40ec-bf00-622ebe7ed566",
   "metadata": {},
   "outputs": [
    {
     "name": "stdout",
     "output_type": "stream",
     "text": [
      "131 131\n"
     ]
    },
    {
     "data": {
      "text/plain": [
       "3632"
      ]
     },
     "execution_count": 16,
     "metadata": {},
     "output_type": "execute_result"
    }
   ],
   "source": [
    "interpolation(0, nb_pas_allowed_1)"
   ]
  },
  {
   "cell_type": "code",
   "execution_count": 17,
   "id": "cc9427b7-aa4c-4120-b48e-f44d526e7509",
   "metadata": {},
   "outputs": [
    {
     "name": "stdout",
     "output_type": "stream",
     "text": [
      "131 131\n",
      "Résultat :  3701\n",
      "393 393\n",
      "Résultat :  33108\n",
      "655 655\n",
      "Résultat :  91853\n",
      "917 917\n",
      "Résultat :  179936\n"
     ]
    }
   ],
   "source": [
    "for i in range(4):\n",
    "    print(\"Résultat : \", interpolation(i, (nb_pas_allowed_2 % n) + i * n))"
   ]
  },
  {
   "cell_type": "markdown",
   "id": "d8497167-dec9-48d5-b73b-da14b1d1edd2",
   "metadata": {},
   "source": [
    "Let's see if a quadratic interpolation fits:\n",
    "\n",
    "https://www.wolframalpha.com/input?i=quadratic+fit+calculator&assumption=%7B%22F%22%2C+%22QuadraticFitCalculator%22%2C+%22data3x%22%7D+-%3E%22%7B0%2C+1%2C+2%7D%22&assumption=%7B%22F%22%2C+%22QuadraticFitCalculator%22%2C+%22data3y%22%7D+-%3E%22%7B3701%2C+33108%2C+91853%7D%22"
   ]
  },
  {
   "cell_type": "code",
   "execution_count": 18,
   "id": "93cb8b72-b410-481b-8f8e-b10f560059ca",
   "metadata": {},
   "outputs": [],
   "source": [
    "def interpolation_polynomiale(i):\n",
    "    return (14669 * i**2 + 14738 * i + 3701)"
   ]
  },
  {
   "cell_type": "code",
   "execution_count": 19,
   "id": "a37ea0f5-55f6-4dba-8a4c-417ce7241ce4",
   "metadata": {},
   "outputs": [
    {
     "name": "stdout",
     "output_type": "stream",
     "text": [
      "3701\n",
      "33108\n",
      "91853\n",
      "179936\n"
     ]
    }
   ],
   "source": [
    "for i in range(4):\n",
    "    print(interpolation_polynomiale(i))"
   ]
  },
  {
   "cell_type": "code",
   "execution_count": 20,
   "id": "ac3a8af7-731b-4a2f-ac46-f013c1113e95",
   "metadata": {},
   "outputs": [
    {
     "data": {
      "text/plain": [
       "600336060511101"
      ]
     },
     "execution_count": 20,
     "metadata": {},
     "output_type": "execute_result"
    }
   ],
   "source": [
    "k = nb_pas_allowed_2 // n\n",
    "interpolation_polynomiale(k)"
   ]
  },
  {
   "cell_type": "code",
   "execution_count": null,
   "id": "cb268733-8455-489b-97db-2cc6595e5567",
   "metadata": {},
   "outputs": [],
   "source": []
  }
 ],
 "metadata": {
  "kernelspec": {
   "display_name": "Python 3 (ipykernel)",
   "language": "python",
   "name": "python3"
  },
  "language_info": {
   "codemirror_mode": {
    "name": "ipython",
    "version": 3
   },
   "file_extension": ".py",
   "mimetype": "text/x-python",
   "name": "python",
   "nbconvert_exporter": "python",
   "pygments_lexer": "ipython3",
   "version": "3.10.13"
  }
 },
 "nbformat": 4,
 "nbformat_minor": 5
}
