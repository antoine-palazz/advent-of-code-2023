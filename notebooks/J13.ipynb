{
 "cells": [
  {
   "cell_type": "markdown",
   "id": "0d13e75d-1c38-42cd-8975-84ae4321ed89",
   "metadata": {
    "jp-MarkdownHeadingCollapsed": true
   },
   "source": [
    "## Imports"
   ]
  },
  {
   "cell_type": "code",
   "execution_count": 1,
   "id": "eb8900c5-0f54-41c9-842f-224da8b83e10",
   "metadata": {},
   "outputs": [],
   "source": [
    "import numpy as np\n",
    "from tqdm import tqdm"
   ]
  },
  {
   "cell_type": "code",
   "execution_count": 2,
   "id": "50b01151-9952-42b9-9534-b9d91a6d9ef4",
   "metadata": {},
   "outputs": [],
   "source": [
    "day = \"13\""
   ]
  },
  {
   "cell_type": "code",
   "execution_count": 3,
   "id": "ff5966ba-d055-4c6b-bed2-f46b0b308ba9",
   "metadata": {},
   "outputs": [],
   "source": [
    "with open(f\"input_j{day}.txt\") as f:\n",
    "# with open(f\"test.txt\") as f:\n",
    "    all_cartes = f.readlines()\n",
    "    all_cartes = list(map(lambda x: x.replace(\"\\n\", \"\"), all_cartes))\n",
    "    all_cartes = list(map(lambda x: [case for case in x], all_cartes))"
   ]
  },
  {
   "cell_type": "code",
   "execution_count": 4,
   "id": "ee9ca524-9389-43a2-8bc5-51e1397adba8",
   "metadata": {},
   "outputs": [],
   "source": [
    "cartes = []\n",
    "compteur_1 = 0\n",
    "compteur_2 = 1\n",
    "while compteur_2 < len(all_cartes):\n",
    "    if all_cartes[compteur_2] == []:\n",
    "        cartes.append(all_cartes[compteur_1:compteur_2])\n",
    "        compteur_1 = compteur_2 + 1\n",
    "        compteur_2 = compteur_2 + 1\n",
    "    compteur_2 += 1\n",
    "cartes.append(all_cartes[compteur_1:])"
   ]
  },
  {
   "cell_type": "code",
   "execution_count": 5,
   "id": "1aa74746-4bff-45b3-956f-3f4bc6d024d4",
   "metadata": {},
   "outputs": [
    {
     "data": {
      "text/plain": [
       "100"
      ]
     },
     "execution_count": 5,
     "metadata": {},
     "output_type": "execute_result"
    }
   ],
   "source": [
    "len(cartes)"
   ]
  },
  {
   "cell_type": "markdown",
   "id": "6fd1928e-1d24-4542-ab41-288f42559c3a",
   "metadata": {
    "jp-MarkdownHeadingCollapsed": true
   },
   "source": [
    "## Part 1"
   ]
  },
  {
   "cell_type": "code",
   "execution_count": 6,
   "id": "612761e7-b84d-4df3-a638-293459fc9851",
   "metadata": {},
   "outputs": [],
   "source": [
    "def count_horizontal_symmetries(carte, add_i=True):\n",
    "    k = len(carte)\n",
    "    compteur = 0\n",
    "    if not add_i:\n",
    "        compteur = set()\n",
    "    for i in range(1, k):\n",
    "        if (carte[:i] == carte[i:2*i][::-1]) or (carte[(2*i-k):i][::-1] == carte[i:]):\n",
    "            if add_i:\n",
    "                compteur += i\n",
    "            else:\n",
    "                compteur.add(i)\n",
    "    return compteur"
   ]
  },
  {
   "cell_type": "code",
   "execution_count": 7,
   "id": "3c39d5ee-2c5b-4e15-839e-4730a48bf743",
   "metadata": {},
   "outputs": [],
   "source": [
    "def count_vertical_symmetries(carte, add_i=True):\n",
    "    carte = np.transpose(carte).tolist()\n",
    "    compte = count_horizontal_symmetries(carte, add_i)\n",
    "    return compte"
   ]
  },
  {
   "cell_type": "code",
   "execution_count": 8,
   "id": "162c3ccc-a204-476c-b7b8-3397e1d3e4b1",
   "metadata": {},
   "outputs": [],
   "source": [
    "def calcul_somme_symmetries(cartes, add_i=True):\n",
    "    compteur = 0\n",
    "    if not add_i:\n",
    "        compteur = set()\n",
    "        for carte in cartes:\n",
    "            compteur = compteur.union(set([100*x for x in count_horizontal_symmetries(carte, add_i)]))\n",
    "            compteur = compteur.union(count_vertical_symmetries(carte, add_i))\n",
    "    else:\n",
    "        for carte in cartes:\n",
    "            compteur += 100*count_horizontal_symmetries(carte, add_i)\n",
    "            compteur += count_vertical_symmetries(carte, add_i)\n",
    "    return compteur"
   ]
  },
  {
   "cell_type": "code",
   "execution_count": 9,
   "id": "59e5a6af-ae3c-4c1b-b778-8a2f3ae1c07f",
   "metadata": {},
   "outputs": [
    {
     "data": {
      "text/plain": [
       "34772"
      ]
     },
     "execution_count": 9,
     "metadata": {},
     "output_type": "execute_result"
    }
   ],
   "source": [
    "calcul_somme_symmetries(cartes)"
   ]
  },
  {
   "cell_type": "markdown",
   "id": "89595b9b-8cb6-4b06-b039-b3f2aa067600",
   "metadata": {},
   "source": [
    "## Part 2"
   ]
  },
  {
   "cell_type": "code",
   "execution_count": 10,
   "id": "6db7b390-5b2d-4b0f-9489-0ef0c8b37a3a",
   "metadata": {},
   "outputs": [],
   "source": [
    "dict_changes = {\".\":\"#\", \"#\":\".\"}"
   ]
  },
  {
   "cell_type": "code",
   "execution_count": 11,
   "id": "96ea3a77-f1aa-4534-abb8-3924bbe34b66",
   "metadata": {},
   "outputs": [],
   "source": [
    "def fix_smudge(carte):\n",
    "    copie_carte = carte.copy()\n",
    "    symmetries = calcul_somme_symmetries([copie_carte], add_i=False)\n",
    "\n",
    "    for i in range(len(copie_carte)):\n",
    "        for j in range(len(copie_carte[0])):\n",
    "            copie_carte[i][j] = dict_changes[copie_carte[i][j]]\n",
    "            new_symmetries = calcul_somme_symmetries([copie_carte], add_i=False)\n",
    "            if len(new_symmetries.difference(symmetries))>0:\n",
    "                return sum(new_symmetries.difference(symmetries))\n",
    "            copie_carte[i][j] = dict_changes[copie_carte[i][j]]\n",
    "    return 0"
   ]
  },
  {
   "cell_type": "code",
   "execution_count": 12,
   "id": "36227136-4913-4fbc-baa1-76110fcf8b5c",
   "metadata": {},
   "outputs": [
    {
     "name": "stderr",
     "output_type": "stream",
     "text": [
      "100%|██████████| 100/100 [00:00<00:00, 308.34it/s]\n"
     ]
    },
    {
     "data": {
      "text/plain": [
       "35554"
      ]
     },
     "execution_count": 12,
     "metadata": {},
     "output_type": "execute_result"
    }
   ],
   "source": [
    "sum(list(map(fix_smudge, tqdm(cartes))))"
   ]
  },
  {
   "cell_type": "code",
   "execution_count": null,
   "id": "3d8fc448-6e19-4330-b1e1-3e8a0f737118",
   "metadata": {},
   "outputs": [],
   "source": []
  }
 ],
 "metadata": {
  "kernelspec": {
   "display_name": "Python 3 (ipykernel)",
   "language": "python",
   "name": "python3"
  },
  "language_info": {
   "codemirror_mode": {
    "name": "ipython",
    "version": 3
   },
   "file_extension": ".py",
   "mimetype": "text/x-python",
   "name": "python",
   "nbconvert_exporter": "python",
   "pygments_lexer": "ipython3",
   "version": "3.10.13"
  }
 },
 "nbformat": 4,
 "nbformat_minor": 5
}
