{
 "cells": [
  {
   "cell_type": "markdown",
   "id": "0afb98f6-b803-4652-83d5-8f78f2818c28",
   "metadata": {},
   "source": [
    "## Imports"
   ]
  },
  {
   "cell_type": "code",
   "execution_count": 1,
   "id": "9198f386-c546-42d2-ab5e-d5a5d215ecba",
   "metadata": {},
   "outputs": [],
   "source": [
    "import pandas as pd"
   ]
  },
  {
   "cell_type": "code",
   "execution_count": 2,
   "id": "c3d2a6d2-e096-42d5-80d6-2e1c4b7a91b9",
   "metadata": {},
   "outputs": [],
   "source": [
    "day = \"02\""
   ]
  },
  {
   "cell_type": "code",
   "execution_count": 3,
   "id": "d238e00c-e193-46af-9877-a942d10fd8ac",
   "metadata": {},
   "outputs": [
    {
     "name": "stderr",
     "output_type": "stream",
     "text": [
      "/tmp/ipykernel_4203/849162520.py:1: ParserWarning: Falling back to the 'python' engine because the 'c' engine does not support regex separators (separators > 1 char and different from '\\s+' are interpreted as regex); you can avoid this warning by specifying engine='python'.\n",
      "  df_games = pd.read_csv(f\"input_j{day}.txt\", header=None, sep=\": \")\n"
     ]
    },
    {
     "data": {
      "text/plain": [
       "100"
      ]
     },
     "execution_count": 3,
     "metadata": {},
     "output_type": "execute_result"
    }
   ],
   "source": [
    "df_games = pd.read_csv(f\"input_j{day}.txt\", header=None, sep=\": \")\n",
    "games = list(df_games[1])\n",
    "\n",
    "nb_games = len(games)\n",
    "nb_games"
   ]
  },
  {
   "cell_type": "markdown",
   "id": "6fd1928e-1d24-4542-ab41-288f42559c3a",
   "metadata": {},
   "source": [
    "## Part 1\n",
    "\n",
    "Determine which games would have been possible if the bag had been loaded with only 12 red cubes, 13 green cubes, and 14 blue cubes. What is the sum of the IDs of those games?"
   ]
  },
  {
   "cell_type": "code",
   "execution_count": 4,
   "id": "12584bc2-04f0-4d98-ae7e-c29c78d6e789",
   "metadata": {},
   "outputs": [],
   "source": [
    "compteur = 0\n",
    "\n",
    "for i in range(nb_games):\n",
    "    tirages = games[i].split(\"; \")\n",
    "    is_possible = True\n",
    "    for j in range(len(tirages)):\n",
    "        if not is_possible:\n",
    "            break\n",
    "        couleurs = tirages[j].split(\", \")\n",
    "        for couleur in couleurs:\n",
    "            if \"red\" in couleur and int(couleur[:-4]) > 12:\n",
    "                is_possible = False\n",
    "                break\n",
    "            if \"green\" in couleur and int(couleur[:-6]) > 13:\n",
    "                is_possible = False\n",
    "                break\n",
    "            if \"blue\" in couleur and int(couleur[:-5]) > 14:\n",
    "                is_possible = False\n",
    "                break\n",
    "    if is_possible:\n",
    "        compteur += i+1          "
   ]
  },
  {
   "cell_type": "code",
   "execution_count": 5,
   "id": "87ef6394-ef5a-49f4-b7ea-23ca071ba765",
   "metadata": {},
   "outputs": [
    {
     "data": {
      "text/plain": [
       "2283"
      ]
     },
     "execution_count": 5,
     "metadata": {},
     "output_type": "execute_result"
    }
   ],
   "source": [
    "compteur"
   ]
  },
  {
   "cell_type": "markdown",
   "id": "15ea2165-9cf3-4964-a4cd-f216002a234b",
   "metadata": {},
   "source": [
    "## Part 2"
   ]
  },
  {
   "cell_type": "code",
   "execution_count": 6,
   "id": "52d7122a-19d3-49ea-a617-a5ef19f60e89",
   "metadata": {},
   "outputs": [],
   "source": [
    "compteur = 0\n",
    "\n",
    "for i in range(nb_games):\n",
    "    tirages = games[i].split(\"; \")\n",
    "    nb_red = 0\n",
    "    nb_green = 0\n",
    "    nb_blue = 0\n",
    "    for j in range(len(tirages)):\n",
    "        couleurs = tirages[j].split(\", \")\n",
    "        for couleur in couleurs:\n",
    "            if \"red\" in couleur:\n",
    "                nb_red = max(nb_red, int(couleur[:-4]))\n",
    "            if \"green\" in couleur:\n",
    "                nb_green = max(nb_green, int(couleur[:-6]))\n",
    "            if \"blue\" in couleur:\n",
    "                nb_blue = max(nb_blue, int(couleur[:-5]))\n",
    "    compteur += nb_red * nb_green * nb_blue"
   ]
  },
  {
   "cell_type": "code",
   "execution_count": 7,
   "id": "b48ca7c3-90c5-4480-b5b8-1edb1ef8976b",
   "metadata": {},
   "outputs": [
    {
     "data": {
      "text/plain": [
       "78669"
      ]
     },
     "execution_count": 7,
     "metadata": {},
     "output_type": "execute_result"
    }
   ],
   "source": [
    "compteur"
   ]
  },
  {
   "cell_type": "code",
   "execution_count": null,
   "id": "7c3ad651-ecb7-40e1-9d21-125698238467",
   "metadata": {},
   "outputs": [],
   "source": []
  }
 ],
 "metadata": {
  "kernelspec": {
   "display_name": "Python 3 (ipykernel)",
   "language": "python",
   "name": "python3"
  },
  "language_info": {
   "codemirror_mode": {
    "name": "ipython",
    "version": 3
   },
   "file_extension": ".py",
   "mimetype": "text/x-python",
   "name": "python",
   "nbconvert_exporter": "python",
   "pygments_lexer": "ipython3",
   "version": "3.10.13"
  }
 },
 "nbformat": 4,
 "nbformat_minor": 5
}
