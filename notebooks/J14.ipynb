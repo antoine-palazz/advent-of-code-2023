{
 "cells": [
  {
   "cell_type": "markdown",
   "id": "0d13e75d-1c38-42cd-8975-84ae4321ed89",
   "metadata": {},
   "source": [
    "## Imports"
   ]
  },
  {
   "cell_type": "code",
   "execution_count": 1,
   "id": "0c5749e9-c592-4d87-987b-b1af4460b9a7",
   "metadata": {},
   "outputs": [],
   "source": [
    "import numpy as np"
   ]
  },
  {
   "cell_type": "code",
   "execution_count": 2,
   "id": "50b01151-9952-42b9-9534-b9d91a6d9ef4",
   "metadata": {},
   "outputs": [],
   "source": [
    "day = \"14\""
   ]
  },
  {
   "cell_type": "code",
   "execution_count": 3,
   "id": "ff5966ba-d055-4c6b-bed2-f46b0b308ba9",
   "metadata": {},
   "outputs": [],
   "source": [
    "with open(f\"input_j{day}.txt\") as f:\n",
    "# with open(f\"test.txt\") as f:\n",
    "    grid = f.readlines()\n",
    "    grid = list(map(lambda x: x.replace(\"\\n\", \"\"), grid))\n",
    "    grid = list(map(lambda x: [case for case in x], grid))"
   ]
  },
  {
   "cell_type": "markdown",
   "id": "6fd1928e-1d24-4542-ab41-288f42559c3a",
   "metadata": {},
   "source": [
    "## Part 1"
   ]
  },
  {
   "cell_type": "code",
   "execution_count": 4,
   "id": "da4f67ce-41fa-461d-b037-f9e8f79fd339",
   "metadata": {},
   "outputs": [],
   "source": [
    "new_grid = np.transpose(grid).tolist()"
   ]
  },
  {
   "cell_type": "code",
   "execution_count": 5,
   "id": "dad5f58d-191d-41f8-8981-4944365d62e3",
   "metadata": {},
   "outputs": [],
   "source": [
    "def tilt_grid(grid):\n",
    "    tilted = grid.copy()\n",
    "    for row in range(len(tilted)):\n",
    "        last_empty = 0\n",
    "        for spot in range(len(tilted[row])):\n",
    "            if tilted[row][spot] == \"#\":\n",
    "                last_empty = spot + 1\n",
    "            if tilted[row][spot] == \"O\":\n",
    "                tilted[row][spot] = \".\"\n",
    "                tilted[row][last_empty] = \"O\"\n",
    "                last_empty += 1\n",
    "    return tilted"
   ]
  },
  {
   "cell_type": "code",
   "execution_count": 6,
   "id": "612761e7-b84d-4df3-a638-293459fc9851",
   "metadata": {},
   "outputs": [],
   "source": [
    "tilted_grid = tilt_grid(new_grid)"
   ]
  },
  {
   "cell_type": "code",
   "execution_count": 7,
   "id": "51cadac6-29dd-4e2a-8955-18f2cda3abda",
   "metadata": {},
   "outputs": [],
   "source": [
    "def count_load(grid):\n",
    "    n = len(grid[0])\n",
    "    somme = 0\n",
    "    for row in grid:\n",
    "        for spot in range(n):\n",
    "            if row[spot] == \"O\":\n",
    "                somme += n - spot\n",
    "    return somme\n",
    "    "
   ]
  },
  {
   "cell_type": "code",
   "execution_count": 8,
   "id": "7f5c6cab-325c-4373-9378-6e326dd13118",
   "metadata": {},
   "outputs": [
    {
     "data": {
      "text/plain": [
       "108759"
      ]
     },
     "execution_count": 8,
     "metadata": {},
     "output_type": "execute_result"
    }
   ],
   "source": [
    "count_load(tilted_grid)"
   ]
  },
  {
   "cell_type": "markdown",
   "id": "c506a5c0-0840-4ed4-b6e4-3fe8b2673a3a",
   "metadata": {},
   "source": [
    "## Part 2"
   ]
  },
  {
   "cell_type": "code",
   "execution_count": 9,
   "id": "0a0027d7-372c-45a2-876a-8db5b8725301",
   "metadata": {},
   "outputs": [],
   "source": [
    "def change_pole(grid):\n",
    "    new_grid = grid.copy()\n",
    "    for row in range(len(new_grid)):\n",
    "        new_grid[row] = list(reversed(new_grid[row]))\n",
    "    return new_grid"
   ]
  },
  {
   "cell_type": "code",
   "execution_count": 10,
   "id": "2a42b1a7-9f0e-483e-9d48-f620206b390c",
   "metadata": {},
   "outputs": [],
   "source": [
    "def cycle_tilt(new_grid):  # On part de la grid de départ\n",
    "\n",
    "    final_grid = tilt_grid(new_grid)  # North\n",
    "    final_grid = np.transpose(final_grid).tolist()\n",
    "    final_grid = tilt_grid(final_grid)  # West\n",
    "    final_grid = change_pole(np.transpose(final_grid).tolist())\n",
    "\n",
    "    final_grid = tilt_grid(final_grid)  # South\n",
    "    final_grid = change_pole(final_grid)\n",
    "    final_grid = np.transpose(final_grid).tolist()\n",
    "    final_grid = change_pole(final_grid)\n",
    "    final_grid = tilt_grid(final_grid)  # East\n",
    "    final_grid = change_pole(final_grid)\n",
    "    final_grid = np.transpose(final_grid).tolist()\n",
    "\n",
    "    return final_grid\n",
    "    "
   ]
  },
  {
   "cell_type": "code",
   "execution_count": 11,
   "id": "81024c6e-03cf-4498-a3b4-cd1207098899",
   "metadata": {},
   "outputs": [],
   "source": [
    "beams = {(count_load(grid), tuple([x for row in new_grid for x in row])): [0]}\n",
    "compteur = 0\n",
    "\n",
    "while cycle_tilt(new_grid) != new_grid:\n",
    "    new_grid = cycle_tilt(new_grid)\n",
    "    compteur += 1\n",
    "    beam = count_load(new_grid)\n",
    "    if (beam, tuple([x for row in new_grid for x in row])) not in beams.keys():\n",
    "        beams[(beam, tuple([x for row in new_grid for x in row]))] = [compteur]\n",
    "    else:\n",
    "        beams[(beam, tuple([x for row in new_grid for x in row]))].append(compteur)\n",
    "        if len(beams[(beam, tuple([x for row in new_grid for x in row]))]) == 3:\n",
    "            break\n",
    "\n",
    "periode = compteur - beams[(beam, tuple([x for row in new_grid for x in row]))][-2]\n",
    "indice = compteur + (1000000000-compteur)%periode - periode\n"
   ]
  },
  {
   "cell_type": "code",
   "execution_count": 12,
   "id": "199c7264-d52a-4fb0-8eca-74720a2bfb09",
   "metadata": {},
   "outputs": [
    {
     "name": "stdout",
     "output_type": "stream",
     "text": [
      "89089\n"
     ]
    }
   ],
   "source": [
    "for key in beams.keys():\n",
    "    if indice in beams[key]:\n",
    "        print(key[0])"
   ]
  },
  {
   "cell_type": "code",
   "execution_count": null,
   "id": "d491daca-14ea-4ba1-aec2-24c5c8d710be",
   "metadata": {},
   "outputs": [],
   "source": []
  }
 ],
 "metadata": {
  "kernelspec": {
   "display_name": "Python 3 (ipykernel)",
   "language": "python",
   "name": "python3"
  },
  "language_info": {
   "codemirror_mode": {
    "name": "ipython",
    "version": 3
   },
   "file_extension": ".py",
   "mimetype": "text/x-python",
   "name": "python",
   "nbconvert_exporter": "python",
   "pygments_lexer": "ipython3",
   "version": "3.10.13"
  }
 },
 "nbformat": 4,
 "nbformat_minor": 5
}
