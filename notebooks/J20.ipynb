{
 "cells": [
  {
   "cell_type": "markdown",
   "id": "0d13e75d-1c38-42cd-8975-84ae4321ed89",
   "metadata": {
    "jp-MarkdownHeadingCollapsed": true
   },
   "source": [
    "## Imports"
   ]
  },
  {
   "cell_type": "code",
   "execution_count": 1,
   "id": "d90a74df-e4da-4d5c-993d-335a2e896170",
   "metadata": {},
   "outputs": [],
   "source": [
    "from collections import deque\n",
    "from math import lcm\n",
    "from tqdm import tqdm"
   ]
  },
  {
   "cell_type": "code",
   "execution_count": 2,
   "id": "50b01151-9952-42b9-9534-b9d91a6d9ef4",
   "metadata": {},
   "outputs": [],
   "source": [
    "day = \"20\""
   ]
  },
  {
   "cell_type": "code",
   "execution_count": 3,
   "id": "ff5966ba-d055-4c6b-bed2-f46b0b308ba9",
   "metadata": {},
   "outputs": [
    {
     "data": {
      "text/plain": [
       "58"
      ]
     },
     "execution_count": 3,
     "metadata": {},
     "output_type": "execute_result"
    }
   ],
   "source": [
    "with open(f\"input_j{day}.txt\") as f:\n",
    "#with open(\"test.txt\") as f:\n",
    "    modules = f.readlines()\n",
    "    modules = list(map(lambda x: x.replace(\"\\n\", \"\"), modules))\n",
    "\n",
    "nb_modules = len(modules)\n",
    "nb_modules"
   ]
  },
  {
   "cell_type": "markdown",
   "id": "8595bec2-b67b-4adc-ae74-7f2be51ed7a3",
   "metadata": {
    "jp-MarkdownHeadingCollapsed": true
   },
   "source": [
    "## Code"
   ]
  },
  {
   "cell_type": "code",
   "execution_count": 4,
   "id": "12777474-0c61-494c-a325-aa9d871a324e",
   "metadata": {},
   "outputs": [],
   "source": [
    "part = 2"
   ]
  },
  {
   "cell_type": "code",
   "execution_count": 5,
   "id": "8900767b-a950-4fe3-81ca-9b79ba86a152",
   "metadata": {},
   "outputs": [],
   "source": [
    "modules_type = {}\n",
    "modules_destinations = {}\n",
    "\n",
    "flip_flops_state = {}\n",
    "conjunctions_memories = {}"
   ]
  },
  {
   "cell_type": "code",
   "execution_count": 6,
   "id": "9ad3b6c5-eeff-4d6a-bef3-65a9c5cbe7a9",
   "metadata": {},
   "outputs": [],
   "source": [
    "for row in modules[:-1]:\n",
    "\n",
    "    module_type = row[0]\n",
    "    module_name = row[1:].split(\" \")[0]\n",
    "    module_destinations = row.split(\" -> \")[1].split(\", \")\n",
    "\n",
    "    modules_type[module_name] = module_type\n",
    "    modules_destinations[module_name] = module_destinations\n",
    "\n",
    "    if module_type == \"%\":\n",
    "        flip_flops_state[module_name] = False\n",
    "    elif module_type == \"&\":\n",
    "        conjunctions_memories[module_name] = {}\n",
    "\n",
    "modules_type[\"broadcaster\"] = \"broadcaster\"\n",
    "modules_destinations[\"broadcaster\"] = modules[-1].split(\" -> \")[1].split(\", \")\n",
    "\n",
    "if part == 2:\n",
    "    modules_type[\"rx\"] = \"final\"\n",
    "\n",
    "for module_name in modules_destinations.keys():\n",
    "    for destination in modules_destinations[module_name]:\n",
    "        if destination not in modules_type.keys():\n",
    "             modules_type[destination] = \"output\"\n",
    "        if destination in conjunctions_memories.keys():\n",
    "            conjunctions_memories[destination][module_name] = \"low\""
   ]
  },
  {
   "cell_type": "markdown",
   "id": "6fd1928e-1d24-4542-ab41-288f42559c3a",
   "metadata": {
    "jp-MarkdownHeadingCollapsed": true
   },
   "source": [
    "## Part 1"
   ]
  },
  {
   "cell_type": "code",
   "execution_count": 7,
   "id": "29c06ca9-bb65-4059-9cf6-65e7b16983e0",
   "metadata": {},
   "outputs": [],
   "source": [
    "nb_pressions = 1000"
   ]
  },
  {
   "cell_type": "code",
   "execution_count": 8,
   "id": "3fb3a144-5f56-4c0d-af94-efc75939035c",
   "metadata": {},
   "outputs": [
    {
     "name": "stderr",
     "output_type": "stream",
     "text": [
      "100%|██████████| 1000/1000 [00:00<00:00, 19609.72it/s]\n"
     ]
    }
   ],
   "source": [
    "compteurs = {\"high\": 0, \"low\": 0}\n",
    "\n",
    "for pression in tqdm(range(nb_pressions)):\n",
    "    a_traiter = deque([(\"broadcaster\", \"low\", \"button\")])\n",
    "    compteurs[\"low\"] += 1\n",
    "    while len(a_traiter) > 0:\n",
    "        pulse = a_traiter.popleft()\n",
    "        type_to_send = pulse[1]\n",
    "        if modules_type[pulse[0]] == \"%\":\n",
    "            if type_to_send == \"high\":\n",
    "                type_to_send = False\n",
    "            else:\n",
    "                type_to_send = (\"low\" if flip_flops_state[pulse[0]] else \"high\")\n",
    "                flip_flops_state[pulse[0]] = not flip_flops_state[pulse[0]]\n",
    "        elif modules_type[pulse[0]] == \"&\":\n",
    "            conjunctions_memories[pulse[0]][pulse[2]] = pulse[1]\n",
    "            if all([x == \"high\" for x in conjunctions_memories[pulse[0]].values()]):\n",
    "                type_to_send = \"low\"\n",
    "            else:\n",
    "                type_to_send = \"high\"\n",
    "        elif modules_type[pulse[0]] in [\"output\", \"final\"]:\n",
    "            type_to_send = False\n",
    "        if type_to_send:\n",
    "            for destination in modules_destinations[pulse[0]]:\n",
    "                a_traiter.append((destination, type_to_send, pulse[0]))\n",
    "                compteurs[type_to_send] += 1"
   ]
  },
  {
   "cell_type": "code",
   "execution_count": 9,
   "id": "1578e68b-6568-4fab-9155-84d567386a7c",
   "metadata": {},
   "outputs": [
    {
     "data": {
      "text/plain": [
       "{'high': 40615, 'low': 16772}"
      ]
     },
     "execution_count": 9,
     "metadata": {},
     "output_type": "execute_result"
    }
   ],
   "source": [
    "compteurs"
   ]
  },
  {
   "cell_type": "code",
   "execution_count": 10,
   "id": "8167942c-dd35-44ab-b589-7913d4a41709",
   "metadata": {},
   "outputs": [
    {
     "data": {
      "text/plain": [
       "681194780"
      ]
     },
     "execution_count": 10,
     "metadata": {},
     "output_type": "execute_result"
    }
   ],
   "source": [
    "compteurs[\"high\"] * compteurs[\"low\"]"
   ]
  },
  {
   "cell_type": "markdown",
   "id": "611d918c-f8ec-497d-8f1d-65ca7a719447",
   "metadata": {},
   "source": [
    "## Part 2"
   ]
  },
  {
   "cell_type": "markdown",
   "id": "18a16b6d-e352-4469-8aa6-767796affde2",
   "metadata": {
    "jp-MarkdownHeadingCollapsed": true
   },
   "source": [
    "### Brut force (trop long)"
   ]
  },
  {
   "cell_type": "code",
   "execution_count": 11,
   "id": "52170050-f675-44bd-8bad-fb248d17b100",
   "metadata": {},
   "outputs": [],
   "source": [
    "compteur_pressions = 0\n",
    "compteur_low_rx = 0"
   ]
  },
  {
   "cell_type": "code",
   "execution_count": 12,
   "id": "23294669-2b6a-48bc-9b68-a9661245e53a",
   "metadata": {},
   "outputs": [
    {
     "data": {
      "text/plain": [
       "'\\nwhile compteur_low_rx != 1:\\n    a_traiter = deque([(\"broadcaster\", \"low\", \"button\")])\\n    compteur_pressions += 1\\n    compteur_low_rx = 0\\n    while len(a_traiter) > 0:\\n        pulse = a_traiter.popleft()\\n        type_to_send = pulse[1]\\n        if modules_type[pulse[0]] == \"%\":\\n            if type_to_send == \"high\":\\n                type_to_send = False\\n            else:\\n                type_to_send = (\"low\" if flip_flops_state[pulse[0]] else \"high\")\\n                flip_flops_state[pulse[0]] = not flip_flops_state[pulse[0]]\\n        elif modules_type[pulse[0]] == \"&\":\\n            conjunctions_memories[pulse[0]][pulse[2]] = pulse[1]\\n            if all([x == \"high\" for x in conjunctions_memories[pulse[0]].values()]):\\n                type_to_send = \"low\"\\n            else:\\n                type_to_send = \"high\"\\n        elif modules_type[pulse[0]] in [\"output\", \"final\"]:\\n            type_to_send = False\\n        if type_to_send:\\n            for destination in modules_destinations[pulse[0]]:\\n                a_traiter.append((destination, type_to_send, pulse[0]))\\n                if modules_type[destination] == \"final\":\\n                    if type_to_send == \"low\":\\n                        compteur_low_rx += 1\\n                    else:\\n                        compteur_low_rx += 2\\n'"
      ]
     },
     "execution_count": 12,
     "metadata": {},
     "output_type": "execute_result"
    }
   ],
   "source": [
    "\"\"\"\n",
    "while compteur_low_rx != 1:\n",
    "    a_traiter = deque([(\"broadcaster\", \"low\", \"button\")])\n",
    "    compteur_pressions += 1\n",
    "    compteur_low_rx = 0\n",
    "    while len(a_traiter) > 0:\n",
    "        pulse = a_traiter.popleft()\n",
    "        type_to_send = pulse[1]\n",
    "        if modules_type[pulse[0]] == \"%\":\n",
    "            if type_to_send == \"high\":\n",
    "                type_to_send = False\n",
    "            else:\n",
    "                type_to_send = (\"low\" if flip_flops_state[pulse[0]] else \"high\")\n",
    "                flip_flops_state[pulse[0]] = not flip_flops_state[pulse[0]]\n",
    "        elif modules_type[pulse[0]] == \"&\":\n",
    "            conjunctions_memories[pulse[0]][pulse[2]] = pulse[1]\n",
    "            if all([x == \"high\" for x in conjunctions_memories[pulse[0]].values()]):\n",
    "                type_to_send = \"low\"\n",
    "            else:\n",
    "                type_to_send = \"high\"\n",
    "        elif modules_type[pulse[0]] in [\"output\", \"final\"]:\n",
    "            type_to_send = False\n",
    "        if type_to_send:\n",
    "            for destination in modules_destinations[pulse[0]]:\n",
    "                a_traiter.append((destination, type_to_send, pulse[0]))\n",
    "                if modules_type[destination] == \"final\":\n",
    "                    if type_to_send == \"low\":\n",
    "                        compteur_low_rx += 1\n",
    "                    else:\n",
    "                        compteur_low_rx += 2\n",
    "\"\"\""
   ]
  },
  {
   "cell_type": "code",
   "execution_count": 13,
   "id": "30bc22bf-9e1a-4736-b9ed-4157338eb472",
   "metadata": {},
   "outputs": [],
   "source": [
    "# compteur_pressions"
   ]
  },
  {
   "cell_type": "markdown",
   "id": "1757ad63-3016-43c4-a15d-181005cb7f96",
   "metadata": {},
   "source": [
    "### Méthode plus fine"
   ]
  },
  {
   "cell_type": "markdown",
   "id": "13ee1f3b-c008-41d7-b4fe-d7ce7952226f",
   "metadata": {},
   "source": [
    "Dans mon input, l'état final rx n'est atteint que par un seul module de type conjunction appelé &bq. Un signal low ne sera donc envoyé que si chacun des états en mémoire est à \"high\" dans bq."
   ]
  },
  {
   "cell_type": "code",
   "execution_count": 14,
   "id": "6d57bc87-603d-4e5a-85f6-25b72719052b",
   "metadata": {},
   "outputs": [
    {
     "data": {
      "text/plain": [
       "{'vg': 'low', 'kp': 'low', 'gc': 'low', 'tx': 'low'}"
      ]
     },
     "execution_count": 14,
     "metadata": {},
     "output_type": "execute_result"
    }
   ],
   "source": [
    "conjunctions_memories['bq']"
   ]
  },
  {
   "cell_type": "markdown",
   "id": "48f9c7b7-fede-460b-b470-b5c44f65fe32",
   "metadata": {},
   "source": [
    "4 points d'entrée dans bq, faisons comme au J8 et regardons s'il y a des cycles pour chacun, pour pouvoir faire un PPCM."
   ]
  },
  {
   "cell_type": "code",
   "execution_count": 15,
   "id": "decff260-6c84-4939-ac42-9308f9359a0e",
   "metadata": {},
   "outputs": [
    {
     "data": {
      "text/plain": [
       "{'vg': [], 'kp': [], 'gc': [], 'tx': []}"
      ]
     },
     "execution_count": 15,
     "metadata": {},
     "output_type": "execute_result"
    }
   ],
   "source": [
    "compteurs = {}\n",
    "for module in conjunctions_memories['bq'].keys():\n",
    "    compteurs[module] = []\n",
    "\n",
    "compteurs"
   ]
  },
  {
   "cell_type": "code",
   "execution_count": 16,
   "id": "2db50445-e3b0-4d09-8107-3da5ffd4b52f",
   "metadata": {},
   "outputs": [],
   "source": [
    "compteur_pressions = 0"
   ]
  },
  {
   "cell_type": "code",
   "execution_count": 17,
   "id": "d910d68f-a217-4930-9835-c908ce98522a",
   "metadata": {},
   "outputs": [],
   "source": [
    "while any([len(x) < 5 for x in compteurs.values()]):\n",
    "    a_traiter = deque([(\"broadcaster\", \"low\", \"button\")])\n",
    "    compteur_pressions += 1\n",
    "    while len(a_traiter) > 0:\n",
    "        pulse = a_traiter.popleft()\n",
    "        type_to_send = pulse[1]\n",
    "        if modules_type[pulse[0]] == \"%\":\n",
    "            if type_to_send == \"high\":\n",
    "                type_to_send = False\n",
    "            else:\n",
    "                type_to_send = (\"low\" if flip_flops_state[pulse[0]] else \"high\")\n",
    "                flip_flops_state[pulse[0]] = not flip_flops_state[pulse[0]]\n",
    "        elif modules_type[pulse[0]] == \"&\":\n",
    "            conjunctions_memories[pulse[0]][pulse[2]] = pulse[1]\n",
    "            if pulse[0] == \"bq\" and pulse[1] == \"high\":\n",
    "                compteurs[pulse[2]].append(compteur_pressions)\n",
    "            if all([x == \"high\" for x in conjunctions_memories[pulse[0]].values()]):\n",
    "                type_to_send = \"low\"\n",
    "            else:\n",
    "                type_to_send = \"high\"\n",
    "        elif modules_type[pulse[0]] in [\"output\", \"final\"]:\n",
    "            type_to_send = False\n",
    "        if type_to_send:\n",
    "            for destination in modules_destinations[pulse[0]]:\n",
    "                a_traiter.append((destination, type_to_send, pulse[0]))\n"
   ]
  },
  {
   "cell_type": "code",
   "execution_count": 18,
   "id": "ed696f39-127c-40e3-907c-72c520015f36",
   "metadata": {},
   "outputs": [
    {
     "data": {
      "text/plain": [
       "{'vg': [3027, 7054, 11081, 15108, 19135],\n",
       " 'kp': [2929, 6858, 10787, 14716, 18645],\n",
       " 'gc': [3001, 7002, 11003, 15004, 19005],\n",
       " 'tx': [2769, 6538, 10307, 14076, 17845]}"
      ]
     },
     "execution_count": 18,
     "metadata": {},
     "output_type": "execute_result"
    }
   ],
   "source": [
    "compteurs"
   ]
  },
  {
   "cell_type": "code",
   "execution_count": 19,
   "id": "23e8b166-595c-499d-87b9-f47a74eab9ee",
   "metadata": {},
   "outputs": [],
   "source": [
    "vg = compteurs[\"vg\"][4] - compteurs[\"vg\"][3]\n",
    "kp = compteurs[\"kp\"][4] - compteurs[\"kp\"][3]\n",
    "gc = compteurs[\"gc\"][4] - compteurs[\"gc\"][3]\n",
    "tx = compteurs[\"tx\"][4] - compteurs[\"tx\"][3]"
   ]
  },
  {
   "cell_type": "code",
   "execution_count": 20,
   "id": "6b05c689-d568-4c30-9148-79f3ec8b8f09",
   "metadata": {},
   "outputs": [
    {
     "data": {
      "text/plain": [
       "238593356738827"
      ]
     },
     "execution_count": 20,
     "metadata": {},
     "output_type": "execute_result"
    }
   ],
   "source": [
    "lcm(vg, kp, gc, tx)"
   ]
  },
  {
   "cell_type": "markdown",
   "id": "0d5c7b5c-cb9c-4a4a-8f2f-c2c992857dcc",
   "metadata": {},
   "source": [
    "Et c'est une bonne réponse !"
   ]
  },
  {
   "cell_type": "code",
   "execution_count": null,
   "id": "ed3ca902-3492-4624-93e2-5eae45296b3d",
   "metadata": {},
   "outputs": [],
   "source": []
  }
 ],
 "metadata": {
  "kernelspec": {
   "display_name": "Python 3 (ipykernel)",
   "language": "python",
   "name": "python3"
  },
  "language_info": {
   "codemirror_mode": {
    "name": "ipython",
    "version": 3
   },
   "file_extension": ".py",
   "mimetype": "text/x-python",
   "name": "python",
   "nbconvert_exporter": "python",
   "pygments_lexer": "ipython3",
   "version": "3.10.13"
  }
 },
 "nbformat": 4,
 "nbformat_minor": 5
}
