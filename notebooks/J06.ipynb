{
 "cells": [
  {
   "cell_type": "markdown",
   "id": "0d13e75d-1c38-42cd-8975-84ae4321ed89",
   "metadata": {},
   "source": [
    "## Imports"
   ]
  },
  {
   "cell_type": "code",
   "execution_count": 1,
   "id": "a8d149a7-0a04-4a61-8ab5-eb6bd59a93ad",
   "metadata": {},
   "outputs": [],
   "source": [
    "import numpy as np\n",
    "import pandas as pd\n",
    "from tqdm import tqdm"
   ]
  },
  {
   "cell_type": "code",
   "execution_count": 2,
   "id": "50b01151-9952-42b9-9534-b9d91a6d9ef4",
   "metadata": {},
   "outputs": [],
   "source": [
    "day = \"06\""
   ]
  },
  {
   "cell_type": "markdown",
   "id": "6fd1928e-1d24-4542-ab41-288f42559c3a",
   "metadata": {},
   "source": [
    "## Part 1"
   ]
  },
  {
   "cell_type": "code",
   "execution_count": 3,
   "id": "e45683b2-0da9-4f1e-a2f5-b3611014637a",
   "metadata": {},
   "outputs": [],
   "source": [
    "# Time:        49     87     78     95\n",
    "# Distance:   356   1378   1502   1882"
   ]
  },
  {
   "cell_type": "code",
   "execution_count": 4,
   "id": "3733c5aa-5c3b-4e5b-bca5-a995d96ba66d",
   "metadata": {},
   "outputs": [],
   "source": [
    "times = [49, 87, 78, 95]\n",
    "distances = [356, 1378, 1502, 1882]\n",
    "n = 4"
   ]
  },
  {
   "cell_type": "code",
   "execution_count": 5,
   "id": "416c7a8e-08b3-4761-9e07-85e7b636d4e8",
   "metadata": {},
   "outputs": [
    {
     "data": {
      "text/plain": [
       "503424"
      ]
     },
     "execution_count": 5,
     "metadata": {},
     "output_type": "execute_result"
    }
   ],
   "source": [
    "compteurs = [0 for i in range(n)]\n",
    "\n",
    "for i in range(n):\n",
    "    for j in range(1, times[i]):\n",
    "        distance = j * (times[i] - j)\n",
    "        if distance >= distances[i]:\n",
    "            compteurs[i] += 1\n",
    "\n",
    "np.product(compteurs)\n"
   ]
  },
  {
   "cell_type": "markdown",
   "id": "98742c57-4aa9-4e72-b267-5865dc633f3b",
   "metadata": {},
   "source": [
    "## Part 2"
   ]
  },
  {
   "cell_type": "code",
   "execution_count": 6,
   "id": "b21c49ad-4390-4dfd-8c2e-5a091716b11b",
   "metadata": {},
   "outputs": [],
   "source": [
    "time = 49877895\n",
    "distance = 356137815021882"
   ]
  },
  {
   "cell_type": "code",
   "execution_count": 7,
   "id": "6f6b2d5a-64ad-4afe-8006-b77bb041486a",
   "metadata": {
    "scrolled": true
   },
   "outputs": [
    {
     "name": "stderr",
     "output_type": "stream",
     "text": [
      "100%|██████████| 49877894/49877894 [00:21<00:00, 2365634.30it/s]\n"
     ]
    },
    {
     "data": {
      "text/plain": [
       "32607562"
      ]
     },
     "execution_count": 7,
     "metadata": {},
     "output_type": "execute_result"
    }
   ],
   "source": [
    "compteur = 0\n",
    "\n",
    "for i in tqdm(range(1, time)):\n",
    "    new_distance = i * (time - i)\n",
    "    if new_distance >= distance:\n",
    "        compteur += 1\n",
    "\n",
    "compteur"
   ]
  },
  {
   "cell_type": "code",
   "execution_count": null,
   "id": "f1c562cc-e5b6-4dc7-a279-f74f1c1bffba",
   "metadata": {},
   "outputs": [],
   "source": []
  }
 ],
 "metadata": {
  "kernelspec": {
   "display_name": "Python 3 (ipykernel)",
   "language": "python",
   "name": "python3"
  },
  "language_info": {
   "codemirror_mode": {
    "name": "ipython",
    "version": 3
   },
   "file_extension": ".py",
   "mimetype": "text/x-python",
   "name": "python",
   "nbconvert_exporter": "python",
   "pygments_lexer": "ipython3",
   "version": "3.10.13"
  }
 },
 "nbformat": 4,
 "nbformat_minor": 5
}
