{
 "cells": [
  {
   "cell_type": "markdown",
   "id": "bec03e8a-1194-4e66-a809-f0863135ead8",
   "metadata": {},
   "source": [
    "# Part 1"
   ]
  },
  {
   "cell_type": "code",
   "execution_count": 1,
   "id": "04dde606-f943-4992-8a77-a2d980f3525f",
   "metadata": {},
   "outputs": [],
   "source": [
    "import pandas as pd"
   ]
  },
  {
   "cell_type": "code",
   "execution_count": 15,
   "id": "dc70fd56-240d-4ec6-861a-de4a70b18443",
   "metadata": {},
   "outputs": [],
   "source": [
    "df = pd.read_csv(\"input_j01.txt\", header=None)"
   ]
  },
  {
   "cell_type": "code",
   "execution_count": 16,
   "id": "1d5e6c4c-bc85-4656-94ba-f54fbe171fc2",
   "metadata": {},
   "outputs": [
    {
     "data": {
      "text/html": [
       "<div>\n",
       "<style scoped>\n",
       "    .dataframe tbody tr th:only-of-type {\n",
       "        vertical-align: middle;\n",
       "    }\n",
       "\n",
       "    .dataframe tbody tr th {\n",
       "        vertical-align: top;\n",
       "    }\n",
       "\n",
       "    .dataframe thead th {\n",
       "        text-align: right;\n",
       "    }\n",
       "</style>\n",
       "<table border=\"1\" class=\"dataframe\">\n",
       "  <thead>\n",
       "    <tr style=\"text-align: right;\">\n",
       "      <th></th>\n",
       "      <th>0</th>\n",
       "    </tr>\n",
       "  </thead>\n",
       "  <tbody>\n",
       "    <tr>\n",
       "      <th>0</th>\n",
       "      <td>kjrqmzv9mmtxhgvsevenhvq7</td>\n",
       "    </tr>\n",
       "    <tr>\n",
       "      <th>1</th>\n",
       "      <td>four2tszbgmxpbvninebxns6nineqbqzgjpmpqr</td>\n",
       "    </tr>\n",
       "    <tr>\n",
       "      <th>2</th>\n",
       "      <td>rkzlnmzgnk91zckqprrptnthreefourtwo</td>\n",
       "    </tr>\n",
       "    <tr>\n",
       "      <th>3</th>\n",
       "      <td>fouronevzkbnzm6seven47</td>\n",
       "    </tr>\n",
       "    <tr>\n",
       "      <th>4</th>\n",
       "      <td>zphgdcznqsm2</td>\n",
       "    </tr>\n",
       "    <tr>\n",
       "      <th>...</th>\n",
       "      <td>...</td>\n",
       "    </tr>\n",
       "    <tr>\n",
       "      <th>995</th>\n",
       "      <td>plxfoursc41five</td>\n",
       "    </tr>\n",
       "    <tr>\n",
       "      <th>996</th>\n",
       "      <td>sixfour9fivernqcknsbgpfrzmgz3</td>\n",
       "    </tr>\n",
       "    <tr>\n",
       "      <th>997</th>\n",
       "      <td>onesevenf78threedzvlm1</td>\n",
       "    </tr>\n",
       "    <tr>\n",
       "      <th>998</th>\n",
       "      <td>xlkdlhlk23four</td>\n",
       "    </tr>\n",
       "    <tr>\n",
       "      <th>999</th>\n",
       "      <td>8ninejseven5</td>\n",
       "    </tr>\n",
       "  </tbody>\n",
       "</table>\n",
       "<p>1000 rows × 1 columns</p>\n",
       "</div>"
      ],
      "text/plain": [
       "                                           0\n",
       "0                   kjrqmzv9mmtxhgvsevenhvq7\n",
       "1    four2tszbgmxpbvninebxns6nineqbqzgjpmpqr\n",
       "2         rkzlnmzgnk91zckqprrptnthreefourtwo\n",
       "3                     fouronevzkbnzm6seven47\n",
       "4                               zphgdcznqsm2\n",
       "..                                       ...\n",
       "995                          plxfoursc41five\n",
       "996            sixfour9fivernqcknsbgpfrzmgz3\n",
       "997                   onesevenf78threedzvlm1\n",
       "998                           xlkdlhlk23four\n",
       "999                             8ninejseven5\n",
       "\n",
       "[1000 rows x 1 columns]"
      ]
     },
     "execution_count": 16,
     "metadata": {},
     "output_type": "execute_result"
    }
   ],
   "source": [
    "df"
   ]
  },
  {
   "cell_type": "code",
   "execution_count": 17,
   "id": "2d7c2b18-c724-46f2-af17-67456d8a22c4",
   "metadata": {},
   "outputs": [],
   "source": [
    "compteur = 0\n",
    "for i in range(len(df)):\n",
    "    mot = df.loc[i][0]\n",
    "\n",
    "    j = 0\n",
    "    while not mot[j].isnumeric():\n",
    "        j += 1\n",
    "    compteur += 10*int(mot[j])\n",
    "\n",
    "    j = len(mot)-1\n",
    "    while not mot[j].isnumeric():\n",
    "        j -= 1\n",
    "    compteur += int(mot[j])"
   ]
  },
  {
   "cell_type": "code",
   "execution_count": 18,
   "id": "6e9c09fb-0eba-4bb2-83fb-526f32a54645",
   "metadata": {},
   "outputs": [
    {
     "data": {
      "text/plain": [
       "55447"
      ]
     },
     "execution_count": 18,
     "metadata": {},
     "output_type": "execute_result"
    }
   ],
   "source": [
    "compteur"
   ]
  },
  {
   "cell_type": "markdown",
   "id": "a0213388-5307-4fbc-ae34-1c4628237b60",
   "metadata": {},
   "source": [
    "# Part 2"
   ]
  },
  {
   "cell_type": "code",
   "execution_count": 19,
   "id": "b077c888-ca14-4123-a1be-e6fa3977ff17",
   "metadata": {},
   "outputs": [],
   "source": [
    "df.replace(\"one\", \"one1one\", regex=True, inplace=True)\n",
    "df.replace(\"two\", \"two2two\", regex=True, inplace=True)\n",
    "df.replace(\"three\", \"three3three\", regex=True, inplace=True)\n",
    "df.replace(\"four\", \"four4four\", regex=True, inplace=True)\n",
    "df.replace(\"five\", \"five5five\", regex=True, inplace=True)\n",
    "df.replace(\"six\", \"six6six\", regex=True, inplace=True)\n",
    "df.replace(\"seven\", \"seven7seven\", regex=True, inplace=True)\n",
    "df.replace(\"eight\", \"eight8eight\", regex=True, inplace=True)\n",
    "df.replace(\"nine\", \"nine9nine\", regex=True, inplace=True)"
   ]
  },
  {
   "cell_type": "code",
   "execution_count": 20,
   "id": "125f13df-0e49-40b9-b7fc-9602c1e5e8df",
   "metadata": {},
   "outputs": [
    {
     "data": {
      "text/html": [
       "<div>\n",
       "<style scoped>\n",
       "    .dataframe tbody tr th:only-of-type {\n",
       "        vertical-align: middle;\n",
       "    }\n",
       "\n",
       "    .dataframe tbody tr th {\n",
       "        vertical-align: top;\n",
       "    }\n",
       "\n",
       "    .dataframe thead th {\n",
       "        text-align: right;\n",
       "    }\n",
       "</style>\n",
       "<table border=\"1\" class=\"dataframe\">\n",
       "  <thead>\n",
       "    <tr style=\"text-align: right;\">\n",
       "      <th></th>\n",
       "      <th>0</th>\n",
       "    </tr>\n",
       "  </thead>\n",
       "  <tbody>\n",
       "    <tr>\n",
       "      <th>0</th>\n",
       "      <td>kjrqmzv9mmtxhgvseven7sevenhvq7</td>\n",
       "    </tr>\n",
       "    <tr>\n",
       "      <th>1</th>\n",
       "      <td>four4four2tszbgmxpbvnine9ninebxns6nine9nineqbq...</td>\n",
       "    </tr>\n",
       "    <tr>\n",
       "      <th>2</th>\n",
       "      <td>rkzlnmzgnk91zckqprrptnthree3threefour4fourtwo2two</td>\n",
       "    </tr>\n",
       "    <tr>\n",
       "      <th>3</th>\n",
       "      <td>four4fourone1onevzkbnzm6seven7seven47</td>\n",
       "    </tr>\n",
       "    <tr>\n",
       "      <th>4</th>\n",
       "      <td>zphgdcznqsm2</td>\n",
       "    </tr>\n",
       "    <tr>\n",
       "      <th>...</th>\n",
       "      <td>...</td>\n",
       "    </tr>\n",
       "    <tr>\n",
       "      <th>995</th>\n",
       "      <td>plxfour4foursc41five5five</td>\n",
       "    </tr>\n",
       "    <tr>\n",
       "      <th>996</th>\n",
       "      <td>six6sixfour4four9five5fivernqcknsbgpfrzmgz3</td>\n",
       "    </tr>\n",
       "    <tr>\n",
       "      <th>997</th>\n",
       "      <td>one1oneseven7sevenf78three3threedzvlm1</td>\n",
       "    </tr>\n",
       "    <tr>\n",
       "      <th>998</th>\n",
       "      <td>xlkdlhlk23four4four</td>\n",
       "    </tr>\n",
       "    <tr>\n",
       "      <th>999</th>\n",
       "      <td>8nine9ninejseven7seven5</td>\n",
       "    </tr>\n",
       "  </tbody>\n",
       "</table>\n",
       "<p>1000 rows × 1 columns</p>\n",
       "</div>"
      ],
      "text/plain": [
       "                                                     0\n",
       "0                       kjrqmzv9mmtxhgvseven7sevenhvq7\n",
       "1    four4four2tszbgmxpbvnine9ninebxns6nine9nineqbq...\n",
       "2    rkzlnmzgnk91zckqprrptnthree3threefour4fourtwo2two\n",
       "3                four4fourone1onevzkbnzm6seven7seven47\n",
       "4                                         zphgdcznqsm2\n",
       "..                                                 ...\n",
       "995                          plxfour4foursc41five5five\n",
       "996        six6sixfour4four9five5fivernqcknsbgpfrzmgz3\n",
       "997             one1oneseven7sevenf78three3threedzvlm1\n",
       "998                                xlkdlhlk23four4four\n",
       "999                            8nine9ninejseven7seven5\n",
       "\n",
       "[1000 rows x 1 columns]"
      ]
     },
     "execution_count": 20,
     "metadata": {},
     "output_type": "execute_result"
    }
   ],
   "source": [
    "df"
   ]
  },
  {
   "cell_type": "code",
   "execution_count": 21,
   "id": "a53ed697-976c-4a69-b7aa-6e915ffca174",
   "metadata": {},
   "outputs": [],
   "source": [
    "compteur = 0\n",
    "for i in range(len(df)):\n",
    "    mot = df.loc[i][0]\n",
    "\n",
    "    j = 0\n",
    "    while not mot[j].isnumeric():\n",
    "        j += 1\n",
    "    compteur += 10*int(mot[j])\n",
    "\n",
    "    j = len(mot)-1\n",
    "    while not mot[j].isnumeric():\n",
    "        j -= 1\n",
    "    compteur += int(mot[j])"
   ]
  },
  {
   "cell_type": "code",
   "execution_count": 22,
   "id": "5de58112-cf42-4394-8447-34d878affc0b",
   "metadata": {},
   "outputs": [
    {
     "data": {
      "text/plain": [
       "54706"
      ]
     },
     "execution_count": 22,
     "metadata": {},
     "output_type": "execute_result"
    }
   ],
   "source": [
    "compteur"
   ]
  },
  {
   "cell_type": "code",
   "execution_count": null,
   "id": "bf202b31-a46b-4a50-841a-6486ac48fd16",
   "metadata": {},
   "outputs": [],
   "source": []
  }
 ],
 "metadata": {
  "kernelspec": {
   "display_name": "Python 3 (ipykernel)",
   "language": "python",
   "name": "python3"
  },
  "language_info": {
   "codemirror_mode": {
    "name": "ipython",
    "version": 3
   },
   "file_extension": ".py",
   "mimetype": "text/x-python",
   "name": "python",
   "nbconvert_exporter": "python",
   "pygments_lexer": "ipython3",
   "version": "3.10.13"
  }
 },
 "nbformat": 4,
 "nbformat_minor": 5
}
