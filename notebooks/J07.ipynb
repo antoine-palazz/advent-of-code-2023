{
 "cells": [
  {
   "cell_type": "markdown",
   "id": "0d13e75d-1c38-42cd-8975-84ae4321ed89",
   "metadata": {},
   "source": [
    "## Imports"
   ]
  },
  {
   "cell_type": "code",
   "execution_count": 1,
   "id": "a8d149a7-0a04-4a61-8ab5-eb6bd59a93ad",
   "metadata": {},
   "outputs": [],
   "source": [
    "import pandas as pd"
   ]
  },
  {
   "cell_type": "code",
   "execution_count": 2,
   "id": "50b01151-9952-42b9-9534-b9d91a6d9ef4",
   "metadata": {},
   "outputs": [],
   "source": [
    "day = \"07\""
   ]
  },
  {
   "cell_type": "code",
   "execution_count": 3,
   "id": "da558576-6127-42aa-b997-4d0220d8138a",
   "metadata": {},
   "outputs": [],
   "source": [
    "df = pd.read_csv(f\"input_j{day}.txt\", header=None, sep=\" \")\n",
    "df.columns = [\"hand\", \"bid\"]\n",
    "new_df = df.copy()"
   ]
  },
  {
   "cell_type": "code",
   "execution_count": 4,
   "id": "7371490a-d4a0-44a8-9a9e-ae74c246b216",
   "metadata": {},
   "outputs": [
    {
     "data": {
      "text/html": [
       "<div>\n",
       "<style scoped>\n",
       "    .dataframe tbody tr th:only-of-type {\n",
       "        vertical-align: middle;\n",
       "    }\n",
       "\n",
       "    .dataframe tbody tr th {\n",
       "        vertical-align: top;\n",
       "    }\n",
       "\n",
       "    .dataframe thead th {\n",
       "        text-align: right;\n",
       "    }\n",
       "</style>\n",
       "<table border=\"1\" class=\"dataframe\">\n",
       "  <thead>\n",
       "    <tr style=\"text-align: right;\">\n",
       "      <th></th>\n",
       "      <th>hand</th>\n",
       "      <th>bid</th>\n",
       "    </tr>\n",
       "  </thead>\n",
       "  <tbody>\n",
       "    <tr>\n",
       "      <th>0</th>\n",
       "      <td>[A, A, T, K, J]</td>\n",
       "      <td>840</td>\n",
       "    </tr>\n",
       "    <tr>\n",
       "      <th>1</th>\n",
       "      <td>[2, 7, A, 8, 3]</td>\n",
       "      <td>251</td>\n",
       "    </tr>\n",
       "    <tr>\n",
       "      <th>2</th>\n",
       "      <td>[6, T, T, 8, T]</td>\n",
       "      <td>113</td>\n",
       "    </tr>\n",
       "    <tr>\n",
       "      <th>3</th>\n",
       "      <td>[Q, 6, T, 6, T]</td>\n",
       "      <td>693</td>\n",
       "    </tr>\n",
       "    <tr>\n",
       "      <th>4</th>\n",
       "      <td>[9, 9, K, 8, 9]</td>\n",
       "      <td>553</td>\n",
       "    </tr>\n",
       "    <tr>\n",
       "      <th>...</th>\n",
       "      <td>...</td>\n",
       "      <td>...</td>\n",
       "    </tr>\n",
       "    <tr>\n",
       "      <th>995</th>\n",
       "      <td>[T, T, T, 4, 2]</td>\n",
       "      <td>614</td>\n",
       "    </tr>\n",
       "    <tr>\n",
       "      <th>996</th>\n",
       "      <td>[9, 9, 5, 9, 5]</td>\n",
       "      <td>384</td>\n",
       "    </tr>\n",
       "    <tr>\n",
       "      <th>997</th>\n",
       "      <td>[7, 4, 4, 7, 4]</td>\n",
       "      <td>412</td>\n",
       "    </tr>\n",
       "    <tr>\n",
       "      <th>998</th>\n",
       "      <td>[J, 5, 7, 4, 5]</td>\n",
       "      <td>293</td>\n",
       "    </tr>\n",
       "    <tr>\n",
       "      <th>999</th>\n",
       "      <td>[Q, 4, 4, 4, 4]</td>\n",
       "      <td>864</td>\n",
       "    </tr>\n",
       "  </tbody>\n",
       "</table>\n",
       "<p>1000 rows × 2 columns</p>\n",
       "</div>"
      ],
      "text/plain": [
       "                hand  bid\n",
       "0    [A, A, T, K, J]  840\n",
       "1    [2, 7, A, 8, 3]  251\n",
       "2    [6, T, T, 8, T]  113\n",
       "3    [Q, 6, T, 6, T]  693\n",
       "4    [9, 9, K, 8, 9]  553\n",
       "..               ...  ...\n",
       "995  [T, T, T, 4, 2]  614\n",
       "996  [9, 9, 5, 9, 5]  384\n",
       "997  [7, 4, 4, 7, 4]  412\n",
       "998  [J, 5, 7, 4, 5]  293\n",
       "999  [Q, 4, 4, 4, 4]  864\n",
       "\n",
       "[1000 rows x 2 columns]"
      ]
     },
     "execution_count": 4,
     "metadata": {},
     "output_type": "execute_result"
    }
   ],
   "source": [
    "df[\"hand\"] = df[\"hand\"].apply(lambda hand: [x for x in hand])\n",
    "df"
   ]
  },
  {
   "cell_type": "markdown",
   "id": "6fd1928e-1d24-4542-ab41-288f42559c3a",
   "metadata": {},
   "source": [
    "## Part 1"
   ]
  },
  {
   "cell_type": "code",
   "execution_count": 5,
   "id": "612761e7-b84d-4df3-a638-293459fc9851",
   "metadata": {},
   "outputs": [],
   "source": [
    "importances_cartes = {\n",
    "    \"2\": \"A\",\n",
    "    \"3\": \"B\",\n",
    "    \"4\": \"C\",\n",
    "    \"5\": \"D\",\n",
    "    \"6\": \"E\",\n",
    "    \"7\": \"F\",\n",
    "    \"8\": \"G\",\n",
    "    \"9\": \"H\",\n",
    "    \"T\": \"I\",\n",
    "    \"J\": \"J\",\n",
    "    \"Q\": \"K\",\n",
    "    \"K\": \"L\",\n",
    "    \"A\": \"M\"\n",
    "}"
   ]
  },
  {
   "cell_type": "code",
   "execution_count": 6,
   "id": "074fc971-e047-4fdf-9534-c6ed88aa6394",
   "metadata": {},
   "outputs": [],
   "source": [
    "df[\"departage\"] = df.hand.apply(lambda hand: \"\".join([importances_cartes[x] for x in hand]))"
   ]
  },
  {
   "cell_type": "code",
   "execution_count": 7,
   "id": "2d0bc5ad-aea0-47d8-9a09-3081a4a6f9be",
   "metadata": {},
   "outputs": [],
   "source": [
    "# High card\n",
    "df['value'] = df['hand'].apply(lambda hand: 1 if len(set(hand)) == len(hand) else 0)"
   ]
  },
  {
   "cell_type": "code",
   "execution_count": 8,
   "id": "305fa904-aa1a-4f0a-86c7-58e46b090c34",
   "metadata": {},
   "outputs": [],
   "source": [
    "# One pair\n",
    "df['value'] = df.apply(lambda row: 2 if len(set(row.hand)) == (len(row.hand) - 1) else row.value, axis=1)"
   ]
  },
  {
   "cell_type": "code",
   "execution_count": 9,
   "id": "eac203c5-453e-4a58-8954-6ae6a6c4bbc9",
   "metadata": {},
   "outputs": [],
   "source": [
    "# Two pairs\n",
    "df['value'] = df.apply(lambda row: 3 if len(set(row.hand)) == (len(row.hand) - 2) else row.value, axis=1)"
   ]
  },
  {
   "cell_type": "code",
   "execution_count": 10,
   "id": "25670fe8-2f00-4e90-a1e5-7dd8413d735e",
   "metadata": {},
   "outputs": [],
   "source": [
    "# Three of a kind\n",
    "df['value'] = df.apply(\n",
    "    lambda row: 4 if any([\n",
    "        row.hand.count(element) == 3 for element in importances_cartes.keys()\n",
    "    ]) else row.value, axis=1)"
   ]
  },
  {
   "cell_type": "code",
   "execution_count": 11,
   "id": "9af3f0f0-55a8-40ed-8239-78b7297fa6c5",
   "metadata": {},
   "outputs": [],
   "source": [
    "# Full house\n",
    "df['value'] = df.apply(\n",
    "    lambda row: 5 if any([\n",
    "        (row.hand.count(element) == 3 and len(set(row.hand)) == 2) for element in importances_cartes.keys()\n",
    "    ]) else row.value, axis=1)"
   ]
  },
  {
   "cell_type": "code",
   "execution_count": 12,
   "id": "b4dbafd2-16f6-4b3d-b555-606be54de986",
   "metadata": {},
   "outputs": [],
   "source": [
    "# Four of a kind\n",
    "df['value'] = df.apply(\n",
    "    lambda row: 6 if any([\n",
    "        row.hand.count(element) == 4 for element in importances_cartes.keys()\n",
    "    ]) else row.value, axis=1)"
   ]
  },
  {
   "cell_type": "code",
   "execution_count": 13,
   "id": "35fc4461-8f90-4986-8a5c-774cdf02238c",
   "metadata": {},
   "outputs": [],
   "source": [
    "# Five of a kind\n",
    "df['value'] = df.apply(lambda row: 7 if len(set(row.hand)) == 1 else row.value, axis=1)"
   ]
  },
  {
   "cell_type": "code",
   "execution_count": 14,
   "id": "1bc028ca-3c8b-493d-981b-1568c64f193f",
   "metadata": {},
   "outputs": [
    {
     "data": {
      "text/html": [
       "<div>\n",
       "<style scoped>\n",
       "    .dataframe tbody tr th:only-of-type {\n",
       "        vertical-align: middle;\n",
       "    }\n",
       "\n",
       "    .dataframe tbody tr th {\n",
       "        vertical-align: top;\n",
       "    }\n",
       "\n",
       "    .dataframe thead th {\n",
       "        text-align: right;\n",
       "    }\n",
       "</style>\n",
       "<table border=\"1\" class=\"dataframe\">\n",
       "  <thead>\n",
       "    <tr style=\"text-align: right;\">\n",
       "      <th></th>\n",
       "      <th>hand</th>\n",
       "      <th>bid</th>\n",
       "      <th>departage</th>\n",
       "      <th>value</th>\n",
       "      <th>ranking</th>\n",
       "    </tr>\n",
       "  </thead>\n",
       "  <tbody>\n",
       "    <tr>\n",
       "      <th>0</th>\n",
       "      <td>[2, 3, 9, A, 4]</td>\n",
       "      <td>91</td>\n",
       "      <td>ABHMC</td>\n",
       "      <td>1</td>\n",
       "      <td>1</td>\n",
       "    </tr>\n",
       "    <tr>\n",
       "      <th>1</th>\n",
       "      <td>[2, 4, 3, Q, 8]</td>\n",
       "      <td>127</td>\n",
       "      <td>ACBKG</td>\n",
       "      <td>1</td>\n",
       "      <td>2</td>\n",
       "    </tr>\n",
       "    <tr>\n",
       "      <th>2</th>\n",
       "      <td>[2, 4, A, 8, K]</td>\n",
       "      <td>407</td>\n",
       "      <td>ACMGL</td>\n",
       "      <td>1</td>\n",
       "      <td>3</td>\n",
       "    </tr>\n",
       "    <tr>\n",
       "      <th>3</th>\n",
       "      <td>[2, 6, K, Q, J]</td>\n",
       "      <td>641</td>\n",
       "      <td>AELKJ</td>\n",
       "      <td>1</td>\n",
       "      <td>4</td>\n",
       "    </tr>\n",
       "    <tr>\n",
       "      <th>4</th>\n",
       "      <td>[2, 7, A, 8, 3]</td>\n",
       "      <td>251</td>\n",
       "      <td>AFMGB</td>\n",
       "      <td>1</td>\n",
       "      <td>5</td>\n",
       "    </tr>\n",
       "    <tr>\n",
       "      <th>...</th>\n",
       "      <td>...</td>\n",
       "      <td>...</td>\n",
       "      <td>...</td>\n",
       "      <td>...</td>\n",
       "      <td>...</td>\n",
       "    </tr>\n",
       "    <tr>\n",
       "      <th>995</th>\n",
       "      <td>[A, A, A, 2, A]</td>\n",
       "      <td>709</td>\n",
       "      <td>MMMAM</td>\n",
       "      <td>6</td>\n",
       "      <td>996</td>\n",
       "    </tr>\n",
       "    <tr>\n",
       "      <th>996</th>\n",
       "      <td>[A, A, A, 4, A]</td>\n",
       "      <td>878</td>\n",
       "      <td>MMMCM</td>\n",
       "      <td>6</td>\n",
       "      <td>997</td>\n",
       "    </tr>\n",
       "    <tr>\n",
       "      <th>997</th>\n",
       "      <td>[A, A, A, 5, A]</td>\n",
       "      <td>276</td>\n",
       "      <td>MMMDM</td>\n",
       "      <td>6</td>\n",
       "      <td>998</td>\n",
       "    </tr>\n",
       "    <tr>\n",
       "      <th>998</th>\n",
       "      <td>[A, A, A, A, T]</td>\n",
       "      <td>571</td>\n",
       "      <td>MMMMI</td>\n",
       "      <td>6</td>\n",
       "      <td>999</td>\n",
       "    </tr>\n",
       "    <tr>\n",
       "      <th>999</th>\n",
       "      <td>[J, J, J, J, J]</td>\n",
       "      <td>543</td>\n",
       "      <td>JJJJJ</td>\n",
       "      <td>7</td>\n",
       "      <td>1000</td>\n",
       "    </tr>\n",
       "  </tbody>\n",
       "</table>\n",
       "<p>1000 rows × 5 columns</p>\n",
       "</div>"
      ],
      "text/plain": [
       "                hand  bid departage  value  ranking\n",
       "0    [2, 3, 9, A, 4]   91     ABHMC      1        1\n",
       "1    [2, 4, 3, Q, 8]  127     ACBKG      1        2\n",
       "2    [2, 4, A, 8, K]  407     ACMGL      1        3\n",
       "3    [2, 6, K, Q, J]  641     AELKJ      1        4\n",
       "4    [2, 7, A, 8, 3]  251     AFMGB      1        5\n",
       "..               ...  ...       ...    ...      ...\n",
       "995  [A, A, A, 2, A]  709     MMMAM      6      996\n",
       "996  [A, A, A, 4, A]  878     MMMCM      6      997\n",
       "997  [A, A, A, 5, A]  276     MMMDM      6      998\n",
       "998  [A, A, A, A, T]  571     MMMMI      6      999\n",
       "999  [J, J, J, J, J]  543     JJJJJ      7     1000\n",
       "\n",
       "[1000 rows x 5 columns]"
      ]
     },
     "execution_count": 14,
     "metadata": {},
     "output_type": "execute_result"
    }
   ],
   "source": [
    "df.sort_values(by=[\"value\", \"departage\"], inplace=True)\n",
    "df.reset_index(inplace=True, drop=True)\n",
    "df[\"ranking\"] = df.index + 1\n",
    "df"
   ]
  },
  {
   "cell_type": "code",
   "execution_count": 15,
   "id": "2c5f3edf-d6a7-4e1e-8c99-34bd3d823319",
   "metadata": {},
   "outputs": [
    {
     "data": {
      "text/plain": [
       "250347426"
      ]
     },
     "execution_count": 15,
     "metadata": {},
     "output_type": "execute_result"
    }
   ],
   "source": [
    "sum(df.bid * df.ranking)"
   ]
  },
  {
   "cell_type": "markdown",
   "id": "adf17fc3-0e1f-47b8-9fc9-3b159fb94656",
   "metadata": {},
   "source": [
    "## Part 2"
   ]
  },
  {
   "cell_type": "code",
   "execution_count": 16,
   "id": "45500f04-c3be-4f1e-87c6-77f1e85d447a",
   "metadata": {},
   "outputs": [],
   "source": [
    "new_importances_cartes = {\n",
    "    \"J\": \"A\",\n",
    "    \"2\": \"B\",\n",
    "    \"3\": \"C\",\n",
    "    \"4\": \"D\",\n",
    "    \"5\": \"E\",\n",
    "    \"6\": \"F\",\n",
    "    \"7\": \"G\",\n",
    "    \"8\": \"H\",\n",
    "    \"9\": \"I\",\n",
    "    \"T\": \"J\",\n",
    "    \"Q\": \"K\",\n",
    "    \"K\": \"L\",\n",
    "    \"A\": \"M\"\n",
    "}"
   ]
  },
  {
   "cell_type": "code",
   "execution_count": 17,
   "id": "2da7d71d-d3a2-408c-8e91-2052bb9cb6bd",
   "metadata": {},
   "outputs": [],
   "source": [
    "new_df[\"departage\"] = new_df.hand.apply(lambda hand: \"\".join([new_importances_cartes[x] for x in hand]))"
   ]
  },
  {
   "cell_type": "code",
   "execution_count": 18,
   "id": "05ef17b0-4f84-474e-9bd2-dca6f36e96c6",
   "metadata": {},
   "outputs": [],
   "source": [
    "def replace_joker(hand):  # All possible hands with jokers will be tested out\n",
    "    new_hands = {hand}\n",
    "\n",
    "    for i in range(len(hand)):\n",
    "        blocked_new_hands = new_hands.copy()\n",
    "        for new_hand in blocked_new_hands:\n",
    "            for element in new_importances_cartes.keys():\n",
    "                new_hands.add(new_hand.replace(\"J\", element, 1))\n",
    "\n",
    "    new_hands = [[x for x in new_hand] for new_hand in new_hands]\n",
    "    return new_hands"
   ]
  },
  {
   "cell_type": "code",
   "execution_count": 19,
   "id": "73138b8e-5785-4b08-a6f1-2094a47889cb",
   "metadata": {},
   "outputs": [],
   "source": [
    "new_df[\"hand\"] = new_df.hand.apply(replace_joker)"
   ]
  },
  {
   "cell_type": "code",
   "execution_count": 20,
   "id": "60eb08bc-46f4-427a-a6ad-a7fdd35f7eba",
   "metadata": {},
   "outputs": [],
   "source": [
    "# High card\n",
    "new_df['value'] = new_df['hand'].apply(\n",
    "    lambda hands: 1 if any([len(set(hand)) == len(hand) for hand in hands]) else 0\n",
    ")"
   ]
  },
  {
   "cell_type": "code",
   "execution_count": 21,
   "id": "c7a8b801-274b-435d-b04a-db67b4c8f664",
   "metadata": {},
   "outputs": [],
   "source": [
    "# One pair\n",
    "new_df['value'] = new_df.apply(\n",
    "    lambda row: 2 if any([len(set(hand)) == (len(hand) - 1) for hand in row.hand]) else row.value,\n",
    "    axis=1\n",
    ")"
   ]
  },
  {
   "cell_type": "code",
   "execution_count": 22,
   "id": "6eaa2c26-273e-49ab-8c3e-feb8f0022a29",
   "metadata": {},
   "outputs": [],
   "source": [
    "# Two pairs\n",
    "new_df['value'] = new_df.apply(\n",
    "    lambda row: 3 if any([len(set(hand)) == (len(hand) - 2) for hand in row.hand]) else row.value,\n",
    "    axis=1\n",
    ")"
   ]
  },
  {
   "cell_type": "code",
   "execution_count": 23,
   "id": "892e3400-a167-47ed-a488-5b46cba66a80",
   "metadata": {},
   "outputs": [],
   "source": [
    "# Three of a kind\n",
    "new_df['value'] = new_df.apply(\n",
    "    lambda row: 4 if any(\n",
    "        [hand.count(element) == 3 for element in new_importances_cartes.keys() for hand in row.hand]) else row.value,\n",
    "    axis=1\n",
    ")"
   ]
  },
  {
   "cell_type": "code",
   "execution_count": 24,
   "id": "cea87e4d-88f1-45b4-b9df-a8f6930e0b16",
   "metadata": {},
   "outputs": [],
   "source": [
    "# Full house\n",
    "new_df['value'] = new_df.apply(\n",
    "    lambda row: 5 if any(\n",
    "        [hand.count(element) == 3 and len(set(hand)) == 2 for element in new_importances_cartes.keys() for hand in row.hand]) else row.value,\n",
    "    axis=1\n",
    ")"
   ]
  },
  {
   "cell_type": "code",
   "execution_count": 25,
   "id": "b9794eaa-bc63-415a-a5a5-a2921530865f",
   "metadata": {},
   "outputs": [],
   "source": [
    "# Four of a kind\n",
    "new_df['value'] = new_df.apply(\n",
    "    lambda row: 6 if any(\n",
    "        [hand.count(element) == 4 for element in new_importances_cartes.keys() for hand in row.hand]) else row.value,\n",
    "    axis=1\n",
    ")"
   ]
  },
  {
   "cell_type": "code",
   "execution_count": 26,
   "id": "e9f7410d-310f-4643-92e2-22d4d57ad669",
   "metadata": {},
   "outputs": [],
   "source": [
    "# five of a kind\n",
    "new_df['value'] = new_df.apply(\n",
    "    lambda row: 7 if any(\n",
    "        [len(set(hand)) == 1 for hand in row.hand]) else row.value,\n",
    "    axis=1\n",
    ")"
   ]
  },
  {
   "cell_type": "code",
   "execution_count": 27,
   "id": "058c160d-2179-4c99-b5cc-fbab47c41185",
   "metadata": {},
   "outputs": [
    {
     "data": {
      "text/html": [
       "<div>\n",
       "<style scoped>\n",
       "    .dataframe tbody tr th:only-of-type {\n",
       "        vertical-align: middle;\n",
       "    }\n",
       "\n",
       "    .dataframe tbody tr th {\n",
       "        vertical-align: top;\n",
       "    }\n",
       "\n",
       "    .dataframe thead th {\n",
       "        text-align: right;\n",
       "    }\n",
       "</style>\n",
       "<table border=\"1\" class=\"dataframe\">\n",
       "  <thead>\n",
       "    <tr style=\"text-align: right;\">\n",
       "      <th></th>\n",
       "      <th>hand</th>\n",
       "      <th>bid</th>\n",
       "      <th>departage</th>\n",
       "      <th>value</th>\n",
       "      <th>ranking</th>\n",
       "    </tr>\n",
       "  </thead>\n",
       "  <tbody>\n",
       "    <tr>\n",
       "      <th>0</th>\n",
       "      <td>[[2, 3, 9, A, 4]]</td>\n",
       "      <td>91</td>\n",
       "      <td>BCIMD</td>\n",
       "      <td>1</td>\n",
       "      <td>1</td>\n",
       "    </tr>\n",
       "    <tr>\n",
       "      <th>1</th>\n",
       "      <td>[[2, 4, 3, Q, 8]]</td>\n",
       "      <td>127</td>\n",
       "      <td>BDCKH</td>\n",
       "      <td>1</td>\n",
       "      <td>2</td>\n",
       "    </tr>\n",
       "    <tr>\n",
       "      <th>2</th>\n",
       "      <td>[[2, 4, A, 8, K]]</td>\n",
       "      <td>407</td>\n",
       "      <td>BDMHL</td>\n",
       "      <td>1</td>\n",
       "      <td>3</td>\n",
       "    </tr>\n",
       "    <tr>\n",
       "      <th>3</th>\n",
       "      <td>[[2, 7, A, 8, 3]]</td>\n",
       "      <td>251</td>\n",
       "      <td>BGMHC</td>\n",
       "      <td>1</td>\n",
       "      <td>4</td>\n",
       "    </tr>\n",
       "    <tr>\n",
       "      <th>4</th>\n",
       "      <td>[[2, 9, A, 8, 4]]</td>\n",
       "      <td>562</td>\n",
       "      <td>BIMHD</td>\n",
       "      <td>1</td>\n",
       "      <td>5</td>\n",
       "    </tr>\n",
       "    <tr>\n",
       "      <th>...</th>\n",
       "      <td>...</td>\n",
       "      <td>...</td>\n",
       "      <td>...</td>\n",
       "      <td>...</td>\n",
       "      <td>...</td>\n",
       "    </tr>\n",
       "    <tr>\n",
       "      <th>995</th>\n",
       "      <td>[[T, 2, T, T, T], [T, 4, T, T, T], [T, J, T, T...</td>\n",
       "      <td>672</td>\n",
       "      <td>JAJJJ</td>\n",
       "      <td>7</td>\n",
       "      <td>996</td>\n",
       "    </tr>\n",
       "    <tr>\n",
       "      <th>996</th>\n",
       "      <td>[[Q, J, Q, Q, Q], [Q, 7, Q, Q, Q], [Q, T, Q, Q...</td>\n",
       "      <td>804</td>\n",
       "      <td>KAKKK</td>\n",
       "      <td>7</td>\n",
       "      <td>997</td>\n",
       "    </tr>\n",
       "    <tr>\n",
       "      <th>997</th>\n",
       "      <td>[[Q, Q, Q, 4, 3], [Q, Q, Q, 5, T], [Q, Q, Q, 2...</td>\n",
       "      <td>795</td>\n",
       "      <td>KKKAA</td>\n",
       "      <td>7</td>\n",
       "      <td>998</td>\n",
       "    </tr>\n",
       "    <tr>\n",
       "      <th>998</th>\n",
       "      <td>[[K, Q, J, K, K], [K, 5, 8, K, K], [K, K, 9, K...</td>\n",
       "      <td>768</td>\n",
       "      <td>LAALL</td>\n",
       "      <td>7</td>\n",
       "      <td>999</td>\n",
       "    </tr>\n",
       "    <tr>\n",
       "      <th>999</th>\n",
       "      <td>[[A, 7, A, A, A], [A, J, A, A, A], [A, 8, A, A...</td>\n",
       "      <td>924</td>\n",
       "      <td>MAMMM</td>\n",
       "      <td>7</td>\n",
       "      <td>1000</td>\n",
       "    </tr>\n",
       "  </tbody>\n",
       "</table>\n",
       "<p>1000 rows × 5 columns</p>\n",
       "</div>"
      ],
      "text/plain": [
       "                                                  hand  bid departage  value  \\\n",
       "0                                    [[2, 3, 9, A, 4]]   91     BCIMD      1   \n",
       "1                                    [[2, 4, 3, Q, 8]]  127     BDCKH      1   \n",
       "2                                    [[2, 4, A, 8, K]]  407     BDMHL      1   \n",
       "3                                    [[2, 7, A, 8, 3]]  251     BGMHC      1   \n",
       "4                                    [[2, 9, A, 8, 4]]  562     BIMHD      1   \n",
       "..                                                 ...  ...       ...    ...   \n",
       "995  [[T, 2, T, T, T], [T, 4, T, T, T], [T, J, T, T...  672     JAJJJ      7   \n",
       "996  [[Q, J, Q, Q, Q], [Q, 7, Q, Q, Q], [Q, T, Q, Q...  804     KAKKK      7   \n",
       "997  [[Q, Q, Q, 4, 3], [Q, Q, Q, 5, T], [Q, Q, Q, 2...  795     KKKAA      7   \n",
       "998  [[K, Q, J, K, K], [K, 5, 8, K, K], [K, K, 9, K...  768     LAALL      7   \n",
       "999  [[A, 7, A, A, A], [A, J, A, A, A], [A, 8, A, A...  924     MAMMM      7   \n",
       "\n",
       "     ranking  \n",
       "0          1  \n",
       "1          2  \n",
       "2          3  \n",
       "3          4  \n",
       "4          5  \n",
       "..       ...  \n",
       "995      996  \n",
       "996      997  \n",
       "997      998  \n",
       "998      999  \n",
       "999     1000  \n",
       "\n",
       "[1000 rows x 5 columns]"
      ]
     },
     "execution_count": 27,
     "metadata": {},
     "output_type": "execute_result"
    }
   ],
   "source": [
    "new_df.sort_values(by=[\"value\", \"departage\"], inplace=True)\n",
    "new_df.reset_index(inplace=True, drop=True)\n",
    "new_df[\"ranking\"] = df.index + 1\n",
    "new_df"
   ]
  },
  {
   "cell_type": "code",
   "execution_count": 28,
   "id": "878b760e-c097-4cb6-8504-4ae2c67b441b",
   "metadata": {},
   "outputs": [
    {
     "data": {
      "text/plain": [
       "251224870"
      ]
     },
     "execution_count": 28,
     "metadata": {},
     "output_type": "execute_result"
    }
   ],
   "source": [
    "sum(new_df.bid * new_df.ranking)"
   ]
  },
  {
   "cell_type": "code",
   "execution_count": null,
   "id": "72c1918e-c788-4cfd-a443-4a5692ba581b",
   "metadata": {},
   "outputs": [],
   "source": []
  }
 ],
 "metadata": {
  "kernelspec": {
   "display_name": "Python 3 (ipykernel)",
   "language": "python",
   "name": "python3"
  },
  "language_info": {
   "codemirror_mode": {
    "name": "ipython",
    "version": 3
   },
   "file_extension": ".py",
   "mimetype": "text/x-python",
   "name": "python",
   "nbconvert_exporter": "python",
   "pygments_lexer": "ipython3",
   "version": "3.10.13"
  }
 },
 "nbformat": 4,
 "nbformat_minor": 5
}
