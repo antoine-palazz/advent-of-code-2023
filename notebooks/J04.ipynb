{
 "cells": [
  {
   "cell_type": "markdown",
   "id": "d8887587-468b-4b5b-8d93-eaeb3e388340",
   "metadata": {},
   "source": [
    "## Imports"
   ]
  },
  {
   "cell_type": "code",
   "execution_count": 1,
   "id": "4fa93e8c-4cd1-4615-8c4f-e6d0f9996baa",
   "metadata": {},
   "outputs": [],
   "source": [
    "import pandas as pd"
   ]
  },
  {
   "cell_type": "code",
   "execution_count": 2,
   "id": "6f328680-ad5f-482f-b98e-cb8c74fd0dc7",
   "metadata": {},
   "outputs": [],
   "source": [
    "day = \"04\""
   ]
  },
  {
   "cell_type": "code",
   "execution_count": 3,
   "id": "88c993ab-1c5d-4b47-8a2f-34cfb1190894",
   "metadata": {},
   "outputs": [
    {
     "name": "stderr",
     "output_type": "stream",
     "text": [
      "/tmp/ipykernel_4666/3742839049.py:1: ParserWarning: Falling back to the 'python' engine because the 'c' engine does not support regex separators (separators > 1 char and different from '\\s+' are interpreted as regex); you can avoid this warning by specifying engine='python'.\n",
      "  df_cards = pd.read_csv(f\"input_j{day}.txt\", header=None, sep=\": \")\n"
     ]
    },
    {
     "data": {
      "text/plain": [
       "201"
      ]
     },
     "execution_count": 3,
     "metadata": {},
     "output_type": "execute_result"
    }
   ],
   "source": [
    "df_cards = pd.read_csv(f\"input_j{day}.txt\", header=None, sep=\": \")\n",
    "cards = list(df_cards[1])\n",
    "\n",
    "nb_cards = len(cards)\n",
    "nb_cards"
   ]
  },
  {
   "cell_type": "markdown",
   "id": "6fd1928e-1d24-4542-ab41-288f42559c3a",
   "metadata": {},
   "source": [
    "## Part 1"
   ]
  },
  {
   "cell_type": "code",
   "execution_count": 4,
   "id": "b461a0a8-691f-45fe-bb21-35cd268b026e",
   "metadata": {},
   "outputs": [],
   "source": [
    "compteur = 0\n",
    "\n",
    "for card in cards:\n",
    "    loto_numbers = set([x for x in card.split(\" | \")[0].split(\" \") if x != ''])\n",
    "    my_numbers = set([x for x in card.split(\" | \")[1].split(\" \") if x != ''])\n",
    "    nb_winning_numbers = len(loto_numbers.intersection(my_numbers))\n",
    "    if nb_winning_numbers > 0:\n",
    "        compteur += 2**(nb_winning_numbers-1)"
   ]
  },
  {
   "cell_type": "code",
   "execution_count": 5,
   "id": "a38aea78-1503-45fd-8ba0-c7b8229e38eb",
   "metadata": {},
   "outputs": [
    {
     "data": {
      "text/plain": [
       "20855"
      ]
     },
     "execution_count": 5,
     "metadata": {},
     "output_type": "execute_result"
    }
   ],
   "source": [
    "compteur"
   ]
  },
  {
   "cell_type": "markdown",
   "id": "f8c2e3d5-85bd-4edd-b26e-5a68079c1750",
   "metadata": {},
   "source": [
    "# Part 2"
   ]
  },
  {
   "cell_type": "code",
   "execution_count": 6,
   "id": "376ed53c-f8e3-491c-8a7d-c307caa23742",
   "metadata": {},
   "outputs": [
    {
     "data": {
      "text/plain": [
       "5489600"
      ]
     },
     "execution_count": 6,
     "metadata": {},
     "output_type": "execute_result"
    }
   ],
   "source": [
    "list_matching = []\n",
    "\n",
    "for card in cards:\n",
    "    loto_numbers = set([x for x in card.split(\" | \")[0].split(\" \") if x != ''])\n",
    "    my_numbers = set([x for x in card.split(\" | \")[1].split(\" \") if x != ''])\n",
    "    nb_winning_numbers = len(loto_numbers.intersection(my_numbers))\n",
    "    list_matching.append([1, nb_winning_numbers])\n",
    "\n",
    "for i in range(nb_cards):\n",
    "    for j in range(list_matching[i][1]):\n",
    "        list_matching[i+j+1][0] += list_matching[i][0]\n",
    "\n",
    "sum([x[0] for x in list_matching])"
   ]
  },
  {
   "cell_type": "code",
   "execution_count": null,
   "id": "cd676810-a25c-44e5-856b-13949c1afad6",
   "metadata": {},
   "outputs": [],
   "source": []
  }
 ],
 "metadata": {
  "kernelspec": {
   "display_name": "Python 3 (ipykernel)",
   "language": "python",
   "name": "python3"
  },
  "language_info": {
   "codemirror_mode": {
    "name": "ipython",
    "version": 3
   },
   "file_extension": ".py",
   "mimetype": "text/x-python",
   "name": "python",
   "nbconvert_exporter": "python",
   "pygments_lexer": "ipython3",
   "version": "3.10.13"
  }
 },
 "nbformat": 4,
 "nbformat_minor": 5
}
