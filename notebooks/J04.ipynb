{
 "cells": [
  {
   "cell_type": "markdown",
   "id": "6fd1928e-1d24-4542-ab41-288f42559c3a",
   "metadata": {},
   "source": [
    "# Part 1"
   ]
  },
  {
   "cell_type": "code",
   "execution_count": 1,
   "id": "a8d149a7-0a04-4a61-8ab5-eb6bd59a93ad",
   "metadata": {},
   "outputs": [],
   "source": [
    "import pandas as pd"
   ]
  },
  {
   "cell_type": "code",
   "execution_count": 4,
   "id": "87ef6394-ef5a-49f4-b7ea-23ca071ba765",
   "metadata": {},
   "outputs": [
    {
     "name": "stderr",
     "output_type": "stream",
     "text": [
      "/tmp/ipykernel_3390/3383215957.py:1: ParserWarning: Falling back to the 'python' engine because the 'c' engine does not support regex separators (separators > 1 char and different from '\\s+' are interpreted as regex); you can avoid this warning by specifying engine='python'.\n",
      "  df_cards = pd.read_csv(\"input_j04.txt\", header=None, sep=\": \")\n"
     ]
    },
    {
     "data": {
      "text/plain": [
       "201"
      ]
     },
     "execution_count": 4,
     "metadata": {},
     "output_type": "execute_result"
    }
   ],
   "source": [
    "df_cards = pd.read_csv(\"input_j04.txt\", header=None, sep=\": \")\n",
    "cards = list(df_cards[1])\n",
    "nb_cards = len(cards)\n",
    "nb_cards"
   ]
  },
  {
   "cell_type": "code",
   "execution_count": 16,
   "id": "b461a0a8-691f-45fe-bb21-35cd268b026e",
   "metadata": {},
   "outputs": [],
   "source": [
    "compteur = 0\n",
    "for card in cards:\n",
    "    loto_numbers = set([x for x in card.split(\" | \")[0].split(\" \") if x != ''])\n",
    "    my_numbers = set([x for x in card.split(\" | \")[1].split(\" \") if x != ''])\n",
    "    nb_winning_numbers = len(loto_numbers.intersection(my_numbers))\n",
    "    if nb_winning_numbers > 0:\n",
    "        compteur += 2**(nb_winning_numbers-1)"
   ]
  },
  {
   "cell_type": "code",
   "execution_count": 17,
   "id": "a38aea78-1503-45fd-8ba0-c7b8229e38eb",
   "metadata": {},
   "outputs": [
    {
     "data": {
      "text/plain": [
       "20855"
      ]
     },
     "execution_count": 17,
     "metadata": {},
     "output_type": "execute_result"
    }
   ],
   "source": [
    "compteur"
   ]
  },
  {
   "cell_type": "markdown",
   "id": "f8c2e3d5-85bd-4edd-b26e-5a68079c1750",
   "metadata": {},
   "source": [
    "# Part 2"
   ]
  },
  {
   "cell_type": "code",
   "execution_count": 23,
   "id": "376ed53c-f8e3-491c-8a7d-c307caa23742",
   "metadata": {},
   "outputs": [],
   "source": [
    "list_matching = []\n",
    "for card in cards:\n",
    "    loto_numbers = set([x for x in card.split(\" | \")[0].split(\" \") if x != ''])\n",
    "    my_numbers = set([x for x in card.split(\" | \")[1].split(\" \") if x != ''])\n",
    "    nb_winning_numbers = len(loto_numbers.intersection(my_numbers))\n",
    "    list_matching.append([1, nb_winning_numbers])"
   ]
  },
  {
   "cell_type": "code",
   "execution_count": 24,
   "id": "58ddcb21-1969-4a57-86ae-2f24df42886a",
   "metadata": {},
   "outputs": [
    {
     "data": {
      "text/plain": [
       "5489600"
      ]
     },
     "execution_count": 24,
     "metadata": {},
     "output_type": "execute_result"
    }
   ],
   "source": [
    "for i in range(nb_cards):\n",
    "    for j in range(list_matching[i][1]):\n",
    "        list_matching[i+j+1][0] += list_matching[i][0]\n",
    "\n",
    "sum([x[0] for x in list_matching])"
   ]
  },
  {
   "cell_type": "code",
   "execution_count": null,
   "id": "cd676810-a25c-44e5-856b-13949c1afad6",
   "metadata": {},
   "outputs": [],
   "source": []
  }
 ],
 "metadata": {
  "kernelspec": {
   "display_name": "Python 3 (ipykernel)",
   "language": "python",
   "name": "python3"
  },
  "language_info": {
   "codemirror_mode": {
    "name": "ipython",
    "version": 3
   },
   "file_extension": ".py",
   "mimetype": "text/x-python",
   "name": "python",
   "nbconvert_exporter": "python",
   "pygments_lexer": "ipython3",
   "version": "3.10.13"
  }
 },
 "nbformat": 4,
 "nbformat_minor": 5
}
