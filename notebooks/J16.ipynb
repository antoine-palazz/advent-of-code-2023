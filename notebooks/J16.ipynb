{
 "cells": [
  {
   "cell_type": "markdown",
   "id": "0d13e75d-1c38-42cd-8975-84ae4321ed89",
   "metadata": {},
   "source": [
    "## Imports"
   ]
  },
  {
   "cell_type": "code",
   "execution_count": 1,
   "id": "2a83a00f-8c50-442c-8931-0e0c584b8c7f",
   "metadata": {},
   "outputs": [],
   "source": [
    "from tqdm import tqdm"
   ]
  },
  {
   "cell_type": "code",
   "execution_count": 2,
   "id": "50b01151-9952-42b9-9534-b9d91a6d9ef4",
   "metadata": {},
   "outputs": [],
   "source": [
    "day = \"16\""
   ]
  },
  {
   "cell_type": "code",
   "execution_count": 3,
   "id": "ff5966ba-d055-4c6b-bed2-f46b0b308ba9",
   "metadata": {},
   "outputs": [
    {
     "name": "stdout",
     "output_type": "stream",
     "text": [
      "110 110\n"
     ]
    }
   ],
   "source": [
    "with open(f\"input_j{day}.txt\") as f:\n",
    "    cave = f.readlines()\n",
    "    cave = list(map(lambda x: x.replace(\"\\n\", \"\"), cave))\n",
    "    cave = list(map(lambda x: [case for case in x], cave))\n",
    "\n",
    "n, m = len(cave), len(cave[0])\n",
    "print(n, m)"
   ]
  },
  {
   "cell_type": "markdown",
   "id": "6fd1928e-1d24-4542-ab41-288f42559c3a",
   "metadata": {},
   "source": [
    "## Part 1"
   ]
  },
  {
   "cell_type": "code",
   "execution_count": 4,
   "id": "869c5e82-0cab-4eb2-b511-c67257ff4703",
   "metadata": {},
   "outputs": [],
   "source": [
    "energized_tiles = [[False for j in range(n)] for i in range(n)]\n",
    "triplets_passes = set()"
   ]
  },
  {
   "cell_type": "code",
   "execution_count": 5,
   "id": "75628c55-4f14-438d-af57-2ec7c5b55f45",
   "metadata": {},
   "outputs": [],
   "source": [
    "def next_case_if_empty(x, y, direction):\n",
    "    if direction == 'd' and x < n-1:\n",
    "        return x+1, y, direction\n",
    "    if direction == 'u' and x > 0:\n",
    "        return x-1, y, direction\n",
    "    if direction == 'r' and y < n-1:\n",
    "        return x, y+1, direction\n",
    "    if direction == 'l' and y > 0:\n",
    "        return x, y-1, direction\n",
    "    return False"
   ]
  },
  {
   "cell_type": "code",
   "execution_count": 6,
   "id": "37b62b52-ea09-4267-82f3-0d3e356ae386",
   "metadata": {},
   "outputs": [],
   "source": [
    "def next_case_if_mirror(x, y, direction):\n",
    "    if direction == 'r' and cave[x][y] == \"/\":\n",
    "        return next_case_if_empty(x, y, \"u\")\n",
    "    if direction == 'r' and cave[x][y] == \"\\\\\":\n",
    "        return next_case_if_empty(x, y, \"d\")\n",
    "    if direction == 'l' and cave[x][y] == \"/\":\n",
    "        return next_case_if_empty(x, y, \"d\")\n",
    "    if direction == 'l' and cave[x][y] == \"\\\\\":\n",
    "        return next_case_if_empty(x, y, \"u\")\n",
    "    if direction == 'd' and cave[x][y] == \"/\":\n",
    "        return next_case_if_empty(x, y, \"l\")\n",
    "    if direction == 'd' and cave[x][y] == \"\\\\\":\n",
    "        return next_case_if_empty(x, y, \"r\")\n",
    "    if direction == 'u' and cave[x][y] == \"/\":\n",
    "        return next_case_if_empty(x, y, \"r\")\n",
    "    if direction == 'u' and cave[x][y] == \"\\\\\":\n",
    "        return next_case_if_empty(x, y, \"l\")\n",
    "    return False"
   ]
  },
  {
   "cell_type": "code",
   "execution_count": 7,
   "id": "eea272e0-4edc-44f9-bb52-ae28e045eb93",
   "metadata": {},
   "outputs": [],
   "source": [
    "def next_cases_if_splitter(x, y, direction):\n",
    "    if direction in ['l', 'r'] and cave[x][y] == \"-\":\n",
    "        return [next_case_if_empty(x, y, direction)]\n",
    "    if direction in ['u', 'd'] and cave[x][y] == \"|\":\n",
    "        return [next_case_if_empty(x, y, direction)]\n",
    "    if direction in ['l', 'r'] and cave[x][y] == \"|\":\n",
    "        return [next_case_if_empty(x, y, 'u'), next_case_if_empty(x, y, 'd')]\n",
    "    if direction in ['u', 'd'] and cave[x][y] == \"-\":\n",
    "        return [next_case_if_empty(x, y, 'l'), next_case_if_empty(x, y, 'r')]\n",
    "    return False"
   ]
  },
  {
   "cell_type": "code",
   "execution_count": 8,
   "id": "612761e7-b84d-4df3-a638-293459fc9851",
   "metadata": {},
   "outputs": [],
   "source": [
    "def rayon(x, y, direction):\n",
    "    if (x, y, direction) not in triplets_passes:\n",
    "        energized_tiles[x][y] = True\n",
    "        triplets_passes.add((x, y, direction))\n",
    "        if cave[x][y] == \".\" and next_case_if_empty(x, y, direction):\n",
    "            new_x, new_y, new_direction = next_case_if_empty(x, y, direction)\n",
    "            rayon(new_x, new_y, new_direction)\n",
    "        if cave[x][y] in [\"/\", \"\\\\\"] and next_case_if_mirror(x, y, direction):\n",
    "            new_x, new_y, new_direction = next_case_if_mirror(x, y, direction)\n",
    "            rayon(new_x, new_y, new_direction)\n",
    "        if cave[x][y] in [\"-\", \"|\"] and next_cases_if_splitter(x, y, direction): \n",
    "            for triplet in next_cases_if_splitter(x, y, direction):\n",
    "                if triplet:\n",
    "                    rayon(triplet[0], triplet[1], triplet[2])"
   ]
  },
  {
   "cell_type": "code",
   "execution_count": 9,
   "id": "1534cc9f-f0e0-4628-9be1-085d8d335555",
   "metadata": {},
   "outputs": [],
   "source": [
    "rayon(0, 0, 'r')"
   ]
  },
  {
   "cell_type": "code",
   "execution_count": 10,
   "id": "c8b01130-82a1-42b0-a40a-7a018d917d15",
   "metadata": {},
   "outputs": [
    {
     "data": {
      "text/plain": [
       "6795"
      ]
     },
     "execution_count": 10,
     "metadata": {},
     "output_type": "execute_result"
    }
   ],
   "source": [
    "sum([sum(row) for row in energized_tiles])"
   ]
  },
  {
   "cell_type": "markdown",
   "id": "c7d2d518-4d04-4876-b6c2-b326c657e935",
   "metadata": {},
   "source": [
    "## Part 2"
   ]
  },
  {
   "cell_type": "code",
   "execution_count": 11,
   "id": "57609da3-df92-4226-ab50-722d59123063",
   "metadata": {},
   "outputs": [
    {
     "name": "stderr",
     "output_type": "stream",
     "text": [
      "100%|██████████| 880/880 [00:03<00:00, 227.29it/s]\n"
     ]
    }
   ],
   "source": [
    "max_sum = 0\n",
    "\n",
    "directions = ['r', 'l', 'u', 'd']\n",
    "starts_to_try = [(i, 0, dir) for i in range(n) for dir in directions] + [(0, i, dir) for i in range(n) for dir in directions]\n",
    "for start_x, start_y, direction in tqdm(starts_to_try):\n",
    "    energized_tiles = [[False for j in range(n)] for i in range(n)]\n",
    "    triplets_passes = set()\n",
    "    rayon(start_x, start_y, direction)\n",
    "    somme = sum([sum(row) for row in energized_tiles])\n",
    "    if somme > max_sum:\n",
    "        max_sum = somme"
   ]
  },
  {
   "cell_type": "code",
   "execution_count": 12,
   "id": "b67cce53-65d4-49f6-997e-66365609d109",
   "metadata": {},
   "outputs": [
    {
     "data": {
      "text/plain": [
       "7154"
      ]
     },
     "execution_count": 12,
     "metadata": {},
     "output_type": "execute_result"
    }
   ],
   "source": [
    "max_sum"
   ]
  },
  {
   "cell_type": "code",
   "execution_count": null,
   "id": "1be854f8-09e5-47c2-a1cf-52a6681e907b",
   "metadata": {},
   "outputs": [],
   "source": []
  }
 ],
 "metadata": {
  "kernelspec": {
   "display_name": "Python 3 (ipykernel)",
   "language": "python",
   "name": "python3"
  },
  "language_info": {
   "codemirror_mode": {
    "name": "ipython",
    "version": 3
   },
   "file_extension": ".py",
   "mimetype": "text/x-python",
   "name": "python",
   "nbconvert_exporter": "python",
   "pygments_lexer": "ipython3",
   "version": "3.10.13"
  }
 },
 "nbformat": 4,
 "nbformat_minor": 5
}
