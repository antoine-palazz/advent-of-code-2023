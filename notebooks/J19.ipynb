{
 "cells": [
  {
   "cell_type": "markdown",
   "id": "0d13e75d-1c38-42cd-8975-84ae4321ed89",
   "metadata": {},
   "source": [
    "## Imports"
   ]
  },
  {
   "cell_type": "code",
   "execution_count": 1,
   "id": "47097264-aad8-4e65-b4dc-0f31b5756535",
   "metadata": {},
   "outputs": [],
   "source": [
    "import pandas as pd\n",
    "import sys\n",
    "\n",
    "from copy import deepcopy\n",
    "from tqdm import tqdm"
   ]
  },
  {
   "cell_type": "code",
   "execution_count": 2,
   "id": "7c05a4d6-8075-47da-8a72-7933a62624ca",
   "metadata": {},
   "outputs": [],
   "source": [
    "sys.setrecursionlimit(10**4)"
   ]
  },
  {
   "cell_type": "code",
   "execution_count": 3,
   "id": "50b01151-9952-42b9-9534-b9d91a6d9ef4",
   "metadata": {},
   "outputs": [],
   "source": [
    "day = \"19\""
   ]
  },
  {
   "cell_type": "code",
   "execution_count": 4,
   "id": "ff5966ba-d055-4c6b-bed2-f46b0b308ba9",
   "metadata": {},
   "outputs": [],
   "source": [
    "# with open(f\"input_j{day}.txt\") as f:\n",
    "with open(\"test.txt\") as f:\n",
    "    donnees = f.readlines()\n",
    "    donnees = list(map(lambda x: x.replace(\"\\n\", \"\"), donnees))\n",
    "\n",
    "n = len(donnees)"
   ]
  },
  {
   "cell_type": "markdown",
   "id": "6fd1928e-1d24-4542-ab41-288f42559c3a",
   "metadata": {},
   "source": [
    "## Part 1"
   ]
  },
  {
   "cell_type": "code",
   "execution_count": 5,
   "id": "d37feced-0b7e-46cd-a34b-8fb69b970d4a",
   "metadata": {},
   "outputs": [
    {
     "data": {
      "text/plain": [
       "11"
      ]
     },
     "execution_count": 5,
     "metadata": {},
     "output_type": "execute_result"
    }
   ],
   "source": [
    "workflows = {}\n",
    "\n",
    "i = 0\n",
    "while donnees[i] != '':\n",
    "    titre = donnees[i].split('{')[0]\n",
    "    workflow = donnees[i].split('{')[1][:-1].split(',')\n",
    "    for k in range(len(workflow)):\n",
    "        if ':' in workflow[k]:\n",
    "            workflow[k] = [workflow[k][0], workflow[k][1], int(workflow[k].split(\":\")[0][2:]), workflow[k].split(\":\")[1]]\n",
    "        else:\n",
    "            workflow[k] = [workflow[k]]\n",
    "    workflows[titre] = workflow\n",
    "    i += 1\n",
    "\n",
    "i += 1\n",
    "\n",
    "len(workflows)"
   ]
  },
  {
   "cell_type": "code",
   "execution_count": 6,
   "id": "0d7b551b-a8b1-43b7-a885-4bbb3b7d639b",
   "metadata": {},
   "outputs": [
    {
     "data": {
      "text/plain": [
       "[['s', '<', 1351, 'px'], ['qqz']]"
      ]
     },
     "execution_count": 6,
     "metadata": {},
     "output_type": "execute_result"
    }
   ],
   "source": [
    "workflows['in']"
   ]
  },
  {
   "cell_type": "code",
   "execution_count": 7,
   "id": "612761e7-b84d-4df3-a638-293459fc9851",
   "metadata": {},
   "outputs": [],
   "source": [
    "ratings = pd.DataFrame(columns=['x', 'm', 'a', 's'])\n",
    "\n",
    "while i < n:\n",
    "    ratings.loc[len(ratings)] = [int(number.split(\"=\")[1]) for number in donnees[i][1:-1].split(\",\")]\n",
    "    i += 1\n",
    "\n",
    "nb_ratings = len(ratings)"
   ]
  },
  {
   "cell_type": "code",
   "execution_count": 8,
   "id": "5a2cffad-6cc6-4c8c-8959-466c75eff169",
   "metadata": {},
   "outputs": [
    {
     "data": {
      "text/html": [
       "<div>\n",
       "<style scoped>\n",
       "    .dataframe tbody tr th:only-of-type {\n",
       "        vertical-align: middle;\n",
       "    }\n",
       "\n",
       "    .dataframe tbody tr th {\n",
       "        vertical-align: top;\n",
       "    }\n",
       "\n",
       "    .dataframe thead th {\n",
       "        text-align: right;\n",
       "    }\n",
       "</style>\n",
       "<table border=\"1\" class=\"dataframe\">\n",
       "  <thead>\n",
       "    <tr style=\"text-align: right;\">\n",
       "      <th></th>\n",
       "      <th>x</th>\n",
       "      <th>m</th>\n",
       "      <th>a</th>\n",
       "      <th>s</th>\n",
       "    </tr>\n",
       "  </thead>\n",
       "  <tbody>\n",
       "    <tr>\n",
       "      <th>0</th>\n",
       "      <td>787</td>\n",
       "      <td>2655</td>\n",
       "      <td>1222</td>\n",
       "      <td>2876</td>\n",
       "    </tr>\n",
       "    <tr>\n",
       "      <th>1</th>\n",
       "      <td>1679</td>\n",
       "      <td>44</td>\n",
       "      <td>2067</td>\n",
       "      <td>496</td>\n",
       "    </tr>\n",
       "  </tbody>\n",
       "</table>\n",
       "</div>"
      ],
      "text/plain": [
       "      x     m     a     s\n",
       "0   787  2655  1222  2876\n",
       "1  1679    44  2067   496"
      ]
     },
     "execution_count": 8,
     "metadata": {},
     "output_type": "execute_result"
    }
   ],
   "source": [
    "ratings.head(2)"
   ]
  },
  {
   "cell_type": "code",
   "execution_count": 9,
   "id": "a68db69e-8d22-4420-a003-60df79fc07a0",
   "metadata": {},
   "outputs": [],
   "source": [
    "def is_accepted(row, workflow_name='in'):\n",
    "    workflow = workflows[workflow_name]\n",
    "    k = 0\n",
    "    while len(workflow[k]) != 1:\n",
    "        if workflow[k][1] == \"<\" and row[workflow[k][0]] < workflow[k][2]:\n",
    "            break\n",
    "        if workflow[k][1] == \">\" and row[workflow[k][0]] > workflow[k][2]:\n",
    "            break\n",
    "        k += 1\n",
    "    if workflow[k][-1] in [\"A\", \"R\"]:\n",
    "        return workflow[k][-1]\n",
    "    return is_accepted(row, workflow[k][-1])\n"
   ]
  },
  {
   "cell_type": "code",
   "execution_count": 10,
   "id": "443e19d5-98af-43b7-b821-0d36d4e9c43c",
   "metadata": {},
   "outputs": [],
   "source": [
    "ratings[\"accepted\"] = ratings.apply(is_accepted, axis=1)"
   ]
  },
  {
   "cell_type": "code",
   "execution_count": 11,
   "id": "71956d70-7a05-4263-8391-51432c8655d3",
   "metadata": {},
   "outputs": [
    {
     "data": {
      "text/html": [
       "<div>\n",
       "<style scoped>\n",
       "    .dataframe tbody tr th:only-of-type {\n",
       "        vertical-align: middle;\n",
       "    }\n",
       "\n",
       "    .dataframe tbody tr th {\n",
       "        vertical-align: top;\n",
       "    }\n",
       "\n",
       "    .dataframe thead th {\n",
       "        text-align: right;\n",
       "    }\n",
       "</style>\n",
       "<table border=\"1\" class=\"dataframe\">\n",
       "  <thead>\n",
       "    <tr style=\"text-align: right;\">\n",
       "      <th></th>\n",
       "      <th>x</th>\n",
       "      <th>m</th>\n",
       "      <th>a</th>\n",
       "      <th>s</th>\n",
       "      <th>accepted</th>\n",
       "    </tr>\n",
       "  </thead>\n",
       "  <tbody>\n",
       "    <tr>\n",
       "      <th>0</th>\n",
       "      <td>787</td>\n",
       "      <td>2655</td>\n",
       "      <td>1222</td>\n",
       "      <td>2876</td>\n",
       "      <td>A</td>\n",
       "    </tr>\n",
       "    <tr>\n",
       "      <th>1</th>\n",
       "      <td>1679</td>\n",
       "      <td>44</td>\n",
       "      <td>2067</td>\n",
       "      <td>496</td>\n",
       "      <td>R</td>\n",
       "    </tr>\n",
       "  </tbody>\n",
       "</table>\n",
       "</div>"
      ],
      "text/plain": [
       "      x     m     a     s accepted\n",
       "0   787  2655  1222  2876        A\n",
       "1  1679    44  2067   496        R"
      ]
     },
     "execution_count": 11,
     "metadata": {},
     "output_type": "execute_result"
    }
   ],
   "source": [
    "ratings.head(2)"
   ]
  },
  {
   "cell_type": "code",
   "execution_count": 12,
   "id": "20be2e0b-76d4-493f-88de-9cda0b62faa3",
   "metadata": {},
   "outputs": [
    {
     "data": {
      "text/plain": [
       "19114"
      ]
     },
     "execution_count": 12,
     "metadata": {},
     "output_type": "execute_result"
    }
   ],
   "source": [
    "accepted_ratings = ratings[ratings[\"accepted\"] == \"A\"][['x', 'm', 'a', 's']]\n",
    "accepted_ratings.sum(axis=1).sum()"
   ]
  },
  {
   "cell_type": "markdown",
   "id": "db9f205e-7d87-4ca6-8ee4-7c0d64dab921",
   "metadata": {},
   "source": [
    "## Part 2"
   ]
  },
  {
   "cell_type": "code",
   "execution_count": 13,
   "id": "15e3b8bc-9b6f-45ec-855b-4b3b8e4eb1b3",
   "metadata": {},
   "outputs": [],
   "source": [
    "min_accepted = 1\n",
    "max_accepted = 4000"
   ]
  },
  {
   "cell_type": "markdown",
   "id": "c38d3489-b4ab-4243-80b6-d0585796ec10",
   "metadata": {
    "jp-MarkdownHeadingCollapsed": true
   },
   "source": [
    "### Infructueux"
   ]
  },
  {
   "cell_type": "code",
   "execution_count": 14,
   "id": "b681018a-f9c3-4081-96a8-3ef6d7f22bab",
   "metadata": {},
   "outputs": [
    {
     "name": "stdout",
     "output_type": "stream",
     "text": [
      "8\n",
      "10\n",
      "8\n",
      "10\n"
     ]
    }
   ],
   "source": [
    "bords = {\n",
    "    'x': [min_accepted, max_accepted],\n",
    "    'm': [min_accepted, max_accepted],\n",
    "    'a': [min_accepted, max_accepted],\n",
    "    's': [min_accepted, max_accepted]\n",
    "}\n",
    "\n",
    "for workflow in workflows.values():\n",
    "    for condition in workflow:\n",
    "        if len(condition) > 1:\n",
    "            nombre = int(condition[2])\n",
    "            if condition[1] == \"<\":\n",
    "                bords[condition[0]].extend([nombre-1, nombre])\n",
    "            if condition[1] == \">\":\n",
    "                bords[condition[0]].extend([nombre, nombre+1])\n",
    "\n",
    "for key in bords.keys():\n",
    "    bords[key].sort()\n",
    "    print(len(bords[key]))\n",
    "    "
   ]
  },
  {
   "cell_type": "code",
   "execution_count": 15,
   "id": "ccc02594-b993-49be-8bd1-68ab26d2aeb7",
   "metadata": {},
   "outputs": [
    {
     "data": {
      "text/plain": [
       "\"\\nnew_ratings = pd.DataFrame(columns=['x', 'm', 'a', 's'])\\nfor x in tqdm(range(len(bords['x'])-1)):\\n    for m in range(len(bords['m'])-1):\\n        for a in range(len(bords['a'])-1):\\n            for s in range(len(bords['s'])-1):\\n                new_ratings.loc[len(new_ratings)] = [\\n                    bords['x'][x:x+2], bords['m'][m:m+2], bords['a'][a:a+2], bords['s'][s:s+2]\\n                ]\\n\\nlen(new_ratings)\\n\""
      ]
     },
     "execution_count": 15,
     "metadata": {},
     "output_type": "execute_result"
    }
   ],
   "source": [
    "# Trop long\n",
    "\n",
    "\"\"\"\n",
    "new_ratings = pd.DataFrame(columns=['x', 'm', 'a', 's'])\n",
    "for x in tqdm(range(len(bords['x'])-1)):\n",
    "    for m in range(len(bords['m'])-1):\n",
    "        for a in range(len(bords['a'])-1):\n",
    "            for s in range(len(bords['s'])-1):\n",
    "                new_ratings.loc[len(new_ratings)] = [\n",
    "                    bords['x'][x:x+2], bords['m'][m:m+2], bords['a'][a:a+2], bords['s'][s:s+2]\n",
    "                ]\n",
    "\n",
    "len(new_ratings)\n",
    "\"\"\""
   ]
  },
  {
   "cell_type": "markdown",
   "id": "e941c0cc-ac35-47a0-9119-0b5d6299ad83",
   "metadata": {},
   "source": [
    "### Idée J5 - Partie 2"
   ]
  },
  {
   "cell_type": "code",
   "execution_count": 16,
   "id": "00c15a1c-1b47-4d2a-a9bc-06645adaeca3",
   "metadata": {},
   "outputs": [],
   "source": [
    "new_ratings = pd.DataFrame(columns=['x', 'm', 'a', 's'])\n",
    "new_ratings.loc[0] = [\n",
    "    [min_accepted, max_accepted],\n",
    "    [min_accepted, max_accepted],\n",
    "    [min_accepted, max_accepted],\n",
    "    [min_accepted, max_accepted]\n",
    "]"
   ]
  },
  {
   "cell_type": "code",
   "execution_count": 17,
   "id": "5bf942cb-423d-4d86-9a9b-3c7586046113",
   "metadata": {},
   "outputs": [
    {
     "data": {
      "text/html": [
       "<div>\n",
       "<style scoped>\n",
       "    .dataframe tbody tr th:only-of-type {\n",
       "        vertical-align: middle;\n",
       "    }\n",
       "\n",
       "    .dataframe tbody tr th {\n",
       "        vertical-align: top;\n",
       "    }\n",
       "\n",
       "    .dataframe thead th {\n",
       "        text-align: right;\n",
       "    }\n",
       "</style>\n",
       "<table border=\"1\" class=\"dataframe\">\n",
       "  <thead>\n",
       "    <tr style=\"text-align: right;\">\n",
       "      <th></th>\n",
       "      <th>x</th>\n",
       "      <th>m</th>\n",
       "      <th>a</th>\n",
       "      <th>s</th>\n",
       "    </tr>\n",
       "  </thead>\n",
       "  <tbody>\n",
       "    <tr>\n",
       "      <th>0</th>\n",
       "      <td>[1, 4000]</td>\n",
       "      <td>[1, 4000]</td>\n",
       "      <td>[1, 4000]</td>\n",
       "      <td>[1, 4000]</td>\n",
       "    </tr>\n",
       "  </tbody>\n",
       "</table>\n",
       "</div>"
      ],
      "text/plain": [
       "           x          m          a          s\n",
       "0  [1, 4000]  [1, 4000]  [1, 4000]  [1, 4000]"
      ]
     },
     "execution_count": 17,
     "metadata": {},
     "output_type": "execute_result"
    }
   ],
   "source": [
    "new_ratings"
   ]
  },
  {
   "cell_type": "code",
   "execution_count": 18,
   "id": "96db6459-f61d-4ae0-88ab-742841f222c8",
   "metadata": {},
   "outputs": [],
   "source": [
    "def creer_tranches(row, condition):\n",
    "        j = len(new_ratings)\n",
    "        if condition[1] == \"<\":\n",
    "            if (\n",
    "                new_ratings.loc[row, condition[0]][0] < condition[2]\n",
    "            ) and (\n",
    "                condition[2] <= new_ratings.loc[row, condition[0]][1]\n",
    "            ):\n",
    "                new_ratings.loc[j] = new_ratings.loc[row]\n",
    "                new_ratings.loc[j, condition[0]] = [condition[2], new_ratings.loc[row, condition[0]][1]]\n",
    "                new_ratings.loc[row, condition[0]] = [new_ratings.loc[row, condition[0]][0], condition[2]-1]\n",
    "        if condition[1] == \">\":\n",
    "            if (\n",
    "                new_ratings.loc[row, condition[0]][0] <= condition[2]\n",
    "            ) and (\n",
    "                condition[2] < new_ratings.loc[row, condition[0]][1]\n",
    "            ):\n",
    "                new_ratings.loc[j] = new_ratings.loc[row]\n",
    "                new_ratings.loc[j, condition[0]] = [condition[2]+1, new_ratings.loc[row, condition[0]][1]]\n",
    "                new_ratings.loc[row, condition[0]] = [new_ratings.loc[row, condition[0]][0], condition[2]]"
   ]
  },
  {
   "cell_type": "code",
   "execution_count": 19,
   "id": "37f7b2ef-6478-4514-ba0f-761973980ecc",
   "metadata": {},
   "outputs": [],
   "source": [
    "def complete_new_ratings():\n",
    "    for workflow in workflows.values():\n",
    "        for condition in workflow:\n",
    "            if len(condition)>1:\n",
    "                k = len(new_ratings)\n",
    "                for i in range(k):\n",
    "                    creer_tranches(i, condition)"
   ]
  },
  {
   "cell_type": "code",
   "execution_count": 20,
   "id": "b5f12c02-3380-4bfa-8298-73a1dd3a6394",
   "metadata": {},
   "outputs": [
    {
     "data": {
      "text/plain": [
       "400"
      ]
     },
     "execution_count": 20,
     "metadata": {},
     "output_type": "execute_result"
    }
   ],
   "source": [
    "complete_new_ratings()\n",
    "len(new_ratings)"
   ]
  },
  {
   "cell_type": "code",
   "execution_count": 21,
   "id": "af02abd6-c7be-4d0e-a20b-e7c51a3d1463",
   "metadata": {},
   "outputs": [],
   "source": [
    "def is_accepted_part_2(row, workflow_name='in'):\n",
    "    workflow = workflows[workflow_name]\n",
    "    k = 0\n",
    "    while len(workflow[k]) != 1:\n",
    "        if workflow[k][1] == \"<\" and row[workflow[k][0]][0] < workflow[k][2]:\n",
    "            break\n",
    "        if workflow[k][1] == \">\" and row[workflow[k][0]][0]  > workflow[k][2]:\n",
    "            break\n",
    "        k += 1\n",
    "    if workflow[k][-1] in [\"A\", \"R\"]:\n",
    "        return workflow[k][-1]\n",
    "    return is_accepted_part_2(row, workflow[k][-1])\n"
   ]
  },
  {
   "cell_type": "code",
   "execution_count": 22,
   "id": "2eb0faf4-2e63-4009-8576-d4ed7e224ea1",
   "metadata": {},
   "outputs": [],
   "source": [
    "new_ratings[\"accepted\"] = new_ratings.apply(is_accepted_part_2, axis=1)"
   ]
  },
  {
   "cell_type": "code",
   "execution_count": 23,
   "id": "faf7b377-16bd-426e-ba31-5048e345dcb0",
   "metadata": {},
   "outputs": [],
   "source": [
    "new_accepted_ratings = new_ratings[new_ratings[\"accepted\"] == \"A\"][['x', 'm', 'a', 's']]\n",
    "\n",
    "for col in new_accepted_ratings.columns:\n",
    "    new_accepted_ratings[col] = new_accepted_ratings[col].apply(lambda x: x[1] - x[0] + 1)\n",
    "\n",
    "nb_accepted_ratings = new_accepted_ratings.product(axis=1).sum()"
   ]
  },
  {
   "cell_type": "code",
   "execution_count": 24,
   "id": "b951153e-5c55-43c0-9f49-c357a1c7b3de",
   "metadata": {},
   "outputs": [
    {
     "data": {
      "text/plain": [
       "167409079868000"
      ]
     },
     "execution_count": 24,
     "metadata": {},
     "output_type": "execute_result"
    }
   ],
   "source": [
    "nb_accepted_ratings"
   ]
  },
  {
   "cell_type": "code",
   "execution_count": null,
   "id": "ea62c99f-e7d4-4e20-adf1-f98742eb99f9",
   "metadata": {},
   "outputs": [],
   "source": []
  }
 ],
 "metadata": {
  "kernelspec": {
   "display_name": "Python 3 (ipykernel)",
   "language": "python",
   "name": "python3"
  },
  "language_info": {
   "codemirror_mode": {
    "name": "ipython",
    "version": 3
   },
   "file_extension": ".py",
   "mimetype": "text/x-python",
   "name": "python",
   "nbconvert_exporter": "python",
   "pygments_lexer": "ipython3",
   "version": "3.10.13"
  }
 },
 "nbformat": 4,
 "nbformat_minor": 5
}
